{
 "cells": [
  {
   "cell_type": "markdown",
   "metadata": {},
   "source": [
    "## Imports and Constants"
   ]
  },
  {
   "cell_type": "code",
   "execution_count": 1,
   "metadata": {},
   "outputs": [
    {
     "name": "stdout",
     "output_type": "stream",
     "text": [
      "E:\\africa_poverty_clean-main\n"
     ]
    }
   ],
   "source": [
    "%load_ext autoreload\n",
    "%autoreload 2\n",
    "\n",
    "# change directory to repo root, and verify\n",
    "%cd E:\\africa_poverty_clean-main\n",
    "# !pwd"
   ]
  },
  {
   "cell_type": "code",
   "execution_count": 2,
   "metadata": {},
   "outputs": [],
   "source": [
    "from __future__ import annotations\n",
    "\n",
    "import math\n",
    "from typing import Any, Optional\n",
    "\n",
    "import ee\n",
    "import geemap\n",
    "import os\n",
    "os.environ['HTTP_PROXY'] = 'http://127.0.0.1:25378'\n",
    "os.environ['HTTPS_PROXY'] = 'http://127.0.0.1:25378'\n",
    "import pandas as pd\n",
    "\n",
    "from preprocessing import ee_utils_temp\n",
    "from operator import itemgetter\n",
    "import matplotlib.pyplot as plt\n",
    "from tqdm import tqdm\n",
    "import time"
   ]
  },
  {
   "cell_type": "code",
   "execution_count": null,
   "metadata": {
    "scrolled": true
   },
   "outputs": [
    {
     "data": {
      "text/html": [
       "<p>To authorize access needed by Earth Engine, open the following\n",
       "        URL in a web browser and follow the instructions:</p>\n",
       "        <p><a href=https://accounts.google.com/o/oauth2/auth?client_id=517222506229-vsmmajv00ul0bs7p89v5m89qs8eb9359.apps.googleusercontent.com&scope=https%3A%2F%2Fwww.googleapis.com%2Fauth%2Fearthengine+https%3A%2F%2Fwww.googleapis.com%2Fauth%2Fdevstorage.full_control&redirect_uri=urn%3Aietf%3Awg%3Aoauth%3A2.0%3Aoob&response_type=code&code_challenge=eAbC1AdQ3NEbwqtbdZQZd0JauxHh63ge1i6z9zTowwA&code_challenge_method=S256>https://accounts.google.com/o/oauth2/auth?client_id=517222506229-vsmmajv00ul0bs7p89v5m89qs8eb9359.apps.googleusercontent.com&scope=https%3A%2F%2Fwww.googleapis.com%2Fauth%2Fearthengine+https%3A%2F%2Fwww.googleapis.com%2Fauth%2Fdevstorage.full_control&redirect_uri=urn%3Aietf%3Awg%3Aoauth%3A2.0%3Aoob&response_type=code&code_challenge=eAbC1AdQ3NEbwqtbdZQZd0JauxHh63ge1i6z9zTowwA&code_challenge_method=S256</a></p>\n",
       "        <p>The authorization workflow will generate a code, which you\n",
       "        should paste in the box below</p>\n",
       "        "
      ],
      "text/plain": [
       "<IPython.core.display.HTML object>"
      ]
     },
     "metadata": {},
     "output_type": "display_data"
    }
   ],
   "source": [
    "ee.Authenticate() # 可以忽略"
   ]
  },
  {
   "cell_type": "code",
   "execution_count": 3,
   "metadata": {},
   "outputs": [],
   "source": [
    "ee.Initialize()  # initialize the Earth Engine API 挂着"
   ]
  },
  {
   "cell_type": "markdown",
   "metadata": {},
   "source": [
    "## Constants"
   ]
  },
  {
   "cell_type": "code",
   "execution_count": 4,
   "metadata": {},
   "outputs": [],
   "source": [
    "# ========== ADAPT THESE PARAMETERS ==========\n",
    "# export location parameters\n",
    "OUTPUTS_ROOT_DIR = 'data'\n",
    "DHS_TEMP_EXPORT_FOLDER = 'dhs_temp_raw'"
   ]
  },
  {
   "cell_type": "markdown",
   "metadata": {},
   "source": [
    "## Export max_temperature"
   ]
  },
  {
   "cell_type": "code",
   "execution_count": 5,
   "metadata": {},
   "outputs": [],
   "source": [
    "def surveyyear_to_range(survey_year: int) -> tuple[str, str]:\n",
    "    '''Returns the start and end dates for filtering satellite images for a year.\n",
    "\n",
    "    Args\n",
    "    - survey_year: int, year that survey was started\n",
    "\n",
    "    Returns\n",
    "    - start_date: str, start date for filtering satellite images (yyyy-mm-dd)\n",
    "    - end_date: str, end date for filtering satellite images (yyyy-mm-dd)\n",
    "    '''\n",
    "    start_date = str(survey_year) + '-1-1'\n",
    "    end_date = str(survey_year + 1) + '-1-1'\n",
    "    return start_date, end_date"
   ]
  },
  {
   "cell_type": "code",
   "execution_count": 6,
   "metadata": {},
   "outputs": [],
   "source": [
    "def export_max_temp(df: pd.DataFrame,\n",
    "                    country: str,\n",
    "                    year: int\n",
    "                    ) -> pd.DataFrame:\n",
    "    '''\n",
    "    Args\n",
    "    - df: pd.DataFrame, contains columns ['lat', 'lon', 'country', 'year']\n",
    "    - country: str, together with `year` determines the survey to export\n",
    "    - year: int, together with `country` determines the survey to export\n",
    "\n",
    "    Returns: pd.DataFrame, contains max_temperature\n",
    "    '''\n",
    "    \n",
    "    # 获取特定国家特定年份的dhs子数据集\n",
    "    subset_df = df[(df['country'] == country) & (df['year'] == year)].reset_index(drop=True)\n",
    "    \n",
    "    # 获取该年份的imageCollection\n",
    "    start_date, end_date = surveyyear_to_range(year)\n",
    "    imageCollection = ee.ImageCollection('ECMWF/ERA5/DAILY').filterDate(start_date, end_date)\n",
    "    \n",
    "    for i in tqdm(range(len(subset_df)), position=0):\n",
    "        props = df.iloc[i].to_dict()\n",
    "        geometry = ee.Geometry.Point([\n",
    "            props['lon'],\n",
    "            props['lat'],\n",
    "        ])\n",
    "        \n",
    "        def maxTempCal(image):\n",
    "            mt_2m = image.reduceRegion(**{\n",
    "                'reducer':ee.Reducer.max(),\n",
    "                'geometry':geometry,\n",
    "                'bestEffort':True\n",
    "            })\n",
    "            # 转换为摄氏度\n",
    "            mt_cel = ee.Number(mt_2m.get('maximum_2m_air_temperature')).subtract(273.15)\n",
    "            # 增加新的属性\n",
    "            return image.set({'max_air_temp':mt_cel})\n",
    "        \n",
    "        # 获取日最高温度，进行相应区域范围筛选\n",
    "        era5_mt = imageCollection.filterBounds(geometry)\n",
    "        max_airTemp = era5_mt.map(maxTempCal).aggregate_array('max_air_temp').getInfo()\n",
    "    \n",
    "        # 获取相应区域范围的年最高温度\n",
    "        MAX_airTemp = max(max_airTemp)\n",
    "        subset_df.loc[i,'max_temperature'] = MAX_airTemp\n",
    "        time.sleep(0.05)\n",
    "    \n",
    "    print(subset_df)    \n",
    "    # 将subset_df保存下来\n",
    "    fname = f'{country}_{year}.csv'\n",
    "    subset_df.to_csv(os.path.join(OUTPUTS_ROOT_DIR, DHS_TEMP_EXPORT_FOLDER, fname))\n",
    "    \n",
    "    return subset_df"
   ]
  },
  {
   "cell_type": "code",
   "execution_count": 35,
   "metadata": {},
   "outputs": [],
   "source": [
    "DHS_CSV_PATH = 'data/dhs_clusters_19047.csv'\n",
    "dhs_df = pd.read_csv(DHS_CSV_PATH, float_precision='high', index_col=False)\n",
    "dhs_df['max_temperature'] = ''\n",
    "dhs_surveys = list(dhs_df.groupby(['country', 'year']).groups.keys())"
   ]
  },
  {
   "cell_type": "code",
   "execution_count": 28,
   "metadata": {},
   "outputs": [
    {
     "name": "stdout",
     "output_type": "stream",
     "text": [
      "getting max temperature:  angola _ 2011\n"
     ]
    },
    {
     "name": "stderr",
     "output_type": "stream",
     "text": [
      "100%|████████████████████████████████████████████████████████████████████████████████| 230/230 [02:58<00:00,  1.24it/s]\n"
     ]
    },
    {
     "name": "stdout",
     "output_type": "stream",
     "text": [
      "     country_labels country  year        lat        lon   GID_1     GID_2  \\\n",
      "0                 0  angola  2011 -12.350257  13.534922   AGO.2   AGO.2.9   \n",
      "1                 0  angola  2011 -12.360865  13.551494   AGO.2   AGO.2.9   \n",
      "2                 0  angola  2011 -12.613421  13.413085   AGO.2   AGO.2.3   \n",
      "3                 0  angola  2011 -12.581454  13.397711   AGO.2   AGO.2.3   \n",
      "4                 0  angola  2011 -12.578135  13.418748   AGO.2   AGO.2.3   \n",
      "..              ...     ...   ...        ...        ...     ...       ...   \n",
      "225               0  angola  2011  -8.825431  13.268597  AGO.11  AGO.11.6   \n",
      "226               0  angola  2011  -8.800267  13.336221  AGO.11  AGO.11.1   \n",
      "227               0  angola  2011  -8.804814  13.322053  AGO.11  AGO.11.1   \n",
      "228               0  angola  2011  -8.799253  13.330840  AGO.11  AGO.11.1   \n",
      "229               0  angola  2011  -8.776135  13.317466  AGO.11  AGO.11.1   \n",
      "\n",
      "     wealthpooled  households  urban_rural max_temperature  \n",
      "0        2.595618          36            1         30.0591  \n",
      "1        2.209620          32            1         30.0591  \n",
      "2        0.906469          36            1         30.1546  \n",
      "3        1.105359          35            1         30.1546  \n",
      "4        1.879344          37            1         30.1546  \n",
      "..            ...         ...          ...             ...  \n",
      "225      1.974407          37            1         33.5941  \n",
      "226      1.432457          33            1         33.5941  \n",
      "227      1.294893          35            1         33.5941  \n",
      "228      1.283602          35            1         33.5941  \n",
      "229      1.470008          35            1         33.5941  \n",
      "\n",
      "[230 rows x 11 columns]\n",
      "getting max temperature:  angola _ 2015\n"
     ]
    },
    {
     "name": "stderr",
     "output_type": "stream",
     "text": [
      "100%|████████████████████████████████████████████████████████████████████████████████| 625/625 [14:44<00:00,  2.63s/it]\n"
     ]
    },
    {
     "name": "stdout",
     "output_type": "stream",
     "text": [
      "     country_labels country  year        lat        lon   GID_1     GID_2  \\\n",
      "0                 0  angola  2015 -12.101381  14.140703   AGO.2   AGO.2.4   \n",
      "1                 0  angola  2015  -9.663518  20.377014  AGO.13  AGO.13.4   \n",
      "2                 0  angola  2015  -8.928897  13.299542  AGO.11  AGO.11.9   \n",
      "3                 0  angola  2015 -14.287585  17.621653   AGO.5   AGO.5.7   \n",
      "4                 0  angola  2015 -14.211038  13.546263  AGO.16  AGO.16.1   \n",
      "..              ...     ...   ...        ...        ...     ...       ...   \n",
      "620               0  angola  2015 -11.798544  19.915291  AGO.15  AGO.15.9   \n",
      "621               0  angola  2015  -9.654975  20.421765  AGO.13  AGO.13.4   \n",
      "622               0  angola  2015  -8.455406  13.394526   AGO.1   AGO.1.2   \n",
      "623               0  angola  2015  -9.414829  15.747933  AGO.14  AGO.14.1   \n",
      "624               0  angola  2015  -8.774025  13.249513  AGO.11  AGO.11.3   \n",
      "\n",
      "     wealthpooled  households  urban_rural max_temperature  \n",
      "0       -0.992088          26            0         29.2034  \n",
      "1        0.840119          26            1         29.2034  \n",
      "2        1.710241          10            1         29.7591  \n",
      "3       -0.436500          26            0         29.7591  \n",
      "4       -0.981815          26            0         29.7591  \n",
      "..            ...         ...          ...             ...  \n",
      "620      1.436605          25            1         28.7466  \n",
      "621      0.480800          26            1         32.0677  \n",
      "622     -0.305726          24            0         28.7466  \n",
      "623     -0.300982          26            1         33.2716  \n",
      "624      1.988548          26            1          37.009  \n",
      "\n",
      "[625 rows x 11 columns]\n",
      "getting max temperature:  benin _ 2012\n"
     ]
    },
    {
     "name": "stderr",
     "output_type": "stream",
     "text": [
      "100%|████████████████████████████████████████████████████████████████████████████████| 746/746 [28:34<00:00,  2.69s/it]\n"
     ]
    },
    {
     "name": "stdout",
     "output_type": "stream",
     "text": [
      "     country_labels country  year        lat       lon   GID_1     GID_2  \\\n",
      "0                 1   benin  2012  11.379281  2.439875   BEN.1   BEN.1.1   \n",
      "1                 1   benin  2012  11.304136  2.421974   BEN.1   BEN.1.1   \n",
      "2                 1   benin  2012  11.565124  2.535826   BEN.1   BEN.1.1   \n",
      "3                 1   benin  2012  11.475961  2.535325   BEN.1   BEN.1.1   \n",
      "4                 1   benin  2012  11.368450  2.465992   BEN.1   BEN.1.1   \n",
      "..              ...     ...   ...        ...       ...     ...       ...   \n",
      "741               1   benin  2012   6.984970  2.385422  BEN.12  BEN.12.9   \n",
      "742               1   benin  2012   7.023221  2.218997  BEN.12  BEN.12.9   \n",
      "743               1   benin  2012   7.046920  2.143573  BEN.12  BEN.12.9   \n",
      "744               1   benin  2012   7.061922  2.176342  BEN.12  BEN.12.9   \n",
      "745               1   benin  2012   7.076468  2.125786  BEN.12  BEN.12.9   \n",
      "\n",
      "     wealthpooled  households  urban_rural max_temperature  \n",
      "0       -0.343858          22            1         28.4329  \n",
      "1        0.762932          19            1         28.4329  \n",
      "2       -0.222390          22            0         28.3202  \n",
      "3       -0.119783          22            0         28.3202  \n",
      "4       -0.213007          23            0         28.3202  \n",
      "..            ...         ...          ...             ...  \n",
      "741     -0.577439          22            0          31.801  \n",
      "742     -0.286844          23            0         33.5354  \n",
      "743     -0.180309          21            0         30.8482  \n",
      "744     -0.486623          21            0         32.3096  \n",
      "745     -0.221894          23            0         38.2457  \n",
      "\n",
      "[746 rows x 11 columns]\n",
      "getting max temperature:  burkina_faso _ 2010\n"
     ]
    },
    {
     "name": "stderr",
     "output_type": "stream",
     "text": [
      "100%|████████████████████████████████████████████████████████████████████████████████| 541/541 [36:05<00:00,  2.41s/it]\n"
     ]
    },
    {
     "name": "stdout",
     "output_type": "stream",
     "text": [
      "     country_labels       country  year        lat       lon   GID_1  \\\n",
      "0                 2  burkina_faso  2010  10.109415 -2.807555  BFA.13   \n",
      "1                 2  burkina_faso  2010  10.388513 -3.907798   BFA.2   \n",
      "2                 2  burkina_faso  2010   9.882864 -2.925703  BFA.13   \n",
      "3                 2  burkina_faso  2010  13.573418 -2.163120  BFA.10   \n",
      "4                 2  burkina_faso  2010  12.453299 -3.461899   BFA.1   \n",
      "..              ...           ...   ...        ...       ...     ...   \n",
      "536               2  burkina_faso  2010  11.689309  0.068627   BFA.3   \n",
      "537               2  burkina_faso  2010  11.052767 -4.008397   BFA.9   \n",
      "538               2  burkina_faso  2010  11.402245 -3.334481   BFA.9   \n",
      "539               2  burkina_faso  2010  10.626241 -4.760326   BFA.2   \n",
      "540               2  burkina_faso  2010  10.759897 -5.365348   BFA.2   \n",
      "\n",
      "        GID_2  wealthpooled  households  urban_rural max_temperature  \n",
      "0    BFA.13.3     -0.689722          25            0         29.2391  \n",
      "1     BFA.2.1     -0.408189          25            0         29.2391  \n",
      "2    BFA.13.3     -0.236631          24            1         29.6105  \n",
      "3    BFA.10.3     -0.280593          25            0         29.6105  \n",
      "4     BFA.1.4     -0.723366          26            0         29.6105  \n",
      "..        ...           ...         ...          ...             ...  \n",
      "536   BFA.3.2     -0.523666          23            0          34.898  \n",
      "537   BFA.9.1     -0.352190          26            0         33.3604  \n",
      "538   BFA.9.3     -0.545232          24            0         33.5586  \n",
      "539   BFA.2.1      0.669011          22            1         35.1928  \n",
      "540   BFA.2.2     -0.394912          26            0         33.3604  \n",
      "\n",
      "[541 rows x 11 columns]\n",
      "getting max temperature:  burkina_faso _ 2014\n"
     ]
    },
    {
     "name": "stderr",
     "output_type": "stream",
     "text": [
      " 38%|███████████████████████████████                                                  | 95/248 [04:00<05:54,  2.32s/it]"
     ]
    },
    {
     "ename": "ProxyError",
     "evalue": "('Cannot connect to proxy.', RemoteDisconnected('Remote end closed connection without response'))",
     "output_type": "error",
     "traceback": [
      "\u001b[1;31m---------------------------------------------------------------------------\u001b[0m",
      "\u001b[1;31mRemoteDisconnected\u001b[0m                        Traceback (most recent call last)",
      "\u001b[1;32m~\\Anaconda3\\lib\\site-packages\\urllib3\\connectionpool.py\u001b[0m in \u001b[0;36murlopen\u001b[1;34m(self, method, url, body, headers, retries, redirect, assert_same_host, timeout, pool_timeout, release_conn, chunked, body_pos, **response_kw)\u001b[0m\n\u001b[0;32m    599\u001b[0m                                                   \u001b[0mbody\u001b[0m\u001b[1;33m=\u001b[0m\u001b[0mbody\u001b[0m\u001b[1;33m,\u001b[0m \u001b[0mheaders\u001b[0m\u001b[1;33m=\u001b[0m\u001b[0mheaders\u001b[0m\u001b[1;33m,\u001b[0m\u001b[1;33m\u001b[0m\u001b[0m\n\u001b[1;32m--> 600\u001b[1;33m                                                   chunked=chunked)\n\u001b[0m\u001b[0;32m    601\u001b[0m \u001b[1;33m\u001b[0m\u001b[0m\n",
      "\u001b[1;32m~\\Anaconda3\\lib\\site-packages\\urllib3\\connectionpool.py\u001b[0m in \u001b[0;36m_make_request\u001b[1;34m(self, conn, method, url, timeout, chunked, **httplib_request_kw)\u001b[0m\n\u001b[0;32m    383\u001b[0m                     \u001b[1;31m# otherwise it looks like a programming error was the cause.\u001b[0m\u001b[1;33m\u001b[0m\u001b[1;33m\u001b[0m\u001b[0m\n\u001b[1;32m--> 384\u001b[1;33m                     \u001b[0msix\u001b[0m\u001b[1;33m.\u001b[0m\u001b[0mraise_from\u001b[0m\u001b[1;33m(\u001b[0m\u001b[0me\u001b[0m\u001b[1;33m,\u001b[0m \u001b[1;32mNone\u001b[0m\u001b[1;33m)\u001b[0m\u001b[1;33m\u001b[0m\u001b[0m\n\u001b[0m\u001b[0;32m    385\u001b[0m         \u001b[1;32mexcept\u001b[0m \u001b[1;33m(\u001b[0m\u001b[0mSocketTimeout\u001b[0m\u001b[1;33m,\u001b[0m \u001b[0mBaseSSLError\u001b[0m\u001b[1;33m,\u001b[0m \u001b[0mSocketError\u001b[0m\u001b[1;33m)\u001b[0m \u001b[1;32mas\u001b[0m \u001b[0me\u001b[0m\u001b[1;33m:\u001b[0m\u001b[1;33m\u001b[0m\u001b[0m\n",
      "\u001b[1;32m~\\Anaconda3\\lib\\site-packages\\urllib3\\packages\\six.py\u001b[0m in \u001b[0;36mraise_from\u001b[1;34m(value, from_value)\u001b[0m\n",
      "\u001b[1;32m~\\Anaconda3\\lib\\site-packages\\urllib3\\connectionpool.py\u001b[0m in \u001b[0;36m_make_request\u001b[1;34m(self, conn, method, url, timeout, chunked, **httplib_request_kw)\u001b[0m\n\u001b[0;32m    379\u001b[0m                 \u001b[1;32mtry\u001b[0m\u001b[1;33m:\u001b[0m\u001b[1;33m\u001b[0m\u001b[0m\n\u001b[1;32m--> 380\u001b[1;33m                     \u001b[0mhttplib_response\u001b[0m \u001b[1;33m=\u001b[0m \u001b[0mconn\u001b[0m\u001b[1;33m.\u001b[0m\u001b[0mgetresponse\u001b[0m\u001b[1;33m(\u001b[0m\u001b[1;33m)\u001b[0m\u001b[1;33m\u001b[0m\u001b[0m\n\u001b[0m\u001b[0;32m    381\u001b[0m                 \u001b[1;32mexcept\u001b[0m \u001b[0mException\u001b[0m \u001b[1;32mas\u001b[0m \u001b[0me\u001b[0m\u001b[1;33m:\u001b[0m\u001b[1;33m\u001b[0m\u001b[0m\n",
      "\u001b[1;32m~\\Anaconda3\\lib\\http\\client.py\u001b[0m in \u001b[0;36mgetresponse\u001b[1;34m(self)\u001b[0m\n\u001b[0;32m   1320\u001b[0m             \u001b[1;32mtry\u001b[0m\u001b[1;33m:\u001b[0m\u001b[1;33m\u001b[0m\u001b[0m\n\u001b[1;32m-> 1321\u001b[1;33m                 \u001b[0mresponse\u001b[0m\u001b[1;33m.\u001b[0m\u001b[0mbegin\u001b[0m\u001b[1;33m(\u001b[0m\u001b[1;33m)\u001b[0m\u001b[1;33m\u001b[0m\u001b[0m\n\u001b[0m\u001b[0;32m   1322\u001b[0m             \u001b[1;32mexcept\u001b[0m \u001b[0mConnectionError\u001b[0m\u001b[1;33m:\u001b[0m\u001b[1;33m\u001b[0m\u001b[0m\n",
      "\u001b[1;32m~\\Anaconda3\\lib\\http\\client.py\u001b[0m in \u001b[0;36mbegin\u001b[1;34m(self)\u001b[0m\n\u001b[0;32m    295\u001b[0m         \u001b[1;32mwhile\u001b[0m \u001b[1;32mTrue\u001b[0m\u001b[1;33m:\u001b[0m\u001b[1;33m\u001b[0m\u001b[0m\n\u001b[1;32m--> 296\u001b[1;33m             \u001b[0mversion\u001b[0m\u001b[1;33m,\u001b[0m \u001b[0mstatus\u001b[0m\u001b[1;33m,\u001b[0m \u001b[0mreason\u001b[0m \u001b[1;33m=\u001b[0m \u001b[0mself\u001b[0m\u001b[1;33m.\u001b[0m\u001b[0m_read_status\u001b[0m\u001b[1;33m(\u001b[0m\u001b[1;33m)\u001b[0m\u001b[1;33m\u001b[0m\u001b[0m\n\u001b[0m\u001b[0;32m    297\u001b[0m             \u001b[1;32mif\u001b[0m \u001b[0mstatus\u001b[0m \u001b[1;33m!=\u001b[0m \u001b[0mCONTINUE\u001b[0m\u001b[1;33m:\u001b[0m\u001b[1;33m\u001b[0m\u001b[0m\n",
      "\u001b[1;32m~\\Anaconda3\\lib\\http\\client.py\u001b[0m in \u001b[0;36m_read_status\u001b[1;34m(self)\u001b[0m\n\u001b[0;32m    264\u001b[0m             \u001b[1;31m# sending a valid response.\u001b[0m\u001b[1;33m\u001b[0m\u001b[1;33m\u001b[0m\u001b[0m\n\u001b[1;32m--> 265\u001b[1;33m             raise RemoteDisconnected(\"Remote end closed connection without\"\n\u001b[0m\u001b[0;32m    266\u001b[0m                                      \" response\")\n",
      "\u001b[1;31mRemoteDisconnected\u001b[0m: Remote end closed connection without response",
      "\nDuring handling of the above exception, another exception occurred:\n",
      "\u001b[1;31mProxyError\u001b[0m                                Traceback (most recent call last)",
      "\u001b[1;32m<ipython-input-28-cf720c7a7a7f>\u001b[0m in \u001b[0;36m<module>\u001b[1;34m()\u001b[0m\n\u001b[0;32m      2\u001b[0m \u001b[1;32mfor\u001b[0m \u001b[0mcountry\u001b[0m\u001b[1;33m,\u001b[0m \u001b[0myear\u001b[0m \u001b[1;32min\u001b[0m \u001b[0mdhs_surveys\u001b[0m\u001b[1;33m:\u001b[0m\u001b[1;33m\u001b[0m\u001b[0m\n\u001b[0;32m      3\u001b[0m     \u001b[0mprint\u001b[0m\u001b[1;33m(\u001b[0m\u001b[1;34m\"getting max temperature: \"\u001b[0m\u001b[1;33m,\u001b[0m\u001b[0mcountry\u001b[0m\u001b[1;33m,\u001b[0m\u001b[1;34m\"_\"\u001b[0m\u001b[1;33m,\u001b[0m\u001b[0mstr\u001b[0m\u001b[1;33m(\u001b[0m\u001b[0myear\u001b[0m\u001b[1;33m)\u001b[0m\u001b[1;33m)\u001b[0m\u001b[1;33m\u001b[0m\u001b[0m\n\u001b[1;32m----> 4\u001b[1;33m     \u001b[0msubset_df\u001b[0m \u001b[1;33m=\u001b[0m \u001b[0mexport_max_temp\u001b[0m\u001b[1;33m(\u001b[0m\u001b[0mdf\u001b[0m\u001b[1;33m=\u001b[0m\u001b[0mdhs_df\u001b[0m\u001b[1;33m,\u001b[0m \u001b[0mcountry\u001b[0m\u001b[1;33m=\u001b[0m\u001b[0mcountry\u001b[0m\u001b[1;33m,\u001b[0m \u001b[0myear\u001b[0m\u001b[1;33m=\u001b[0m\u001b[0myear\u001b[0m\u001b[1;33m)\u001b[0m\u001b[1;33m\u001b[0m\u001b[0m\n\u001b[0m\u001b[0;32m      5\u001b[0m     \u001b[0mdhs_temp_19047\u001b[0m \u001b[1;33m=\u001b[0m \u001b[0mdhs_temp_19047\u001b[0m\u001b[1;33m.\u001b[0m\u001b[0mappend\u001b[0m\u001b[1;33m(\u001b[0m\u001b[0msubset_df\u001b[0m\u001b[1;33m,\u001b[0m\u001b[0mignore_index\u001b[0m\u001b[1;33m=\u001b[0m\u001b[1;32mTrue\u001b[0m\u001b[1;33m)\u001b[0m\u001b[1;33m\u001b[0m\u001b[0m\n\u001b[0;32m      6\u001b[0m \u001b[0mdhs_temp_19047\u001b[0m\u001b[1;33m.\u001b[0m\u001b[0mto_csv\u001b[0m\u001b[1;33m(\u001b[0m\u001b[0mos\u001b[0m\u001b[1;33m.\u001b[0m\u001b[0mpath\u001b[0m\u001b[1;33m.\u001b[0m\u001b[0mjoin\u001b[0m\u001b[1;33m(\u001b[0m\u001b[0mOUTPUTS_ROOT_DIR\u001b[0m\u001b[1;33m,\u001b[0m \u001b[1;34m'dhs_temp_19047.csv'\u001b[0m\u001b[1;33m)\u001b[0m\u001b[1;33m)\u001b[0m\u001b[1;33m\u001b[0m\u001b[0m\n",
      "\u001b[1;32m<ipython-input-26-750ae0f091a5>\u001b[0m in \u001b[0;36mexport_max_temp\u001b[1;34m(df, country, year)\u001b[0m\n\u001b[0;32m     39\u001b[0m         \u001b[1;31m# 获取日最高温度，进行相应区域范围筛选\u001b[0m\u001b[1;33m\u001b[0m\u001b[1;33m\u001b[0m\u001b[0m\n\u001b[0;32m     40\u001b[0m         \u001b[0mera5_mt\u001b[0m \u001b[1;33m=\u001b[0m \u001b[0mimageCollection\u001b[0m\u001b[1;33m.\u001b[0m\u001b[0mfilterBounds\u001b[0m\u001b[1;33m(\u001b[0m\u001b[0mgeometry\u001b[0m\u001b[1;33m)\u001b[0m\u001b[1;33m\u001b[0m\u001b[0m\n\u001b[1;32m---> 41\u001b[1;33m         \u001b[0mmax_airTemp\u001b[0m \u001b[1;33m=\u001b[0m \u001b[0mera5_mt\u001b[0m\u001b[1;33m.\u001b[0m\u001b[0mmap\u001b[0m\u001b[1;33m(\u001b[0m\u001b[0mmaxTempCal\u001b[0m\u001b[1;33m)\u001b[0m\u001b[1;33m.\u001b[0m\u001b[0maggregate_array\u001b[0m\u001b[1;33m(\u001b[0m\u001b[1;34m'max_air_temp'\u001b[0m\u001b[1;33m)\u001b[0m\u001b[1;33m.\u001b[0m\u001b[0mgetInfo\u001b[0m\u001b[1;33m(\u001b[0m\u001b[1;33m)\u001b[0m\u001b[1;33m\u001b[0m\u001b[0m\n\u001b[0m\u001b[0;32m     42\u001b[0m \u001b[1;33m\u001b[0m\u001b[0m\n\u001b[0;32m     43\u001b[0m         \u001b[1;31m# 获取相应区域范围的年最高温度\u001b[0m\u001b[1;33m\u001b[0m\u001b[1;33m\u001b[0m\u001b[0m\n",
      "\u001b[1;32m~\\Anaconda3\\lib\\site-packages\\ee\\computedobject.py\u001b[0m in \u001b[0;36mgetInfo\u001b[1;34m(self)\u001b[0m\n\u001b[0;32m     96\u001b[0m       \u001b[0mThe\u001b[0m \u001b[0mobject\u001b[0m \u001b[0mcan\u001b[0m \u001b[0mevaluate\u001b[0m \u001b[0mto\u001b[0m \u001b[0manything\u001b[0m\u001b[1;33m.\u001b[0m\u001b[1;33m\u001b[0m\u001b[0m\n\u001b[0;32m     97\u001b[0m     \"\"\"\n\u001b[1;32m---> 98\u001b[1;33m     \u001b[1;32mreturn\u001b[0m \u001b[0mdata\u001b[0m\u001b[1;33m.\u001b[0m\u001b[0mcomputeValue\u001b[0m\u001b[1;33m(\u001b[0m\u001b[0mself\u001b[0m\u001b[1;33m)\u001b[0m\u001b[1;33m\u001b[0m\u001b[0m\n\u001b[0m\u001b[0;32m     99\u001b[0m \u001b[1;33m\u001b[0m\u001b[0m\n\u001b[0;32m    100\u001b[0m   \u001b[1;32mdef\u001b[0m \u001b[0mencode\u001b[0m\u001b[1;33m(\u001b[0m\u001b[0mself\u001b[0m\u001b[1;33m,\u001b[0m \u001b[0mencoder\u001b[0m\u001b[1;33m)\u001b[0m\u001b[1;33m:\u001b[0m\u001b[1;33m\u001b[0m\u001b[0m\n",
      "\u001b[1;32m~\\Anaconda3\\lib\\site-packages\\ee\\data.py\u001b[0m in \u001b[0;36mcomputeValue\u001b[1;34m(obj)\u001b[0m\n\u001b[0;32m    737\u001b[0m           \u001b[0mbody\u001b[0m\u001b[1;33m=\u001b[0m\u001b[1;33m{\u001b[0m\u001b[1;34m'expression'\u001b[0m\u001b[1;33m:\u001b[0m \u001b[0mserializer\u001b[0m\u001b[1;33m.\u001b[0m\u001b[0mencode\u001b[0m\u001b[1;33m(\u001b[0m\u001b[0mobj\u001b[0m\u001b[1;33m,\u001b[0m \u001b[0mfor_cloud_api\u001b[0m\u001b[1;33m=\u001b[0m\u001b[1;32mTrue\u001b[0m\u001b[1;33m)\u001b[0m\u001b[1;33m}\u001b[0m\u001b[1;33m,\u001b[0m\u001b[1;33m\u001b[0m\u001b[0m\n\u001b[0;32m    738\u001b[0m           \u001b[0mproject\u001b[0m\u001b[1;33m=\u001b[0m\u001b[0m_get_projects_path\u001b[0m\u001b[1;33m(\u001b[0m\u001b[1;33m)\u001b[0m\u001b[1;33m,\u001b[0m\u001b[1;33m\u001b[0m\u001b[0m\n\u001b[1;32m--> 739\u001b[1;33m           prettyPrint=False))['result']\n\u001b[0m\u001b[0;32m    740\u001b[0m \u001b[1;33m\u001b[0m\u001b[0m\n\u001b[0;32m    741\u001b[0m \u001b[1;33m\u001b[0m\u001b[0m\n",
      "\u001b[1;32m~\\Anaconda3\\lib\\site-packages\\ee\\data.py\u001b[0m in \u001b[0;36m_execute_cloud_call\u001b[1;34m(call, num_retries)\u001b[0m\n\u001b[0;32m    328\u001b[0m   \"\"\"\n\u001b[0;32m    329\u001b[0m   \u001b[1;32mtry\u001b[0m\u001b[1;33m:\u001b[0m\u001b[1;33m\u001b[0m\u001b[0m\n\u001b[1;32m--> 330\u001b[1;33m     \u001b[1;32mreturn\u001b[0m \u001b[0mcall\u001b[0m\u001b[1;33m.\u001b[0m\u001b[0mexecute\u001b[0m\u001b[1;33m(\u001b[0m\u001b[0mnum_retries\u001b[0m\u001b[1;33m=\u001b[0m\u001b[0mnum_retries\u001b[0m\u001b[1;33m)\u001b[0m\u001b[1;33m\u001b[0m\u001b[0m\n\u001b[0m\u001b[0;32m    331\u001b[0m   \u001b[1;32mexcept\u001b[0m \u001b[0mgoogleapiclient\u001b[0m\u001b[1;33m.\u001b[0m\u001b[0merrors\u001b[0m\u001b[1;33m.\u001b[0m\u001b[0mHttpError\u001b[0m \u001b[1;32mas\u001b[0m \u001b[0me\u001b[0m\u001b[1;33m:\u001b[0m\u001b[1;33m\u001b[0m\u001b[0m\n\u001b[0;32m    332\u001b[0m     \u001b[1;32mraise\u001b[0m \u001b[0m_translate_cloud_exception\u001b[0m\u001b[1;33m(\u001b[0m\u001b[0me\u001b[0m\u001b[1;33m)\u001b[0m\u001b[1;33m\u001b[0m\u001b[0m\n",
      "\u001b[1;32m~\\Anaconda3\\lib\\site-packages\\googleapiclient\\_helpers.py\u001b[0m in \u001b[0;36mpositional_wrapper\u001b[1;34m(*args, **kwargs)\u001b[0m\n\u001b[0;32m    132\u001b[0m                 \u001b[1;32melif\u001b[0m \u001b[0mpositional_parameters_enforcement\u001b[0m \u001b[1;33m==\u001b[0m \u001b[0mPOSITIONAL_WARNING\u001b[0m\u001b[1;33m:\u001b[0m\u001b[1;33m\u001b[0m\u001b[0m\n\u001b[0;32m    133\u001b[0m                     \u001b[0mlogger\u001b[0m\u001b[1;33m.\u001b[0m\u001b[0mwarning\u001b[0m\u001b[1;33m(\u001b[0m\u001b[0mmessage\u001b[0m\u001b[1;33m)\u001b[0m\u001b[1;33m\u001b[0m\u001b[0m\n\u001b[1;32m--> 134\u001b[1;33m             \u001b[1;32mreturn\u001b[0m \u001b[0mwrapped\u001b[0m\u001b[1;33m(\u001b[0m\u001b[1;33m*\u001b[0m\u001b[0margs\u001b[0m\u001b[1;33m,\u001b[0m \u001b[1;33m**\u001b[0m\u001b[0mkwargs\u001b[0m\u001b[1;33m)\u001b[0m\u001b[1;33m\u001b[0m\u001b[0m\n\u001b[0m\u001b[0;32m    135\u001b[0m \u001b[1;33m\u001b[0m\u001b[0m\n\u001b[0;32m    136\u001b[0m         \u001b[1;32mreturn\u001b[0m \u001b[0mpositional_wrapper\u001b[0m\u001b[1;33m\u001b[0m\u001b[0m\n",
      "\u001b[1;32m~\\Anaconda3\\lib\\site-packages\\googleapiclient\\http.py\u001b[0m in \u001b[0;36mexecute\u001b[1;34m(self, http, num_retries)\u001b[0m\n\u001b[0;32m    907\u001b[0m             \u001b[0mmethod\u001b[0m\u001b[1;33m=\u001b[0m\u001b[0mstr\u001b[0m\u001b[1;33m(\u001b[0m\u001b[0mself\u001b[0m\u001b[1;33m.\u001b[0m\u001b[0mmethod\u001b[0m\u001b[1;33m)\u001b[0m\u001b[1;33m,\u001b[0m\u001b[1;33m\u001b[0m\u001b[0m\n\u001b[0;32m    908\u001b[0m             \u001b[0mbody\u001b[0m\u001b[1;33m=\u001b[0m\u001b[0mself\u001b[0m\u001b[1;33m.\u001b[0m\u001b[0mbody\u001b[0m\u001b[1;33m,\u001b[0m\u001b[1;33m\u001b[0m\u001b[0m\n\u001b[1;32m--> 909\u001b[1;33m             \u001b[0mheaders\u001b[0m\u001b[1;33m=\u001b[0m\u001b[0mself\u001b[0m\u001b[1;33m.\u001b[0m\u001b[0mheaders\u001b[0m\u001b[1;33m,\u001b[0m\u001b[1;33m\u001b[0m\u001b[0m\n\u001b[0m\u001b[0;32m    910\u001b[0m         )\n\u001b[0;32m    911\u001b[0m \u001b[1;33m\u001b[0m\u001b[0m\n",
      "\u001b[1;32m~\\Anaconda3\\lib\\site-packages\\googleapiclient\\http.py\u001b[0m in \u001b[0;36m_retry_request\u001b[1;34m(http, num_retries, req_type, sleep, rand, uri, method, *args, **kwargs)\u001b[0m\n\u001b[0;32m    175\u001b[0m         \u001b[1;32mtry\u001b[0m\u001b[1;33m:\u001b[0m\u001b[1;33m\u001b[0m\u001b[0m\n\u001b[0;32m    176\u001b[0m             \u001b[0mexception\u001b[0m \u001b[1;33m=\u001b[0m \u001b[1;32mNone\u001b[0m\u001b[1;33m\u001b[0m\u001b[0m\n\u001b[1;32m--> 177\u001b[1;33m             \u001b[0mresp\u001b[0m\u001b[1;33m,\u001b[0m \u001b[0mcontent\u001b[0m \u001b[1;33m=\u001b[0m \u001b[0mhttp\u001b[0m\u001b[1;33m.\u001b[0m\u001b[0mrequest\u001b[0m\u001b[1;33m(\u001b[0m\u001b[0muri\u001b[0m\u001b[1;33m,\u001b[0m \u001b[0mmethod\u001b[0m\u001b[1;33m,\u001b[0m \u001b[1;33m*\u001b[0m\u001b[0margs\u001b[0m\u001b[1;33m,\u001b[0m \u001b[1;33m**\u001b[0m\u001b[0mkwargs\u001b[0m\u001b[1;33m)\u001b[0m\u001b[1;33m\u001b[0m\u001b[0m\n\u001b[0m\u001b[0;32m    178\u001b[0m         \u001b[1;31m# Retry on SSL errors and socket timeout errors.\u001b[0m\u001b[1;33m\u001b[0m\u001b[1;33m\u001b[0m\u001b[0m\n\u001b[0;32m    179\u001b[0m         \u001b[1;32mexcept\u001b[0m \u001b[0m_ssl_SSLError\u001b[0m \u001b[1;32mas\u001b[0m \u001b[0mssl_error\u001b[0m\u001b[1;33m:\u001b[0m\u001b[1;33m\u001b[0m\u001b[0m\n",
      "\u001b[1;32m~\\Anaconda3\\lib\\site-packages\\google_auth_httplib2.py\u001b[0m in \u001b[0;36mrequest\u001b[1;34m(self, uri, method, body, headers, redirections, connection_type, **kwargs)\u001b[0m\n\u001b[0;32m    223\u001b[0m             \u001b[0mredirections\u001b[0m\u001b[1;33m=\u001b[0m\u001b[0mredirections\u001b[0m\u001b[1;33m,\u001b[0m\u001b[1;33m\u001b[0m\u001b[0m\n\u001b[0;32m    224\u001b[0m             \u001b[0mconnection_type\u001b[0m\u001b[1;33m=\u001b[0m\u001b[0mconnection_type\u001b[0m\u001b[1;33m,\u001b[0m\u001b[1;33m\u001b[0m\u001b[0m\n\u001b[1;32m--> 225\u001b[1;33m             \u001b[1;33m**\u001b[0m\u001b[0mkwargs\u001b[0m\u001b[1;33m\u001b[0m\u001b[0m\n\u001b[0m\u001b[0;32m    226\u001b[0m         )\n\u001b[0;32m    227\u001b[0m \u001b[1;33m\u001b[0m\u001b[0m\n",
      "\u001b[1;32m~\\Anaconda3\\lib\\site-packages\\httplib2\\__init__.py\u001b[0m in \u001b[0;36mrequest\u001b[1;34m(self, uri, method, body, headers, redirections, connection_type)\u001b[0m\n\u001b[0;32m   1710\u001b[0m                 \u001b[1;32melse\u001b[0m\u001b[1;33m:\u001b[0m\u001b[1;33m\u001b[0m\u001b[0m\n\u001b[0;32m   1711\u001b[0m                     (response, content) = self._request(\n\u001b[1;32m-> 1712\u001b[1;33m                         \u001b[0mconn\u001b[0m\u001b[1;33m,\u001b[0m \u001b[0mauthority\u001b[0m\u001b[1;33m,\u001b[0m \u001b[0muri\u001b[0m\u001b[1;33m,\u001b[0m \u001b[0mrequest_uri\u001b[0m\u001b[1;33m,\u001b[0m \u001b[0mmethod\u001b[0m\u001b[1;33m,\u001b[0m \u001b[0mbody\u001b[0m\u001b[1;33m,\u001b[0m \u001b[0mheaders\u001b[0m\u001b[1;33m,\u001b[0m \u001b[0mredirections\u001b[0m\u001b[1;33m,\u001b[0m \u001b[0mcachekey\u001b[0m\u001b[1;33m,\u001b[0m\u001b[1;33m\u001b[0m\u001b[0m\n\u001b[0m\u001b[0;32m   1713\u001b[0m                     )\n\u001b[0;32m   1714\u001b[0m         \u001b[1;32mexcept\u001b[0m \u001b[0mException\u001b[0m \u001b[1;32mas\u001b[0m \u001b[0me\u001b[0m\u001b[1;33m:\u001b[0m\u001b[1;33m\u001b[0m\u001b[0m\n",
      "\u001b[1;32m~\\Anaconda3\\lib\\site-packages\\httplib2\\__init__.py\u001b[0m in \u001b[0;36m_request\u001b[1;34m(self, conn, host, absolute_uri, request_uri, method, body, headers, redirections, cachekey)\u001b[0m\n\u001b[0;32m   1425\u001b[0m             \u001b[0mauth\u001b[0m\u001b[1;33m.\u001b[0m\u001b[0mrequest\u001b[0m\u001b[1;33m(\u001b[0m\u001b[0mmethod\u001b[0m\u001b[1;33m,\u001b[0m \u001b[0mrequest_uri\u001b[0m\u001b[1;33m,\u001b[0m \u001b[0mheaders\u001b[0m\u001b[1;33m,\u001b[0m \u001b[0mbody\u001b[0m\u001b[1;33m)\u001b[0m\u001b[1;33m\u001b[0m\u001b[0m\n\u001b[0;32m   1426\u001b[0m \u001b[1;33m\u001b[0m\u001b[0m\n\u001b[1;32m-> 1427\u001b[1;33m         \u001b[1;33m(\u001b[0m\u001b[0mresponse\u001b[0m\u001b[1;33m,\u001b[0m \u001b[0mcontent\u001b[0m\u001b[1;33m)\u001b[0m \u001b[1;33m=\u001b[0m \u001b[0mself\u001b[0m\u001b[1;33m.\u001b[0m\u001b[0m_conn_request\u001b[0m\u001b[1;33m(\u001b[0m\u001b[0mconn\u001b[0m\u001b[1;33m,\u001b[0m \u001b[0mrequest_uri\u001b[0m\u001b[1;33m,\u001b[0m \u001b[0mmethod\u001b[0m\u001b[1;33m,\u001b[0m \u001b[0mbody\u001b[0m\u001b[1;33m,\u001b[0m \u001b[0mheaders\u001b[0m\u001b[1;33m)\u001b[0m\u001b[1;33m\u001b[0m\u001b[0m\n\u001b[0m\u001b[0;32m   1428\u001b[0m \u001b[1;33m\u001b[0m\u001b[0m\n\u001b[0;32m   1429\u001b[0m         \u001b[1;32mif\u001b[0m \u001b[0mauth\u001b[0m\u001b[1;33m:\u001b[0m\u001b[1;33m\u001b[0m\u001b[0m\n",
      "\u001b[1;32m~\\Anaconda3\\lib\\site-packages\\httplib2shim\\__init__.py\u001b[0m in \u001b[0;36m_conn_request\u001b[1;34m(self, conn, request_uri, method, body, headers)\u001b[0m\n\u001b[0;32m    152\u001b[0m \u001b[1;33m\u001b[0m\u001b[0m\n\u001b[0;32m    153\u001b[0m         \u001b[1;32mexcept\u001b[0m \u001b[0mException\u001b[0m \u001b[1;32mas\u001b[0m \u001b[0me\u001b[0m\u001b[1;33m:\u001b[0m\u001b[1;33m\u001b[0m\u001b[0m\n\u001b[1;32m--> 154\u001b[1;33m             \u001b[1;32mraise\u001b[0m \u001b[0m_map_exception\u001b[0m\u001b[1;33m(\u001b[0m\u001b[0me\u001b[0m\u001b[1;33m)\u001b[0m\u001b[1;33m\u001b[0m\u001b[0m\n\u001b[0m\u001b[0;32m    155\u001b[0m \u001b[1;33m\u001b[0m\u001b[0m\n\u001b[0;32m    156\u001b[0m         \u001b[1;32mreturn\u001b[0m \u001b[0mresponse\u001b[0m\u001b[1;33m,\u001b[0m \u001b[0mcontent\u001b[0m\u001b[1;33m\u001b[0m\u001b[0m\n",
      "\u001b[1;32m~\\Anaconda3\\lib\\site-packages\\httplib2shim\\__init__.py\u001b[0m in \u001b[0;36m_conn_request\u001b[1;34m(self, conn, request_uri, method, body, headers)\u001b[0m\n\u001b[0;32m    146\u001b[0m                 \u001b[0mretries\u001b[0m\u001b[1;33m=\u001b[0m\u001b[0murllib3\u001b[0m\u001b[1;33m.\u001b[0m\u001b[0mRetry\u001b[0m\u001b[1;33m(\u001b[0m\u001b[0mtotal\u001b[0m\u001b[1;33m=\u001b[0m\u001b[1;32mFalse\u001b[0m\u001b[1;33m,\u001b[0m \u001b[0mredirect\u001b[0m\u001b[1;33m=\u001b[0m\u001b[1;36m0\u001b[0m\u001b[1;33m)\u001b[0m\u001b[1;33m,\u001b[0m\u001b[1;33m\u001b[0m\u001b[0m\n\u001b[0;32m    147\u001b[0m                 \u001b[0mtimeout\u001b[0m\u001b[1;33m=\u001b[0m\u001b[0murllib3\u001b[0m\u001b[1;33m.\u001b[0m\u001b[0mTimeout\u001b[0m\u001b[1;33m(\u001b[0m\u001b[0mtotal\u001b[0m\u001b[1;33m=\u001b[0m\u001b[0mself\u001b[0m\u001b[1;33m.\u001b[0m\u001b[0mtimeout\u001b[0m\u001b[1;33m)\u001b[0m\u001b[1;33m,\u001b[0m\u001b[1;33m\u001b[0m\u001b[0m\n\u001b[1;32m--> 148\u001b[1;33m                 decode_content=decode)\n\u001b[0m\u001b[0;32m    149\u001b[0m \u001b[1;33m\u001b[0m\u001b[0m\n\u001b[0;32m    150\u001b[0m             \u001b[0mresponse\u001b[0m \u001b[1;33m=\u001b[0m \u001b[0m_map_response\u001b[0m\u001b[1;33m(\u001b[0m\u001b[0murllib3_response\u001b[0m\u001b[1;33m,\u001b[0m \u001b[0mdecode\u001b[0m\u001b[1;33m=\u001b[0m\u001b[0mdecode\u001b[0m\u001b[1;33m)\u001b[0m\u001b[1;33m\u001b[0m\u001b[0m\n",
      "\u001b[1;32m~\\Anaconda3\\lib\\site-packages\\urllib3\\request.py\u001b[0m in \u001b[0;36mrequest\u001b[1;34m(self, method, url, fields, headers, **urlopen_kw)\u001b[0m\n\u001b[0;32m     70\u001b[0m             return self.request_encode_body(method, url, fields=fields,\n\u001b[0;32m     71\u001b[0m                                             \u001b[0mheaders\u001b[0m\u001b[1;33m=\u001b[0m\u001b[0mheaders\u001b[0m\u001b[1;33m,\u001b[0m\u001b[1;33m\u001b[0m\u001b[0m\n\u001b[1;32m---> 72\u001b[1;33m                                             **urlopen_kw)\n\u001b[0m\u001b[0;32m     73\u001b[0m \u001b[1;33m\u001b[0m\u001b[0m\n\u001b[0;32m     74\u001b[0m     def request_encode_url(self, method, url, fields=None, headers=None,\n",
      "\u001b[1;32m~\\Anaconda3\\lib\\site-packages\\urllib3\\request.py\u001b[0m in \u001b[0;36mrequest_encode_body\u001b[1;34m(self, method, url, fields, headers, encode_multipart, multipart_boundary, **urlopen_kw)\u001b[0m\n\u001b[0;32m    148\u001b[0m         \u001b[0mextra_kw\u001b[0m\u001b[1;33m.\u001b[0m\u001b[0mupdate\u001b[0m\u001b[1;33m(\u001b[0m\u001b[0murlopen_kw\u001b[0m\u001b[1;33m)\u001b[0m\u001b[1;33m\u001b[0m\u001b[0m\n\u001b[0;32m    149\u001b[0m \u001b[1;33m\u001b[0m\u001b[0m\n\u001b[1;32m--> 150\u001b[1;33m         \u001b[1;32mreturn\u001b[0m \u001b[0mself\u001b[0m\u001b[1;33m.\u001b[0m\u001b[0murlopen\u001b[0m\u001b[1;33m(\u001b[0m\u001b[0mmethod\u001b[0m\u001b[1;33m,\u001b[0m \u001b[0murl\u001b[0m\u001b[1;33m,\u001b[0m \u001b[1;33m**\u001b[0m\u001b[0mextra_kw\u001b[0m\u001b[1;33m)\u001b[0m\u001b[1;33m\u001b[0m\u001b[0m\n\u001b[0m",
      "\u001b[1;32m~\\Anaconda3\\lib\\site-packages\\urllib3\\poolmanager.py\u001b[0m in \u001b[0;36murlopen\u001b[1;34m(self, method, url, redirect, **kw)\u001b[0m\n\u001b[0;32m    443\u001b[0m             \u001b[0mkw\u001b[0m\u001b[1;33m[\u001b[0m\u001b[1;34m'headers'\u001b[0m\u001b[1;33m]\u001b[0m \u001b[1;33m=\u001b[0m \u001b[0mself\u001b[0m\u001b[1;33m.\u001b[0m\u001b[0m_set_proxy_headers\u001b[0m\u001b[1;33m(\u001b[0m\u001b[0murl\u001b[0m\u001b[1;33m,\u001b[0m \u001b[0mheaders\u001b[0m\u001b[1;33m)\u001b[0m\u001b[1;33m\u001b[0m\u001b[0m\n\u001b[0;32m    444\u001b[0m \u001b[1;33m\u001b[0m\u001b[0m\n\u001b[1;32m--> 445\u001b[1;33m         \u001b[1;32mreturn\u001b[0m \u001b[0msuper\u001b[0m\u001b[1;33m(\u001b[0m\u001b[0mProxyManager\u001b[0m\u001b[1;33m,\u001b[0m \u001b[0mself\u001b[0m\u001b[1;33m)\u001b[0m\u001b[1;33m.\u001b[0m\u001b[0murlopen\u001b[0m\u001b[1;33m(\u001b[0m\u001b[0mmethod\u001b[0m\u001b[1;33m,\u001b[0m \u001b[0murl\u001b[0m\u001b[1;33m,\u001b[0m \u001b[0mredirect\u001b[0m\u001b[1;33m=\u001b[0m\u001b[0mredirect\u001b[0m\u001b[1;33m,\u001b[0m \u001b[1;33m**\u001b[0m\u001b[0mkw\u001b[0m\u001b[1;33m)\u001b[0m\u001b[1;33m\u001b[0m\u001b[0m\n\u001b[0m\u001b[0;32m    446\u001b[0m \u001b[1;33m\u001b[0m\u001b[0m\n\u001b[0;32m    447\u001b[0m \u001b[1;33m\u001b[0m\u001b[0m\n",
      "\u001b[1;32m~\\Anaconda3\\lib\\site-packages\\urllib3\\poolmanager.py\u001b[0m in \u001b[0;36murlopen\u001b[1;34m(self, method, url, redirect, **kw)\u001b[0m\n\u001b[0;32m    320\u001b[0m             \u001b[0mresponse\u001b[0m \u001b[1;33m=\u001b[0m \u001b[0mconn\u001b[0m\u001b[1;33m.\u001b[0m\u001b[0murlopen\u001b[0m\u001b[1;33m(\u001b[0m\u001b[0mmethod\u001b[0m\u001b[1;33m,\u001b[0m \u001b[0murl\u001b[0m\u001b[1;33m,\u001b[0m \u001b[1;33m**\u001b[0m\u001b[0mkw\u001b[0m\u001b[1;33m)\u001b[0m\u001b[1;33m\u001b[0m\u001b[0m\n\u001b[0;32m    321\u001b[0m         \u001b[1;32melse\u001b[0m\u001b[1;33m:\u001b[0m\u001b[1;33m\u001b[0m\u001b[0m\n\u001b[1;32m--> 322\u001b[1;33m             \u001b[0mresponse\u001b[0m \u001b[1;33m=\u001b[0m \u001b[0mconn\u001b[0m\u001b[1;33m.\u001b[0m\u001b[0murlopen\u001b[0m\u001b[1;33m(\u001b[0m\u001b[0mmethod\u001b[0m\u001b[1;33m,\u001b[0m \u001b[0mu\u001b[0m\u001b[1;33m.\u001b[0m\u001b[0mrequest_uri\u001b[0m\u001b[1;33m,\u001b[0m \u001b[1;33m**\u001b[0m\u001b[0mkw\u001b[0m\u001b[1;33m)\u001b[0m\u001b[1;33m\u001b[0m\u001b[0m\n\u001b[0m\u001b[0;32m    323\u001b[0m \u001b[1;33m\u001b[0m\u001b[0m\n\u001b[0;32m    324\u001b[0m         \u001b[0mredirect_location\u001b[0m \u001b[1;33m=\u001b[0m \u001b[0mredirect\u001b[0m \u001b[1;32mand\u001b[0m \u001b[0mresponse\u001b[0m\u001b[1;33m.\u001b[0m\u001b[0mget_redirect_location\u001b[0m\u001b[1;33m(\u001b[0m\u001b[1;33m)\u001b[0m\u001b[1;33m\u001b[0m\u001b[0m\n",
      "\u001b[1;32m~\\Anaconda3\\lib\\site-packages\\urllib3\\connectionpool.py\u001b[0m in \u001b[0;36murlopen\u001b[1;34m(self, method, url, body, headers, retries, redirect, assert_same_host, timeout, pool_timeout, release_conn, chunked, body_pos, **response_kw)\u001b[0m\n\u001b[0;32m    636\u001b[0m \u001b[1;33m\u001b[0m\u001b[0m\n\u001b[0;32m    637\u001b[0m             retries = retries.increment(method, url, error=e, _pool=self,\n\u001b[1;32m--> 638\u001b[1;33m                                         _stacktrace=sys.exc_info()[2])\n\u001b[0m\u001b[0;32m    639\u001b[0m             \u001b[0mretries\u001b[0m\u001b[1;33m.\u001b[0m\u001b[0msleep\u001b[0m\u001b[1;33m(\u001b[0m\u001b[1;33m)\u001b[0m\u001b[1;33m\u001b[0m\u001b[0m\n\u001b[0;32m    640\u001b[0m \u001b[1;33m\u001b[0m\u001b[0m\n",
      "\u001b[1;32m~\\Anaconda3\\lib\\site-packages\\urllib3\\util\\retry.py\u001b[0m in \u001b[0;36mincrement\u001b[1;34m(self, method, url, response, error, _pool, _stacktrace)\u001b[0m\n\u001b[0;32m    341\u001b[0m         \u001b[1;32mif\u001b[0m \u001b[0mself\u001b[0m\u001b[1;33m.\u001b[0m\u001b[0mtotal\u001b[0m \u001b[1;32mis\u001b[0m \u001b[1;32mFalse\u001b[0m \u001b[1;32mand\u001b[0m \u001b[0merror\u001b[0m\u001b[1;33m:\u001b[0m\u001b[1;33m\u001b[0m\u001b[0m\n\u001b[0;32m    342\u001b[0m             \u001b[1;31m# Disabled, indicate to re-raise the error.\u001b[0m\u001b[1;33m\u001b[0m\u001b[1;33m\u001b[0m\u001b[0m\n\u001b[1;32m--> 343\u001b[1;33m             \u001b[1;32mraise\u001b[0m \u001b[0msix\u001b[0m\u001b[1;33m.\u001b[0m\u001b[0mreraise\u001b[0m\u001b[1;33m(\u001b[0m\u001b[0mtype\u001b[0m\u001b[1;33m(\u001b[0m\u001b[0merror\u001b[0m\u001b[1;33m)\u001b[0m\u001b[1;33m,\u001b[0m \u001b[0merror\u001b[0m\u001b[1;33m,\u001b[0m \u001b[0m_stacktrace\u001b[0m\u001b[1;33m)\u001b[0m\u001b[1;33m\u001b[0m\u001b[0m\n\u001b[0m\u001b[0;32m    344\u001b[0m \u001b[1;33m\u001b[0m\u001b[0m\n\u001b[0;32m    345\u001b[0m         \u001b[0mtotal\u001b[0m \u001b[1;33m=\u001b[0m \u001b[0mself\u001b[0m\u001b[1;33m.\u001b[0m\u001b[0mtotal\u001b[0m\u001b[1;33m\u001b[0m\u001b[0m\n",
      "\u001b[1;32m~\\Anaconda3\\lib\\site-packages\\urllib3\\packages\\six.py\u001b[0m in \u001b[0;36mreraise\u001b[1;34m(tp, value, tb)\u001b[0m\n\u001b[0;32m    683\u001b[0m             \u001b[0mvalue\u001b[0m \u001b[1;33m=\u001b[0m \u001b[0mtp\u001b[0m\u001b[1;33m(\u001b[0m\u001b[1;33m)\u001b[0m\u001b[1;33m\u001b[0m\u001b[0m\n\u001b[0;32m    684\u001b[0m         \u001b[1;32mif\u001b[0m \u001b[0mvalue\u001b[0m\u001b[1;33m.\u001b[0m\u001b[0m__traceback__\u001b[0m \u001b[1;32mis\u001b[0m \u001b[1;32mnot\u001b[0m \u001b[0mtb\u001b[0m\u001b[1;33m:\u001b[0m\u001b[1;33m\u001b[0m\u001b[0m\n\u001b[1;32m--> 685\u001b[1;33m             \u001b[1;32mraise\u001b[0m \u001b[0mvalue\u001b[0m\u001b[1;33m.\u001b[0m\u001b[0mwith_traceback\u001b[0m\u001b[1;33m(\u001b[0m\u001b[0mtb\u001b[0m\u001b[1;33m)\u001b[0m\u001b[1;33m\u001b[0m\u001b[0m\n\u001b[0m\u001b[0;32m    686\u001b[0m         \u001b[1;32mraise\u001b[0m \u001b[0mvalue\u001b[0m\u001b[1;33m\u001b[0m\u001b[0m\n\u001b[0;32m    687\u001b[0m \u001b[1;33m\u001b[0m\u001b[0m\n",
      "\u001b[1;32m~\\Anaconda3\\lib\\site-packages\\urllib3\\connectionpool.py\u001b[0m in \u001b[0;36murlopen\u001b[1;34m(self, method, url, body, headers, retries, redirect, assert_same_host, timeout, pool_timeout, release_conn, chunked, body_pos, **response_kw)\u001b[0m\n\u001b[0;32m    598\u001b[0m                                                   \u001b[0mtimeout\u001b[0m\u001b[1;33m=\u001b[0m\u001b[0mtimeout_obj\u001b[0m\u001b[1;33m,\u001b[0m\u001b[1;33m\u001b[0m\u001b[0m\n\u001b[0;32m    599\u001b[0m                                                   \u001b[0mbody\u001b[0m\u001b[1;33m=\u001b[0m\u001b[0mbody\u001b[0m\u001b[1;33m,\u001b[0m \u001b[0mheaders\u001b[0m\u001b[1;33m=\u001b[0m\u001b[0mheaders\u001b[0m\u001b[1;33m,\u001b[0m\u001b[1;33m\u001b[0m\u001b[0m\n\u001b[1;32m--> 600\u001b[1;33m                                                   chunked=chunked)\n\u001b[0m\u001b[0;32m    601\u001b[0m \u001b[1;33m\u001b[0m\u001b[0m\n\u001b[0;32m    602\u001b[0m             \u001b[1;31m# If we're going to release the connection in ``finally:``, then\u001b[0m\u001b[1;33m\u001b[0m\u001b[1;33m\u001b[0m\u001b[0m\n",
      "\u001b[1;32m~\\Anaconda3\\lib\\site-packages\\urllib3\\connectionpool.py\u001b[0m in \u001b[0;36m_make_request\u001b[1;34m(self, conn, method, url, timeout, chunked, **httplib_request_kw)\u001b[0m\n\u001b[0;32m    382\u001b[0m                     \u001b[1;31m# Remove the TypeError from the exception chain in Python 3;\u001b[0m\u001b[1;33m\u001b[0m\u001b[1;33m\u001b[0m\u001b[0m\n\u001b[0;32m    383\u001b[0m                     \u001b[1;31m# otherwise it looks like a programming error was the cause.\u001b[0m\u001b[1;33m\u001b[0m\u001b[1;33m\u001b[0m\u001b[0m\n\u001b[1;32m--> 384\u001b[1;33m                     \u001b[0msix\u001b[0m\u001b[1;33m.\u001b[0m\u001b[0mraise_from\u001b[0m\u001b[1;33m(\u001b[0m\u001b[0me\u001b[0m\u001b[1;33m,\u001b[0m \u001b[1;32mNone\u001b[0m\u001b[1;33m)\u001b[0m\u001b[1;33m\u001b[0m\u001b[0m\n\u001b[0m\u001b[0;32m    385\u001b[0m         \u001b[1;32mexcept\u001b[0m \u001b[1;33m(\u001b[0m\u001b[0mSocketTimeout\u001b[0m\u001b[1;33m,\u001b[0m \u001b[0mBaseSSLError\u001b[0m\u001b[1;33m,\u001b[0m \u001b[0mSocketError\u001b[0m\u001b[1;33m)\u001b[0m \u001b[1;32mas\u001b[0m \u001b[0me\u001b[0m\u001b[1;33m:\u001b[0m\u001b[1;33m\u001b[0m\u001b[0m\n\u001b[0;32m    386\u001b[0m             \u001b[0mself\u001b[0m\u001b[1;33m.\u001b[0m\u001b[0m_raise_timeout\u001b[0m\u001b[1;33m(\u001b[0m\u001b[0merr\u001b[0m\u001b[1;33m=\u001b[0m\u001b[0me\u001b[0m\u001b[1;33m,\u001b[0m \u001b[0murl\u001b[0m\u001b[1;33m=\u001b[0m\u001b[0murl\u001b[0m\u001b[1;33m,\u001b[0m \u001b[0mtimeout_value\u001b[0m\u001b[1;33m=\u001b[0m\u001b[0mread_timeout\u001b[0m\u001b[1;33m)\u001b[0m\u001b[1;33m\u001b[0m\u001b[0m\n",
      "\u001b[1;32m~\\Anaconda3\\lib\\site-packages\\urllib3\\packages\\six.py\u001b[0m in \u001b[0;36mraise_from\u001b[1;34m(value, from_value)\u001b[0m\n",
      "\u001b[1;32m~\\Anaconda3\\lib\\site-packages\\urllib3\\connectionpool.py\u001b[0m in \u001b[0;36m_make_request\u001b[1;34m(self, conn, method, url, timeout, chunked, **httplib_request_kw)\u001b[0m\n\u001b[0;32m    378\u001b[0m             \u001b[1;32mexcept\u001b[0m \u001b[0mTypeError\u001b[0m\u001b[1;33m:\u001b[0m  \u001b[1;31m# Python 2.6 and older, Python 3\u001b[0m\u001b[1;33m\u001b[0m\u001b[0m\n\u001b[0;32m    379\u001b[0m                 \u001b[1;32mtry\u001b[0m\u001b[1;33m:\u001b[0m\u001b[1;33m\u001b[0m\u001b[0m\n\u001b[1;32m--> 380\u001b[1;33m                     \u001b[0mhttplib_response\u001b[0m \u001b[1;33m=\u001b[0m \u001b[0mconn\u001b[0m\u001b[1;33m.\u001b[0m\u001b[0mgetresponse\u001b[0m\u001b[1;33m(\u001b[0m\u001b[1;33m)\u001b[0m\u001b[1;33m\u001b[0m\u001b[0m\n\u001b[0m\u001b[0;32m    381\u001b[0m                 \u001b[1;32mexcept\u001b[0m \u001b[0mException\u001b[0m \u001b[1;32mas\u001b[0m \u001b[0me\u001b[0m\u001b[1;33m:\u001b[0m\u001b[1;33m\u001b[0m\u001b[0m\n\u001b[0;32m    382\u001b[0m                     \u001b[1;31m# Remove the TypeError from the exception chain in Python 3;\u001b[0m\u001b[1;33m\u001b[0m\u001b[1;33m\u001b[0m\u001b[0m\n",
      "\u001b[1;32m~\\Anaconda3\\lib\\http\\client.py\u001b[0m in \u001b[0;36mgetresponse\u001b[1;34m(self)\u001b[0m\n\u001b[0;32m   1319\u001b[0m         \u001b[1;32mtry\u001b[0m\u001b[1;33m:\u001b[0m\u001b[1;33m\u001b[0m\u001b[0m\n\u001b[0;32m   1320\u001b[0m             \u001b[1;32mtry\u001b[0m\u001b[1;33m:\u001b[0m\u001b[1;33m\u001b[0m\u001b[0m\n\u001b[1;32m-> 1321\u001b[1;33m                 \u001b[0mresponse\u001b[0m\u001b[1;33m.\u001b[0m\u001b[0mbegin\u001b[0m\u001b[1;33m(\u001b[0m\u001b[1;33m)\u001b[0m\u001b[1;33m\u001b[0m\u001b[0m\n\u001b[0m\u001b[0;32m   1322\u001b[0m             \u001b[1;32mexcept\u001b[0m \u001b[0mConnectionError\u001b[0m\u001b[1;33m:\u001b[0m\u001b[1;33m\u001b[0m\u001b[0m\n\u001b[0;32m   1323\u001b[0m                 \u001b[0mself\u001b[0m\u001b[1;33m.\u001b[0m\u001b[0mclose\u001b[0m\u001b[1;33m(\u001b[0m\u001b[1;33m)\u001b[0m\u001b[1;33m\u001b[0m\u001b[0m\n",
      "\u001b[1;32m~\\Anaconda3\\lib\\http\\client.py\u001b[0m in \u001b[0;36mbegin\u001b[1;34m(self)\u001b[0m\n\u001b[0;32m    294\u001b[0m         \u001b[1;31m# read until we get a non-100 response\u001b[0m\u001b[1;33m\u001b[0m\u001b[1;33m\u001b[0m\u001b[0m\n\u001b[0;32m    295\u001b[0m         \u001b[1;32mwhile\u001b[0m \u001b[1;32mTrue\u001b[0m\u001b[1;33m:\u001b[0m\u001b[1;33m\u001b[0m\u001b[0m\n\u001b[1;32m--> 296\u001b[1;33m             \u001b[0mversion\u001b[0m\u001b[1;33m,\u001b[0m \u001b[0mstatus\u001b[0m\u001b[1;33m,\u001b[0m \u001b[0mreason\u001b[0m \u001b[1;33m=\u001b[0m \u001b[0mself\u001b[0m\u001b[1;33m.\u001b[0m\u001b[0m_read_status\u001b[0m\u001b[1;33m(\u001b[0m\u001b[1;33m)\u001b[0m\u001b[1;33m\u001b[0m\u001b[0m\n\u001b[0m\u001b[0;32m    297\u001b[0m             \u001b[1;32mif\u001b[0m \u001b[0mstatus\u001b[0m \u001b[1;33m!=\u001b[0m \u001b[0mCONTINUE\u001b[0m\u001b[1;33m:\u001b[0m\u001b[1;33m\u001b[0m\u001b[0m\n\u001b[0;32m    298\u001b[0m                 \u001b[1;32mbreak\u001b[0m\u001b[1;33m\u001b[0m\u001b[0m\n",
      "\u001b[1;32m~\\Anaconda3\\lib\\http\\client.py\u001b[0m in \u001b[0;36m_read_status\u001b[1;34m(self)\u001b[0m\n\u001b[0;32m    263\u001b[0m             \u001b[1;31m# Presumably, the server closed the connection before\u001b[0m\u001b[1;33m\u001b[0m\u001b[1;33m\u001b[0m\u001b[0m\n\u001b[0;32m    264\u001b[0m             \u001b[1;31m# sending a valid response.\u001b[0m\u001b[1;33m\u001b[0m\u001b[1;33m\u001b[0m\u001b[0m\n\u001b[1;32m--> 265\u001b[1;33m             raise RemoteDisconnected(\"Remote end closed connection without\"\n\u001b[0m\u001b[0;32m    266\u001b[0m                                      \" response\")\n\u001b[0;32m    267\u001b[0m         \u001b[1;32mtry\u001b[0m\u001b[1;33m:\u001b[0m\u001b[1;33m\u001b[0m\u001b[0m\n",
      "\u001b[1;31mProxyError\u001b[0m: ('Cannot connect to proxy.', RemoteDisconnected('Remote end closed connection without response'))"
     ]
    }
   ],
   "source": [
    "dhs_temp_19047 = pd.DataFrame()\n",
    "for country, year in dhs_surveys:\n",
    "    print(\"getting max temperature: \",country,\"_\",str(year))\n",
    "    subset_df = export_max_temp(df=dhs_df, country=country, year=year)\n",
    "    dhs_temp_19047 = dhs_temp_19047.append(subset_df,ignore_index=True)\n",
    "dhs_temp_19047.to_csv(os.path.join(OUTPUTS_ROOT_DIR, 'dhs_temp_19047.csv'))    "
   ]
  },
  {
   "cell_type": "markdown",
   "metadata": {},
   "source": [
    "## --------------------------------分割线---------------------------------------"
   ]
  },
  {
   "cell_type": "code",
   "execution_count": 7,
   "metadata": {},
   "outputs": [],
   "source": [
    "DHS_CSV_PATH = 'data/dhs_clusters_19047.csv'\n",
    "dhs_df = pd.read_csv(DHS_CSV_PATH, float_precision='high', index_col=False)\n",
    "dhs_df['max_temperature'] = ''\n",
    "dhs_temp_19047 = pd.DataFrame()"
   ]
  },
  {
   "cell_type": "code",
   "execution_count": 9,
   "metadata": {},
   "outputs": [
    {
     "name": "stdout",
     "output_type": "stream",
     "text": [
      "getting max temperature:  burkina_faso _ 2014\n"
     ]
    },
    {
     "name": "stderr",
     "output_type": "stream",
     "text": [
      "100%|████████████████████████████████████████████████████████████████████████████████| 248/248 [07:50<00:00,  2.19s/it]\n"
     ]
    },
    {
     "name": "stdout",
     "output_type": "stream",
     "text": [
      "     country_labels       country  year        lat       lon   GID_1  \\\n",
      "0                 2  burkina_faso  2014  13.068499 -3.655191   BFA.1   \n",
      "1                 2  burkina_faso  2014  13.239115 -4.100196   BFA.1   \n",
      "2                 2  burkina_faso  2014  12.974332 -4.121810   BFA.1   \n",
      "3                 2  burkina_faso  2014  12.608467 -3.921584   BFA.1   \n",
      "4                 2  burkina_faso  2014  12.725513 -3.872126   BFA.1   \n",
      "..              ...           ...   ...        ...       ...     ...   \n",
      "243               2  burkina_faso  2014  11.046357 -3.153761  BFA.13   \n",
      "244               2  burkina_faso  2014  11.114889 -2.697395  BFA.13   \n",
      "245               2  burkina_faso  2014  11.019869 -2.763532  BFA.13   \n",
      "246               2  burkina_faso  2014   9.836940 -2.899175  BFA.13   \n",
      "247               2  burkina_faso  2014  10.153091 -2.904430  BFA.13   \n",
      "\n",
      "        GID_2  wealthpooled  households  urban_rural max_temperature  \n",
      "0     BFA.1.3     -0.589851          25            0         28.4919  \n",
      "1     BFA.1.3     -0.636919          25            0         28.4919  \n",
      "2     BFA.1.3     -0.515898          26            0         28.9583  \n",
      "3     BFA.1.3     -0.332651          26            0         28.9583  \n",
      "4     BFA.1.3      0.874612          25            1         28.9583  \n",
      "..        ...           ...         ...          ...             ...  \n",
      "243  BFA.13.1     -0.489696          23            0         35.1039  \n",
      "244  BFA.13.2     -0.338777          24            0         32.0208  \n",
      "245  BFA.13.2     -0.378635          24            0          35.538  \n",
      "246  BFA.13.3     -0.593846          25            0         32.4812  \n",
      "247  BFA.13.3     -0.567923          26            0         33.7228  \n",
      "\n",
      "[248 rows x 11 columns]\n"
     ]
    }
   ],
   "source": [
    "country = 'burkina_faso'\n",
    "year = 2014\n",
    "print(\"getting max temperature: \",country,\"_\",str(year))\n",
    "subset_df = export_max_temp(df=dhs_df, country=country, year=year)\n",
    "dhs_temp_19047 = dhs_temp_19047.append(subset_df,ignore_index=True)"
   ]
  },
  {
   "cell_type": "code",
   "execution_count": 10,
   "metadata": {},
   "outputs": [
    {
     "name": "stdout",
     "output_type": "stream",
     "text": [
      "getting max temperature:  cameroon _ 2011\n"
     ]
    },
    {
     "name": "stderr",
     "output_type": "stream",
     "text": [
      "100%|████████████████████████████████████████████████████████████████████████████████| 576/576 [18:39<00:00,  2.24s/it]\n"
     ]
    },
    {
     "name": "stdout",
     "output_type": "stream",
     "text": [
      "     country_labels   country  year        lat        lon  GID_1    GID_2  \\\n",
      "0                 3  cameroon  2011  10.340020  15.266488  CMR.4  CMR.4.3   \n",
      "1                 3  cameroon  2011   4.081516   9.762119  CMR.5  CMR.5.4   \n",
      "2                 3  cameroon  2011   5.958239  10.186587  CMR.6  CMR.6.5   \n",
      "3                 3  cameroon  2011   5.967302  10.150110  CMR.6  CMR.6.5   \n",
      "4                 3  cameroon  2011   5.155473  10.182570  CMR.8  CMR.8.2   \n",
      "..              ...       ...   ...        ...        ...    ...      ...   \n",
      "571               3  cameroon  2011   7.721994  15.438769  CMR.7  CMR.7.4   \n",
      "572               3  cameroon  2011   5.334295  10.369538  CMR.8  CMR.8.3   \n",
      "573               3  cameroon  2011  10.133887  14.734186  CMR.4  CMR.4.4   \n",
      "574               3  cameroon  2011   5.702713  10.413156  CMR.8  CMR.8.1   \n",
      "575               3  cameroon  2011   6.054464   9.908082  CMR.6  CMR.6.6   \n",
      "\n",
      "     wealthpooled  households  urban_rural max_temperature  \n",
      "0       -0.426628          24            1         30.0591  \n",
      "1        1.262221          23            1         30.0591  \n",
      "2        1.326867          20            1         30.1546  \n",
      "3        1.161085          24            1         30.1546  \n",
      "4        0.884960          24            1         30.1546  \n",
      "..            ...         ...          ...             ...  \n",
      "571     -0.792062          26            0         37.6416  \n",
      "572      0.357356          25            0         31.9317  \n",
      "573     -0.895445          26            0         29.9105  \n",
      "574     -0.605350          26            0         28.9361  \n",
      "575     -0.300903          25            0         31.9038  \n",
      "\n",
      "[576 rows x 11 columns]\n"
     ]
    }
   ],
   "source": [
    "country = 'cameroon'\n",
    "year = 2011\n",
    "print(\"getting max temperature: \",country,\"_\",str(year))\n",
    "subset_df = export_max_temp(df=dhs_df, country=country, year=year)\n",
    "dhs_temp_19047 = dhs_temp_19047.append(subset_df,ignore_index=True)"
   ]
  },
  {
   "cell_type": "code",
   "execution_count": 11,
   "metadata": {},
   "outputs": [
    {
     "name": "stdout",
     "output_type": "stream",
     "text": [
      "getting max temperature:  cote_d_ivoire _ 2012\n"
     ]
    },
    {
     "name": "stderr",
     "output_type": "stream",
     "text": [
      "100%|████████████████████████████████████████████████████████████████████████████████| 341/341 [04:26<00:00,  1.42it/s]\n"
     ]
    },
    {
     "name": "stdout",
     "output_type": "stream",
     "text": [
      "     country_labels        country  year       lat       lon   GID_1  \\\n",
      "0                 4  cote_d_ivoire  2012  5.973453 -3.198473   CIV.3   \n",
      "1                 4  cote_d_ivoire  2012  6.462503 -8.211979   CIV.8   \n",
      "2                 4  cote_d_ivoire  2012  7.274597 -8.324563   CIV.8   \n",
      "3                 4  cote_d_ivoire  2012  7.731449 -3.059561  CIV.14   \n",
      "4                 4  cote_d_ivoire  2012  7.713830 -5.040708  CIV.11   \n",
      "..              ...            ...   ...       ...       ...     ...   \n",
      "336               4  cote_d_ivoire  2012  6.361619 -5.715785   CIV.5   \n",
      "337               4  cote_d_ivoire  2012  6.987534 -5.277727  CIV.13   \n",
      "338               4  cote_d_ivoire  2012  7.136385 -3.200418   CIV.3   \n",
      "339               4  cote_d_ivoire  2012  6.658221 -6.512773   CIV.9   \n",
      "340               4  cote_d_ivoire  2012  7.695010 -5.034002  CIV.11   \n",
      "\n",
      "        GID_2  wealthpooled  households  urban_rural max_temperature  \n",
      "0     CIV.3.2     -0.154427          29            0         28.4329  \n",
      "1     CIV.8.1     -0.545430          30            0         28.4329  \n",
      "2     CIV.8.3     -0.650405          31            0         28.3202  \n",
      "3    CIV.14.2     -0.266823          30            0         28.3202  \n",
      "4    CIV.11.1      1.543194          24            1         28.3202  \n",
      "..        ...           ...         ...          ...             ...  \n",
      "336   CIV.5.1      0.104997          28            0         38.1327  \n",
      "337  CIV.13.1      0.626287          32            0         29.4513  \n",
      "338   CIV.3.1      0.762724          22            1         36.0953  \n",
      "339   CIV.9.1      0.229055          31            0         38.3087  \n",
      "340  CIV.11.1      1.154493          27            1         35.5028  \n",
      "\n",
      "[341 rows x 11 columns]\n"
     ]
    }
   ],
   "source": [
    "country = 'cote_d_ivoire'\n",
    "year = 2012\n",
    "print(\"getting max temperature: \",country,\"_\",str(year))\n",
    "subset_df = export_max_temp(df=dhs_df, country=country, year=year)\n",
    "dhs_temp_19047 = dhs_temp_19047.append(subset_df,ignore_index=True)"
   ]
  },
  {
   "cell_type": "code",
   "execution_count": 12,
   "metadata": {},
   "outputs": [
    {
     "name": "stdout",
     "output_type": "stream",
     "text": [
      "getting max temperature:  democratic_republic_of_congo _ 2013\n"
     ]
    },
    {
     "name": "stderr",
     "output_type": "stream",
     "text": [
      "100%|████████████████████████████████████████████████████████████████████████████████| 492/492 [23:12<00:00,  2.35s/it]\n"
     ]
    },
    {
     "name": "stdout",
     "output_type": "stream",
     "text": [
      "     country_labels                       country  year       lat        lon  \\\n",
      "0                 5  democratic_republic_of_congo  2013  0.220128  21.795078   \n",
      "1                 5  democratic_republic_of_congo  2013  0.529766  19.203205   \n",
      "2                 5  democratic_republic_of_congo  2013 -4.396131  15.352401   \n",
      "3                 5  democratic_republic_of_congo  2013 -4.386094  18.065496   \n",
      "4                 5  democratic_republic_of_congo  2013 -2.960349  28.527202   \n",
      "..              ...                           ...   ...       ...        ...   \n",
      "487               5  democratic_republic_of_congo  2013 -6.746137  23.665006   \n",
      "488               5  democratic_republic_of_congo  2013  2.459054  27.379898   \n",
      "489               5  democratic_republic_of_congo  2013 -0.798872  28.905275   \n",
      "490               5  democratic_republic_of_congo  2013  0.807453  24.138116   \n",
      "491               5  democratic_republic_of_congo  2013  2.693045  23.107023   \n",
      "\n",
      "      GID_1      GID_2  wealthpooled  households  urban_rural max_temperature  \n",
      "0    COD.26   COD.26.1     -1.041985          34            0         29.2502  \n",
      "1     COD.2    COD.2.4     -0.855609          34            0         29.2502  \n",
      "2    COD.10   COD.10.1      1.578565          34            1         29.4357  \n",
      "3    COD.13  COD.13.12     -0.891400          33            0         29.4357  \n",
      "4    COD.22   COD.22.8     -0.606919          34            0         29.4357  \n",
      "..      ...        ...           ...         ...          ...             ...  \n",
      "487  COD.14   COD.14.6     -0.817563          33            0         31.1086  \n",
      "488   COD.5    COD.5.7     -0.853365          32            0         28.5701  \n",
      "489  COD.19  COD.19.11     -0.862642          33            0         29.4357  \n",
      "490  COD.25   COD.25.5     -0.620166          34            0         35.5482  \n",
      "491   COD.1    COD.1.1     -0.849458          32            0         28.7239  \n",
      "\n",
      "[492 rows x 11 columns]\n"
     ]
    }
   ],
   "source": [
    "country = 'democratic_republic_of_congo'\n",
    "year = 2013\n",
    "print(\"getting max temperature: \",country,\"_\",str(year))\n",
    "subset_df = export_max_temp(df=dhs_df, country=country, year=year)\n",
    "dhs_temp_19047 = dhs_temp_19047.append(subset_df,ignore_index=True)"
   ]
  },
  {
   "cell_type": "code",
   "execution_count": 14,
   "metadata": {},
   "outputs": [
    {
     "name": "stdout",
     "output_type": "stream",
     "text": [
      "getting max temperature:  ethiopia _ 2010\n"
     ]
    },
    {
     "name": "stderr",
     "output_type": "stream",
     "text": [
      "100%|████████████████████████████████████████████████████████████████████████████████| 571/571 [09:01<00:00,  2.10s/it]\n"
     ]
    },
    {
     "name": "stdout",
     "output_type": "stream",
     "text": [
      "     country_labels   country  year        lat        lon   GID_1      GID_2  \\\n",
      "0                 6  ethiopia  2010  10.193657  39.345773   ETH.3    ETH.3.8   \n",
      "1                 6  ethiopia  2010   9.028250  38.750949   ETH.1    ETH.1.1   \n",
      "2                 6  ethiopia  2010   9.332589  42.137039   ETH.7    ETH.7.1   \n",
      "3                 6  ethiopia  2010   9.318443  42.113398   ETH.7    ETH.7.1   \n",
      "4                 6  ethiopia  2010   4.485986  40.036524   ETH.9    ETH.9.6   \n",
      "..              ...       ...   ...        ...        ...     ...        ...   \n",
      "566               6  ethiopia  2010   6.450158  38.846792  ETH.10  ETH.10.19   \n",
      "567               6  ethiopia  2010   9.244626  42.977421   ETH.9    ETH.9.3   \n",
      "568               6  ethiopia  2010   7.757426  34.085067   ETH.6    ETH.6.1   \n",
      "569               6  ethiopia  2010   8.679882  38.423979   ETH.8    ETH.8.4   \n",
      "570               6  ethiopia  2010  14.451952  37.980152  ETH.11   ETH.11.5   \n",
      "\n",
      "     wealthpooled  households  urban_rural max_temperature  \n",
      "0       -1.163401          30            0         29.2391  \n",
      "1        1.098700          29            1         29.2391  \n",
      "2        0.024053          30            0         29.6105  \n",
      "3        0.958067          28            1         29.6105  \n",
      "4       -0.920071          26            0         29.6105  \n",
      "..            ...         ...          ...             ...  \n",
      "566     -0.957902          28            0         28.6475  \n",
      "567     -1.091675          25            0         34.2956  \n",
      "568     -1.029416          29            0         38.8505  \n",
      "569     -1.011928          30            0         35.5647  \n",
      "570      0.166974          28            1         36.7365  \n",
      "\n",
      "[571 rows x 11 columns]\n"
     ]
    }
   ],
   "source": [
    "country = 'ethiopia'\n",
    "year = 2010\n",
    "print(\"getting max temperature: \",country,\"_\",str(year))\n",
    "subset_df = export_max_temp(df=dhs_df, country=country, year=year)\n",
    "dhs_temp_19047 = dhs_temp_19047.append(subset_df,ignore_index=True)"
   ]
  },
  {
   "cell_type": "code",
   "execution_count": 15,
   "metadata": {},
   "outputs": [
    {
     "name": "stdout",
     "output_type": "stream",
     "text": [
      "getting max temperature:  ghana _ 2014\n"
     ]
    },
    {
     "name": "stderr",
     "output_type": "stream",
     "text": [
      "100%|████████████████████████████████████████████████████████████████████████████████| 422/422 [09:52<00:00,  3.13s/it]\n"
     ]
    },
    {
     "name": "stdout",
     "output_type": "stream",
     "text": [
      "     country_labels country  year        lat       lon  GID_1     GID_2  \\\n",
      "0                 7   ghana  2014   5.793782 -0.400936  GHA.4   GHA.4.3   \n",
      "1                 7   ghana  2014   6.742562 -1.636748  GHA.1  GHA.1.16   \n",
      "2                 7   ghana  2014   5.503744 -0.413996  GHA.3   GHA.3.7   \n",
      "3                 7   ghana  2014  10.554068  0.038188  GHA.6   GHA.6.2   \n",
      "4                 7   ghana  2014   6.725353 -1.586704  GHA.1  GHA.1.16   \n",
      "..              ...     ...   ...        ...       ...    ...       ...   \n",
      "417               7   ghana  2014   6.493993 -0.952127  GHA.4   GHA.4.6   \n",
      "418               7   ghana  2014   6.896419  0.513165  GHA.9   GHA.9.3   \n",
      "419               7   ghana  2014   6.653406 -1.585132  GHA.1  GHA.1.16   \n",
      "420               7   ghana  2014  10.056925 -2.484954  GHA.8   GHA.8.6   \n",
      "421               7   ghana  2014   5.907477 -1.045247  GHA.4   GHA.4.7   \n",
      "\n",
      "     wealthpooled  households  urban_rural max_temperature  \n",
      "0        0.536396          30            0         28.4919  \n",
      "1        1.826202          26            1         28.4919  \n",
      "2        1.414853          25            1         28.9583  \n",
      "3       -0.170658          30            0         28.9583  \n",
      "4        1.751851          28            1         28.9583  \n",
      "..            ...         ...          ...             ...  \n",
      "417      0.829967          28            0         34.1708  \n",
      "418      1.112039          26            0         38.1238  \n",
      "419      1.536749          30            1         33.7211  \n",
      "420      1.325197          27            1         35.6778  \n",
      "421      0.330901          28            1         28.9124  \n",
      "\n",
      "[422 rows x 11 columns]\n"
     ]
    }
   ],
   "source": [
    "country = 'ghana'\n",
    "year = 2014\n",
    "print(\"getting max temperature: \",country,\"_\",str(year))\n",
    "subset_df = export_max_temp(df=dhs_df, country=country, year=year)\n",
    "dhs_temp_19047 = dhs_temp_19047.append(subset_df,ignore_index=True)"
   ]
  },
  {
   "cell_type": "code",
   "execution_count": 16,
   "metadata": {},
   "outputs": [
    {
     "name": "stdout",
     "output_type": "stream",
     "text": [
      "getting max temperature:  ghana _ 2016\n"
     ]
    },
    {
     "name": "stderr",
     "output_type": "stream",
     "text": [
      "100%|████████████████████████████████████████████████████████████████████████████████| 192/192 [07:59<00:00,  2.05s/it]\n"
     ]
    },
    {
     "name": "stdout",
     "output_type": "stream",
     "text": [
      "     country_labels country  year        lat       lon   GID_1      GID_2  \\\n",
      "0                 7   ghana  2016   5.076585 -2.887155  GHA.10   GHA.10.5   \n",
      "1                 7   ghana  2016   5.286215 -2.763417  GHA.10   GHA.10.5   \n",
      "2                 7   ghana  2016   4.916464 -2.174210  GHA.10   GHA.10.8   \n",
      "3                 7   ghana  2016   4.914636 -1.781184  GHA.10  GHA.10.10   \n",
      "4                 7   ghana  2016   4.924901 -1.753950  GHA.10  GHA.10.10   \n",
      "..              ...     ...   ...        ...       ...     ...        ...   \n",
      "187               7   ghana  2016  10.947258 -2.168228   GHA.8    GHA.8.5   \n",
      "188               7   ghana  2016  10.917617 -2.655202   GHA.8    GHA.8.1   \n",
      "189               7   ghana  2016  10.641916 -2.759454   GHA.8    GHA.8.2   \n",
      "190               7   ghana  2016  10.640043 -2.882381   GHA.8    GHA.8.2   \n",
      "191               7   ghana  2016  10.420661 -2.551337   GHA.8    GHA.8.3   \n",
      "\n",
      "     wealthpooled  households  urban_rural max_temperature  \n",
      "0        0.704634          30            0         30.0537  \n",
      "1        1.390819          29            1         30.0537  \n",
      "2        0.731194          29            0         30.1078  \n",
      "3        1.807246          29            1         30.1078  \n",
      "4        1.422209          29            1         30.1078  \n",
      "..            ...         ...          ...             ...  \n",
      "187      0.061642          29            0         29.4875  \n",
      "188     -0.223815          30            0         29.4875  \n",
      "189     -0.136469          30            0         29.4875  \n",
      "190      0.834113          30            1         32.3651  \n",
      "191      0.257282          30            0         32.3651  \n",
      "\n",
      "[192 rows x 11 columns]\n"
     ]
    }
   ],
   "source": [
    "country = 'ghana'\n",
    "year = 2016\n",
    "print(\"getting max temperature: \",country,\"_\",str(year))\n",
    "subset_df = export_max_temp(df=dhs_df, country=country, year=year)\n",
    "dhs_temp_19047 = dhs_temp_19047.append(subset_df,ignore_index=True)"
   ]
  },
  {
   "cell_type": "code",
   "execution_count": 17,
   "metadata": {},
   "outputs": [
    {
     "name": "stdout",
     "output_type": "stream",
     "text": [
      "getting max temperature:  guinea _ 2012\n"
     ]
    },
    {
     "name": "stderr",
     "output_type": "stream",
     "text": [
      "100%|████████████████████████████████████████████████████████████████████████████████| 300/300 [03:47<00:00,  1.34it/s]\n"
     ]
    },
    {
     "name": "stdout",
     "output_type": "stream",
     "text": [
      "     country_labels country  year        lat        lon  GID_1    GID_2  \\\n",
      "0                 8  guinea  2012   9.586990 -13.646621  GIN.2  GIN.2.1   \n",
      "1                 8  guinea  2012  10.360803 -13.584432  GIN.1  GIN.1.3   \n",
      "2                 8  guinea  2012  11.326658 -12.305964  GIN.6  GIN.6.2   \n",
      "3                 8  guinea  2012   9.553174 -13.670896  GIN.2  GIN.2.1   \n",
      "4                 8  guinea  2012   9.187575 -10.100098  GIN.3  GIN.3.4   \n",
      "..              ...     ...   ...        ...        ...    ...      ...   \n",
      "295               8  guinea  2012  10.378745 -12.082579  GIN.7  GIN.7.2   \n",
      "296               8  guinea  2012   8.704365  -8.828915  GIN.8  GIN.8.1   \n",
      "297               8  guinea  2012  10.383466  -9.288637  GIN.4  GIN.4.1   \n",
      "298               8  guinea  2012   7.742356  -8.827557  GIN.8  GIN.8.5   \n",
      "299               8  guinea  2012  11.097094 -13.789202  GIN.1  GIN.1.2   \n",
      "\n",
      "     wealthpooled  households  urban_rural max_temperature  \n",
      "0        1.563031          22            1         28.4329  \n",
      "1        1.857007          24            1         28.4329  \n",
      "2        1.157472          21            1         28.3202  \n",
      "3        1.644255          24            1         28.3202  \n",
      "4        0.240213          24            1         28.3202  \n",
      "..            ...         ...          ...             ...  \n",
      "295      1.159465          24            1         32.3096  \n",
      "296     -0.308175          23            0         32.6511  \n",
      "297      0.866026          24            1         32.3096  \n",
      "298      0.378010          24            1         32.3096  \n",
      "299      1.420893          24            1         27.6117  \n",
      "\n",
      "[300 rows x 11 columns]\n"
     ]
    }
   ],
   "source": [
    "country = 'guinea'\n",
    "year = 2012\n",
    "print(\"getting max temperature: \",country,\"_\",str(year))\n",
    "subset_df = export_max_temp(df=dhs_df, country=country, year=year)\n",
    "dhs_temp_19047 = dhs_temp_19047.append(subset_df,ignore_index=True)"
   ]
  },
  {
   "cell_type": "code",
   "execution_count": 18,
   "metadata": {},
   "outputs": [
    {
     "name": "stdout",
     "output_type": "stream",
     "text": [
      "getting max temperature:  kenya _ 2014\n"
     ]
    },
    {
     "name": "stderr",
     "output_type": "stream",
     "text": [
      "100%|██████████████████████████████████████████████████████████████████████████████| 1585/1585 [53:28<00:00,  1.81s/it]\n"
     ]
    },
    {
     "name": "stdout",
     "output_type": "stream",
     "text": [
      "      country_labels country  year       lat        lon   GID_1      GID_2  \\\n",
      "0                  9   kenya  2014 -1.282723  36.752958  KEN.30   KEN.30.2   \n",
      "1                  9   kenya  2014 -1.278781  36.758441  KEN.30   KEN.30.1   \n",
      "2                  9   kenya  2014 -1.279646  36.745931  KEN.30   KEN.30.2   \n",
      "3                  9   kenya  2014 -1.280380  36.697090  KEN.30   KEN.30.2   \n",
      "4                  9   kenya  2014 -1.272064  36.743127  KEN.30  KEN.30.17   \n",
      "...              ...     ...   ...       ...        ...     ...        ...   \n",
      "1580               9   kenya  2014  0.577623  34.261595   KEN.4    KEN.4.7   \n",
      "1581               9   kenya  2014  0.560891  34.248927   KEN.4    KEN.4.7   \n",
      "1582               9   kenya  2014  0.500992  34.174886   KEN.4    KEN.4.7   \n",
      "1583               9   kenya  2014  0.456166  34.122642   KEN.4    KEN.4.4   \n",
      "1584               9   kenya  2014  0.494860  34.156075   KEN.4    KEN.4.7   \n",
      "\n",
      "      wealthpooled  households  urban_rural max_temperature  \n",
      "0         0.859929          22            1         28.4919  \n",
      "1         0.238329          22            1         28.4919  \n",
      "2         1.045833          25            1         28.9583  \n",
      "3         0.806467          20            1         28.9583  \n",
      "4         0.735924          21            1         28.9583  \n",
      "...            ...         ...          ...             ...  \n",
      "1580     -0.446975          22            0         36.9925  \n",
      "1581     -0.523750          23            0         37.2036  \n",
      "1582     -0.595364          24            0         36.4556  \n",
      "1583      0.663121          24            1         36.4556  \n",
      "1584      0.016458          24            1         36.9925  \n",
      "\n",
      "[1585 rows x 11 columns]\n"
     ]
    }
   ],
   "source": [
    "country = 'kenya'\n",
    "year = 2014\n",
    "print(\"getting max temperature: \",country,\"_\",str(year))\n",
    "subset_df = export_max_temp(df=dhs_df, country=country, year=year)\n",
    "dhs_temp_19047 = dhs_temp_19047.append(subset_df,ignore_index=True)"
   ]
  },
  {
   "cell_type": "code",
   "execution_count": 19,
   "metadata": {},
   "outputs": [
    {
     "name": "stdout",
     "output_type": "stream",
     "text": [
      "getting max temperature:  kenya _ 2015\n"
     ]
    },
    {
     "name": "stderr",
     "output_type": "stream",
     "text": [
      "100%|████████████████████████████████████████████████████████████████████████████████| 245/245 [03:22<00:00,  1.15it/s]\n"
     ]
    },
    {
     "name": "stdout",
     "output_type": "stream",
     "text": [
      "     country_labels country  year       lat        lon   GID_1      GID_2  \\\n",
      "0                 9   kenya  2015 -1.262753  36.757369  KEN.30   KEN.30.1   \n",
      "1                 9   kenya  2015 -1.338937  36.759522  KEN.30  KEN.30.11   \n",
      "2                 9   kenya  2015 -1.270583  36.963737  KEN.30   KEN.30.4   \n",
      "3                 9   kenya  2015 -1.322515  36.903702  KEN.30   KEN.30.4   \n",
      "4                 9   kenya  2015 -1.318353  36.835251  KEN.30  KEN.30.11   \n",
      "..              ...     ...   ...       ...        ...     ...        ...   \n",
      "240               9   kenya  2015  0.579619  34.372331   KEN.4    KEN.4.5   \n",
      "241               9   kenya  2015  0.616486  34.250503   KEN.4    KEN.4.6   \n",
      "242               9   kenya  2015  0.544320  34.236645   KEN.4    KEN.4.7   \n",
      "243               9   kenya  2015  0.625001  34.284380   KEN.4    KEN.4.6   \n",
      "244               9   kenya  2015  0.474045  34.136326   KEN.4    KEN.4.7   \n",
      "\n",
      "     wealthpooled  households  urban_rural max_temperature  \n",
      "0        1.200159          29            1         29.2034  \n",
      "1        1.246541          17            1         29.2034  \n",
      "2        1.549552          24            1         29.7591  \n",
      "3        1.760900          25            1         29.7591  \n",
      "4        1.190505          28            1         29.7591  \n",
      "..            ...         ...          ...             ...  \n",
      "240     -0.573139          28            0         32.0677  \n",
      "241     -0.237348          27            0         28.4715  \n",
      "242     -0.281388          28            0         33.8978  \n",
      "243      0.937253          26            1         37.1616  \n",
      "244     -0.000798          29            1         33.3514  \n",
      "\n",
      "[245 rows x 11 columns]\n"
     ]
    }
   ],
   "source": [
    "country = 'kenya'\n",
    "year = 2015\n",
    "print(\"getting max temperature: \",country,\"_\",str(year))\n",
    "subset_df = export_max_temp(df=dhs_df, country=country, year=year)\n",
    "dhs_temp_19047 = dhs_temp_19047.append(subset_df,ignore_index=True)"
   ]
  },
  {
   "cell_type": "code",
   "execution_count": 20,
   "metadata": {},
   "outputs": [
    {
     "name": "stdout",
     "output_type": "stream",
     "text": [
      "getting max temperature:  lesotho _ 2009\n"
     ]
    },
    {
     "name": "stderr",
     "output_type": "stream",
     "text": [
      "100%|████████████████████████████████████████████████████████████████████████████████| 395/395 [19:05<00:00,  2.74s/it]\n"
     ]
    },
    {
     "name": "stdout",
     "output_type": "stream",
     "text": [
      "     country_labels  country  year        lat        lon  GID_1  GID_2  \\\n",
      "0                10  lesotho  2009 -29.936197  27.520731  LSO.4  LSO.4   \n",
      "1                10  lesotho  2009 -30.282707  28.137836  LSO.9  LSO.9   \n",
      "2                10  lesotho  2009 -29.512251  27.716495  LSO.5  LSO.5   \n",
      "3                10  lesotho  2009 -29.580522  27.545744  LSO.5  LSO.5   \n",
      "4                10  lesotho  2009 -29.288247  27.575525  LSO.1  LSO.1   \n",
      "..              ...      ...   ...        ...        ...    ...    ...   \n",
      "390              10  lesotho  2009 -29.048934  28.253653  LSO.3  LSO.3   \n",
      "391              10  lesotho  2009 -29.453294  27.724759  LSO.5  LSO.5   \n",
      "392              10  lesotho  2009 -30.311016  27.775404  LSO.9  LSO.9   \n",
      "393              10  lesotho  2009 -29.293161  28.472647  LSO.3  LSO.3   \n",
      "394              10  lesotho  2009 -29.147642  28.064207  LSO.1  LSO.1   \n",
      "\n",
      "     wealthpooled  households  urban_rural max_temperature  \n",
      "0       -0.467933          24            0         28.8052  \n",
      "1       -0.538688          25            0         28.8052  \n",
      "2       -0.044042          25            0         28.9707  \n",
      "3       -0.246386          24            0         28.9707  \n",
      "4        0.435406          25            1         28.9707  \n",
      "..            ...         ...          ...             ...  \n",
      "390     -0.577517          25            0         34.8869  \n",
      "391      0.498703          25            0         28.9812  \n",
      "392     -0.317142          21            0         33.6526  \n",
      "393     -0.723209          24            0         34.7734  \n",
      "394     -0.304740          25            0         33.4246  \n",
      "\n",
      "[395 rows x 11 columns]\n"
     ]
    }
   ],
   "source": [
    "country = 'lesotho'\n",
    "year = 2009\n",
    "print(\"getting max temperature: \",country,\"_\",str(year))\n",
    "subset_df = export_max_temp(df=dhs_df, country=country, year=year)\n",
    "dhs_temp_19047 = dhs_temp_19047.append(subset_df,ignore_index=True)"
   ]
  },
  {
   "cell_type": "code",
   "execution_count": 21,
   "metadata": {},
   "outputs": [
    {
     "name": "stdout",
     "output_type": "stream",
     "text": [
      "getting max temperature:  lesotho _ 2014\n"
     ]
    },
    {
     "name": "stderr",
     "output_type": "stream",
     "text": [
      "100%|████████████████████████████████████████████████████████████████████████████████| 399/399 [05:50<00:00,  1.24it/s]\n"
     ]
    },
    {
     "name": "stdout",
     "output_type": "stream",
     "text": [
      "     country_labels  country  year        lat        lon  GID_1  GID_2  \\\n",
      "0                10  lesotho  2014 -29.955396  27.425937  LSO.4  LSO.4   \n",
      "1                10  lesotho  2014 -30.116583  27.981823  LSO.9  LSO.9   \n",
      "2                10  lesotho  2014 -29.316173  27.532897  LSO.5  LSO.5   \n",
      "3                10  lesotho  2014 -29.335459  27.505372  LSO.5  LSO.5   \n",
      "4                10  lesotho  2014 -29.270605  27.608011  LSO.1  LSO.1   \n",
      "..              ...      ...   ...        ...        ...    ...    ...   \n",
      "394              10  lesotho  2014 -28.975307  28.137728  LSO.3  LSO.3   \n",
      "395              10  lesotho  2014 -29.314382  27.525370  LSO.5  LSO.5   \n",
      "396              10  lesotho  2014 -30.408597  27.703546  LSO.9  LSO.9   \n",
      "397              10  lesotho  2014 -29.222969  28.558475  LSO.3  LSO.3   \n",
      "398              10  lesotho  2014 -29.012094  27.829609  LSO.3  LSO.3   \n",
      "\n",
      "     wealthpooled  households  urban_rural max_temperature  \n",
      "0        0.318756          23            0         28.4919  \n",
      "1       -0.344232          23            0         28.4919  \n",
      "2        1.323579          23            1         28.9583  \n",
      "3        1.134149          22            1         28.9583  \n",
      "4        0.773713          24            0         28.9583  \n",
      "..            ...         ...          ...             ...  \n",
      "394     -0.236848          24            0         32.8637  \n",
      "395      1.100386          21            1         37.8568  \n",
      "396      1.310327          24            1         29.0857  \n",
      "397     -0.268528          24            0         31.2366  \n",
      "398     -0.062701          24            0          34.769  \n",
      "\n",
      "[399 rows x 11 columns]\n"
     ]
    }
   ],
   "source": [
    "country = 'lesotho'\n",
    "year = 2014\n",
    "print(\"getting max temperature: \",country,\"_\",str(year))\n",
    "subset_df = export_max_temp(df=dhs_df, country=country, year=year)\n",
    "dhs_temp_19047 = dhs_temp_19047.append(subset_df,ignore_index=True)"
   ]
  },
  {
   "cell_type": "code",
   "execution_count": 22,
   "metadata": {},
   "outputs": [
    {
     "name": "stdout",
     "output_type": "stream",
     "text": [
      "getting max temperature:  malawi _ 2010\n"
     ]
    },
    {
     "name": "stderr",
     "output_type": "stream",
     "text": [
      "100%|████████████████████████████████████████████████████████████████████████████████| 827/827 [20:10<00:00,  2.50s/it]\n"
     ]
    },
    {
     "name": "stdout",
     "output_type": "stream",
     "text": [
      "     country_labels country  year        lat        lon   GID_1     GID_2  \\\n",
      "0                11  malawi  2010 -14.293995  34.468751   MWI.6   MWI.6.5   \n",
      "1                11  malawi  2010 -14.791538  35.033085   MWI.1   MWI.1.2   \n",
      "2                11  malawi  2010 -13.435848  32.945216  MWI.14  MWI.14.5   \n",
      "3                11  malawi  2010 -16.363671  34.689968   MWI.3  MWI.3.11   \n",
      "4                11  malawi  2010 -11.855164  34.100813  MWI.19  MWI.19.3   \n",
      "..              ...     ...   ...        ...        ...     ...       ...   \n",
      "822              11  malawi  2010 -12.703222  34.171467  MWI.20  MWI.20.7   \n",
      "823              11  malawi  2010 -10.135672  33.585831   MWI.5   MWI.5.6   \n",
      "824              11  malawi  2010 -15.592975  35.513953  MWI.28  MWI.28.2   \n",
      "825              11  malawi  2010 -15.589046  35.120640   MWI.4   MWI.4.2   \n",
      "826              11  malawi  2010 -12.425113  33.832464  MWI.17  MWI.17.5   \n",
      "\n",
      "     wealthpooled  households  urban_rural max_temperature  \n",
      "0       -0.476676          35            0         29.2391  \n",
      "1       -0.556283          32            0         29.2391  \n",
      "2       -0.559472          32            0         29.6105  \n",
      "3       -0.892685          33            0         29.6105  \n",
      "4       -0.105726          31            0         29.6105  \n",
      "..            ...         ...          ...             ...  \n",
      "822     -0.336711          31            0         36.9471  \n",
      "823     -0.814387          26            0         33.4164  \n",
      "824     -0.829380          33            0         39.0302  \n",
      "825     -0.659115          31            0         33.1082  \n",
      "826     -0.473712          32            0         33.3572  \n",
      "\n",
      "[827 rows x 11 columns]\n"
     ]
    }
   ],
   "source": [
    "country = 'malawi'\n",
    "year = 2010\n",
    "print(\"getting max temperature: \",country,\"_\",str(year))\n",
    "subset_df = export_max_temp(df=dhs_df, country=country, year=year)\n",
    "dhs_temp_19047 = dhs_temp_19047.append(subset_df,ignore_index=True)"
   ]
  },
  {
   "cell_type": "code",
   "execution_count": 23,
   "metadata": {},
   "outputs": [
    {
     "name": "stdout",
     "output_type": "stream",
     "text": [
      "getting max temperature:  malawi _ 2012\n"
     ]
    },
    {
     "name": "stderr",
     "output_type": "stream",
     "text": [
      "100%|████████████████████████████████████████████████████████████████████████████████| 140/140 [02:04<00:00,  1.20it/s]\n"
     ]
    },
    {
     "name": "stdout",
     "output_type": "stream",
     "text": [
      "     country_labels country  year        lat        lon   GID_1      GID_2  \\\n",
      "0                11  malawi  2012  -9.526060  33.271903   MWI.5    MWI.5.4   \n",
      "1                11  malawi  2012  -9.690022  33.283763   MWI.5    MWI.5.1   \n",
      "2                11  malawi  2012 -10.025486  33.517927   MWI.5    MWI.5.6   \n",
      "3                11  malawi  2012  -9.974574  33.909689   MWI.8    MWI.8.1   \n",
      "4                11  malawi  2012 -10.324640  34.141863   MWI.8    MWI.8.8   \n",
      "..              ...     ...   ...        ...        ...     ...        ...   \n",
      "135              11  malawi  2012 -16.078056  35.095755  MWI.27  MWI.27.10   \n",
      "136              11  malawi  2012 -15.966991  35.073907  MWI.27   MWI.27.6   \n",
      "137              11  malawi  2012 -16.209159  35.287859  MWI.27   MWI.27.3   \n",
      "138              11  malawi  2012 -17.112154  35.093108  MWI.21   MWI.21.8   \n",
      "139              11  malawi  2012 -16.585796  34.995088  MWI.21   MWI.21.4   \n",
      "\n",
      "     wealthpooled  households  urban_rural max_temperature  \n",
      "0       -0.732255          25            0         28.4329  \n",
      "1       -0.257587          21            1         28.4329  \n",
      "2       -0.715609          25            0         28.3202  \n",
      "3       -0.160594          25            1         28.3202  \n",
      "4       -0.729730          25            0         28.3202  \n",
      "..            ...         ...          ...             ...  \n",
      "135     -0.122901          25            0         36.7535  \n",
      "136     -0.528090          25            0         36.4631  \n",
      "137     -0.198108          25            0          36.386  \n",
      "138     -0.217339          25            0         37.4269  \n",
      "139     -0.718112          25            0         37.4269  \n",
      "\n",
      "[140 rows x 11 columns]\n"
     ]
    }
   ],
   "source": [
    "country = 'malawi'\n",
    "year = 2012\n",
    "print(\"getting max temperature: \",country,\"_\",str(year))\n",
    "subset_df = export_max_temp(df=dhs_df, country=country, year=year)\n",
    "dhs_temp_19047 = dhs_temp_19047.append(subset_df,ignore_index=True)"
   ]
  },
  {
   "cell_type": "code",
   "execution_count": 24,
   "metadata": {},
   "outputs": [
    {
     "name": "stdout",
     "output_type": "stream",
     "text": [
      "getting max temperature:  malawi _ 2014\n"
     ]
    },
    {
     "name": "stderr",
     "output_type": "stream",
     "text": [
      "100%|████████████████████████████████████████████████████████████████████████████████| 140/140 [02:08<00:00,  1.07it/s]\n"
     ]
    },
    {
     "name": "stdout",
     "output_type": "stream",
     "text": [
      "     country_labels country  year        lat        lon  GID_1    GID_2  \\\n",
      "0                11  malawi  2014  -9.530501  33.243335  MWI.5  MWI.5.4   \n",
      "1                11  malawi  2014  -9.823194  33.378386  MWI.5  MWI.5.4   \n",
      "2                11  malawi  2014 -10.111930  33.559969  MWI.5  MWI.5.6   \n",
      "3                11  malawi  2014  -9.720551  33.288311  MWI.5  MWI.5.4   \n",
      "4                11  malawi  2014  -9.700572  33.259847  MWI.5  MWI.5.1   \n",
      "..              ...     ...   ...        ...        ...    ...      ...   \n",
      "135              11  malawi  2014 -15.829764  35.088025  MWI.2  MWI.2.1   \n",
      "136              11  malawi  2014 -15.853695  35.092018  MWI.2  MWI.2.1   \n",
      "137              11  malawi  2014 -15.825565  35.017303  MWI.2  MWI.2.1   \n",
      "138              11  malawi  2014 -15.842032  34.986195  MWI.2  MWI.2.1   \n",
      "139              11  malawi  2014 -15.873486  35.065657  MWI.2  MWI.2.1   \n",
      "\n",
      "     wealthpooled  households  urban_rural max_temperature  \n",
      "0       -0.612943          24            0         28.4919  \n",
      "1       -0.545313          25            0         28.4919  \n",
      "2       -0.380111          25            0         28.9583  \n",
      "3        0.697978          25            1         28.9583  \n",
      "4       -0.190441          24            1         28.9583  \n",
      "..            ...         ...          ...             ...  \n",
      "135      0.654036          23            1         37.4046  \n",
      "136      0.203208          24            1         37.3415  \n",
      "137      0.737767          25            1         36.7122  \n",
      "138      0.138676          25            1         37.4045  \n",
      "139     -0.333776          25            1         37.4045  \n",
      "\n",
      "[140 rows x 11 columns]\n"
     ]
    }
   ],
   "source": [
    "country = 'malawi'\n",
    "year = 2014\n",
    "print(\"getting max temperature: \",country,\"_\",str(year))\n",
    "subset_df = export_max_temp(df=dhs_df, country=country, year=year)\n",
    "dhs_temp_19047 = dhs_temp_19047.append(subset_df,ignore_index=True)"
   ]
  },
  {
   "cell_type": "code",
   "execution_count": 25,
   "metadata": {},
   "outputs": [
    {
     "name": "stdout",
     "output_type": "stream",
     "text": [
      "getting max temperature:  malawi _ 2015\n"
     ]
    },
    {
     "name": "stderr",
     "output_type": "stream",
     "text": [
      "100%|████████████████████████████████████████████████████████████████████████████████| 850/850 [22:30<00:00,  3.59s/it]\n"
     ]
    },
    {
     "name": "stdout",
     "output_type": "stream",
     "text": [
      "     country_labels country  year        lat        lon   GID_1      GID_2  \\\n",
      "0                11  malawi  2015 -13.360652  33.923942  MWI.23   MWI.23.5   \n",
      "1                11  malawi  2015 -12.855043  33.336077   MWI.9   MWI.9.10   \n",
      "2                11  malawi  2015 -15.100664  35.534903  MWI.12   MWI.12.9   \n",
      "3                11  malawi  2015 -12.015707  34.627514  MWI.10   MWI.10.1   \n",
      "4                11  malawi  2015 -13.891912  33.000702  MWI.14   MWI.14.6   \n",
      "..              ...     ...   ...        ...        ...     ...        ...   \n",
      "845              11  malawi  2015 -11.654571  34.193096  MWI.19   MWI.19.1   \n",
      "846              11  malawi  2015 -13.702248  34.861430  MWI.13  MWI.13.11   \n",
      "847              11  malawi  2015 -15.552839  34.506631  MWI.16   MWI.16.3   \n",
      "848              11  malawi  2015 -13.568919  32.918481  MWI.14   MWI.14.5   \n",
      "849              11  malawi  2015  -9.471652  32.985695   MWI.5    MWI.5.3   \n",
      "\n",
      "     wealthpooled  households  urban_rural max_temperature  \n",
      "0        0.469876          26            1         29.2034  \n",
      "1       -0.457915          30            0         29.2034  \n",
      "2       -0.566439          32            0         29.7591  \n",
      "3       -0.082223          32            0         29.7591  \n",
      "4       -0.710538          30            0         29.7591  \n",
      "..            ...         ...          ...             ...  \n",
      "845     -0.180992          31            0         29.7422  \n",
      "846     -0.419693          32            0         37.2594  \n",
      "847     -0.499198          32            0         29.3783  \n",
      "848     -0.523442          32            0          35.753  \n",
      "849     -0.383741          28            0         33.7472  \n",
      "\n",
      "[850 rows x 11 columns]\n"
     ]
    }
   ],
   "source": [
    "country = 'malawi'\n",
    "year = 2015\n",
    "print(\"getting max temperature: \",country,\"_\",str(year))\n",
    "subset_df = export_max_temp(df=dhs_df, country=country, year=year)\n",
    "dhs_temp_19047 = dhs_temp_19047.append(subset_df,ignore_index=True)"
   ]
  },
  {
   "cell_type": "code",
   "execution_count": 26,
   "metadata": {},
   "outputs": [
    {
     "name": "stdout",
     "output_type": "stream",
     "text": [
      "getting max temperature:  mali _ 2012\n"
     ]
    },
    {
     "name": "stderr",
     "output_type": "stream",
     "text": [
      "100%|████████████████████████████████████████████████████████████████████████████████| 413/413 [07:26<00:00,  1.13it/s]\n"
     ]
    },
    {
     "name": "stdout",
     "output_type": "stream",
     "text": [
      "     country_labels country  year        lat        lon  GID_1    GID_2  \\\n",
      "0                12    mali  2012  14.096481  -3.371694  MLI.6  MLI.6.5   \n",
      "1                12    mali  2012  13.478948  -3.660592  MLI.6  MLI.6.2   \n",
      "2                12    mali  2012  12.572924  -7.989062  MLI.1  MLI.1.1   \n",
      "3                12    mali  2012  12.967527  -7.564073  MLI.5  MLI.5.6   \n",
      "4                12    mali  2012  12.613175  -8.043456  MLI.1  MLI.1.1   \n",
      "..              ...     ...   ...        ...        ...    ...      ...   \n",
      "408              12    mali  2012  13.446912  -4.625058  MLI.7  MLI.7.5   \n",
      "409              12    mali  2012  12.296269  -5.220746  MLI.8  MLI.8.4   \n",
      "410              12    mali  2012  10.787502  -5.681564  MLI.8  MLI.8.2   \n",
      "411              12    mali  2012  14.443134 -11.448759  MLI.3  MLI.3.3   \n",
      "412              12    mali  2012  13.811143  -7.906217  MLI.5  MLI.5.5   \n",
      "\n",
      "     wealthpooled  households  urban_rural max_temperature  \n",
      "0       -0.371958          25            0         28.4329  \n",
      "1       -0.281746          25            0         28.4329  \n",
      "2        1.638386          22            1         28.3202  \n",
      "3       -0.026995          24            0         28.3202  \n",
      "4        1.050350          24            1         28.3202  \n",
      "..            ...         ...          ...             ...  \n",
      "408     -0.408354          24            0         35.8858  \n",
      "409     -0.115144          25            0         32.4453  \n",
      "410     -0.074698          25            0         33.9975  \n",
      "411      1.382954          26            1         35.7051  \n",
      "412      0.162432          26            0         36.1018  \n",
      "\n",
      "[413 rows x 11 columns]\n"
     ]
    }
   ],
   "source": [
    "country = 'mali'\n",
    "year = 2012\n",
    "print(\"getting max temperature: \",country,\"_\",str(year))\n",
    "subset_df = export_max_temp(df=dhs_df, country=country, year=year)\n",
    "dhs_temp_19047 = dhs_temp_19047.append(subset_df,ignore_index=True)"
   ]
  },
  {
   "cell_type": "code",
   "execution_count": 27,
   "metadata": {},
   "outputs": [
    {
     "name": "stdout",
     "output_type": "stream",
     "text": [
      "getting max temperature:  mali _ 2015\n"
     ]
    },
    {
     "name": "stderr",
     "output_type": "stream",
     "text": [
      "100%|████████████████████████████████████████████████████████████████████████████████| 177/177 [02:33<00:00,  1.10it/s]\n"
     ]
    },
    {
     "name": "stdout",
     "output_type": "stream",
     "text": [
      "     country_labels country  year        lat        lon  GID_1    GID_2  \\\n",
      "0                12    mali  2015  14.566321 -11.366755  MLI.3  MLI.3.3   \n",
      "1                12    mali  2015  14.480354 -12.142511  MLI.3  MLI.3.3   \n",
      "2                12    mali  2015  15.091526 -11.830358  MLI.3  MLI.3.3   \n",
      "3                12    mali  2015  15.205753 -11.076188  MLI.3  MLI.3.3   \n",
      "4                12    mali  2015  13.887323 -11.702872  MLI.3  MLI.3.3   \n",
      "..              ...     ...   ...        ...        ...    ...      ...   \n",
      "172              12    mali  2015  12.584615  -7.973078  MLI.1  MLI.1.1   \n",
      "173              12    mali  2015  12.575975  -7.968629  MLI.1  MLI.1.1   \n",
      "174              12    mali  2015  12.588104  -7.949024  MLI.1  MLI.1.1   \n",
      "175              12    mali  2015  12.524674  -7.921712  MLI.1  MLI.1.1   \n",
      "176              12    mali  2015  12.521108  -7.930952  MLI.1  MLI.1.1   \n",
      "\n",
      "     wealthpooled  households  urban_rural max_temperature  \n",
      "0       -0.001908          24            0         29.2034  \n",
      "1        0.460180          25            0         29.2034  \n",
      "2        0.640523          24            0         29.7591  \n",
      "3       -0.517514          23            0         29.7591  \n",
      "4        1.162182          23            0         29.7591  \n",
      "..            ...         ...          ...             ...  \n",
      "172      1.660523          24            1          36.612  \n",
      "173      1.118943          24            1         37.2594  \n",
      "174      2.020898          24            1           29.36  \n",
      "175      1.041459          24            1           29.36  \n",
      "176      1.015153          25            1           29.36  \n",
      "\n",
      "[177 rows x 11 columns]\n"
     ]
    }
   ],
   "source": [
    "country = 'mali'\n",
    "year = 2015\n",
    "print(\"getting max temperature: \",country,\"_\",str(year))\n",
    "subset_df = export_max_temp(df=dhs_df, country=country, year=year)\n",
    "dhs_temp_19047 = dhs_temp_19047.append(subset_df,ignore_index=True)"
   ]
  },
  {
   "cell_type": "code",
   "execution_count": 28,
   "metadata": {},
   "outputs": [
    {
     "name": "stdout",
     "output_type": "stream",
     "text": [
      "getting max temperature:  mozambique _ 2009\n"
     ]
    },
    {
     "name": "stderr",
     "output_type": "stream",
     "text": [
      "100%|████████████████████████████████████████████████████████████████████████████████| 270/270 [04:12<00:00,  1.08it/s]\n"
     ]
    },
    {
     "name": "stdout",
     "output_type": "stream",
     "text": [
      "     country_labels     country  year       lat       lon   GID_1      GID_2  \\\n",
      "0                13  mozambique  2009 -11.58221  39.88591   MOZ.1    MOZ.1.7   \n",
      "1                13  mozambique  2009 -14.83855  36.39463   MOZ.8    MOZ.8.1   \n",
      "2                13  mozambique  2009 -16.03041  37.17157  MOZ.11   MOZ.11.5   \n",
      "3                13  mozambique  2009 -17.59914  35.25354  MOZ.10  MOZ.10.10   \n",
      "4                13  mozambique  2009 -24.95846  33.14760   MOZ.2    MOZ.2.1   \n",
      "..              ...         ...   ...       ...       ...     ...        ...   \n",
      "265              13  mozambique  2009 -18.94879  33.76943   MOZ.4    MOZ.4.2   \n",
      "266              13  mozambique  2009 -25.91721  32.56559   MOZ.5    MOZ.5.2   \n",
      "267              13  mozambique  2009 -25.83434  32.61370   MOZ.5    MOZ.5.2   \n",
      "268              13  mozambique  2009 -15.22598  37.35497  MOZ.11   MOZ.11.1   \n",
      "269              13  mozambique  2009 -20.66998  32.65032   MOZ.4    MOZ.4.7   \n",
      "\n",
      "     wealthpooled  households  urban_rural max_temperature  \n",
      "0       -1.108214          24            0         28.8052  \n",
      "1       -0.504007          22            1         28.8052  \n",
      "2       -0.529248          24            0         28.9707  \n",
      "3       -0.894543          22            0         28.9707  \n",
      "4       -0.456545          23            0         28.9707  \n",
      "..            ...         ...          ...             ...  \n",
      "265     -0.835693          17            0         34.1761  \n",
      "266      0.905411          22            1         32.7035  \n",
      "267      0.872908          22            1         28.9707  \n",
      "268     -0.946766          21            0         34.6116  \n",
      "269     -1.107330          22            0         38.1888  \n",
      "\n",
      "[270 rows x 11 columns]\n"
     ]
    }
   ],
   "source": [
    "country = 'mozambique'\n",
    "year = 2009\n",
    "print(\"getting max temperature: \",country,\"_\",str(year))\n",
    "subset_df = export_max_temp(df=dhs_df, country=country, year=year)\n",
    "dhs_temp_19047 = dhs_temp_19047.append(subset_df,ignore_index=True)"
   ]
  },
  {
   "cell_type": "code",
   "execution_count": 31,
   "metadata": {},
   "outputs": [
    {
     "name": "stdout",
     "output_type": "stream",
     "text": [
      "getting max temperature:  mozambique _ 2011\n"
     ]
    },
    {
     "name": "stderr",
     "output_type": "stream",
     "text": [
      "100%|████████████████████████████████████████████████████████████████████████████████| 609/609 [09:52<00:00,  2.42s/it]\n"
     ]
    },
    {
     "name": "stdout",
     "output_type": "stream",
     "text": [
      "     country_labels     country  year        lat        lon  GID_1    GID_2  \\\n",
      "0                13  mozambique  2011 -13.323436  35.236858  MOZ.8  MOZ.8.3   \n",
      "1                13  mozambique  2011 -13.298260  35.231074  MOZ.8  MOZ.8.3   \n",
      "2                13  mozambique  2011 -13.282095  35.249710  MOZ.8  MOZ.8.3   \n",
      "3                13  mozambique  2011 -13.303714  35.254500  MOZ.8  MOZ.8.3   \n",
      "4                13  mozambique  2011 -13.329656  35.242420  MOZ.8  MOZ.8.3   \n",
      "..              ...         ...   ...        ...        ...    ...      ...   \n",
      "604              13  mozambique  2011 -25.857604  32.567020  MOZ.5  MOZ.5.2   \n",
      "605              13  mozambique  2011 -25.845273  32.610603  MOZ.5  MOZ.5.2   \n",
      "606              13  mozambique  2011 -25.821024  32.595145  MOZ.5  MOZ.5.2   \n",
      "607              13  mozambique  2011 -25.847312  32.594393  MOZ.5  MOZ.5.2   \n",
      "608              13  mozambique  2011 -26.011408  32.931726  MOZ.5  MOZ.5.2   \n",
      "\n",
      "     wealthpooled  households  urban_rural max_temperature  \n",
      "0        0.643632          20            1         30.0591  \n",
      "1        0.029420          18            1         30.0591  \n",
      "2        0.757071          19            1         30.1546  \n",
      "3        0.297700          18            1         30.1546  \n",
      "4        0.528371          19            1         30.1546  \n",
      "..            ...         ...          ...             ...  \n",
      "604      1.568039          20            1          37.715  \n",
      "605      1.490979          20            1         35.8872  \n",
      "606      1.120879          20            1         35.8486  \n",
      "607      1.524775          19            1         33.3949  \n",
      "608      0.236331          20            1         35.2027  \n",
      "\n",
      "[609 rows x 11 columns]\n"
     ]
    }
   ],
   "source": [
    "country = 'mozambique'\n",
    "year = 2011\n",
    "print(\"getting max temperature: \",country,\"_\",str(year))\n",
    "subset_df = export_max_temp(df=dhs_df, country=country, year=year)\n",
    "dhs_temp_19047 = dhs_temp_19047.append(subset_df,ignore_index=True)"
   ]
  },
  {
   "cell_type": "code",
   "execution_count": 32,
   "metadata": {},
   "outputs": [
    {
     "name": "stdout",
     "output_type": "stream",
     "text": [
      "getting max temperature:  nigeria _ 2010\n"
     ]
    },
    {
     "name": "stderr",
     "output_type": "stream",
     "text": [
      "100%|████████████████████████████████████████████████████████████████████████████████| 239/239 [03:23<00:00,  1.21it/s]\n"
     ]
    },
    {
     "name": "stdout",
     "output_type": "stream",
     "text": [
      "     country_labels  country  year       lat       lon   GID_1      GID_2  \\\n",
      "0                14  nigeria  2010  6.732517  8.002321   NGA.7    NGA.7.1   \n",
      "1                14  nigeria  2010  7.247508  8.657348   NGA.7    NGA.7.5   \n",
      "2                14  nigeria  2010  7.358567  8.489307   NGA.7    NGA.7.7   \n",
      "3                14  nigeria  2010  6.864353  8.890684   NGA.7   NGA.7.10   \n",
      "4                14  nigeria  2010  6.950979  8.345339   NGA.7   NGA.7.14   \n",
      "..              ...      ...   ...       ...       ...     ...        ...   \n",
      "234              14  nigeria  2010  7.383139  3.964110  NGA.31   NGA.31.5   \n",
      "235              14  nigeria  2010  7.385056  3.894900  NGA.31   NGA.31.8   \n",
      "236              14  nigeria  2010  7.407212  3.906515  NGA.31   NGA.31.6   \n",
      "237              14  nigeria  2010  8.127695  4.241894  NGA.31  NGA.31.21   \n",
      "238              14  nigeria  2010  8.666144  3.367649  NGA.31  NGA.31.32   \n",
      "\n",
      "     wealthpooled  households  urban_rural max_temperature  \n",
      "0       -0.642530          26            0         29.2391  \n",
      "1       -0.406471          25            0         29.2391  \n",
      "2       -0.420117          26            0         29.6105  \n",
      "3       -0.654294          26            0         29.6105  \n",
      "4        0.256707          25            0         29.6105  \n",
      "..            ...         ...          ...             ...  \n",
      "234      1.085200          26            0         39.0467  \n",
      "235      0.775521          26            1         28.6475  \n",
      "236      1.492821          26            1         28.6475  \n",
      "237      0.629930          24            1         32.2516  \n",
      "238      1.156770          26            0         30.0313  \n",
      "\n",
      "[239 rows x 11 columns]\n"
     ]
    }
   ],
   "source": [
    "country = 'nigeria'\n",
    "year = 2010\n",
    "print(\"getting max temperature: \",country,\"_\",str(year))\n",
    "subset_df = export_max_temp(df=dhs_df, country=country, year=year)\n",
    "dhs_temp_19047 = dhs_temp_19047.append(subset_df,ignore_index=True)"
   ]
  },
  {
   "cell_type": "code",
   "execution_count": 33,
   "metadata": {},
   "outputs": [
    {
     "name": "stdout",
     "output_type": "stream",
     "text": [
      "getting max temperature:  nigeria _ 2013\n"
     ]
    },
    {
     "name": "stderr",
     "output_type": "stream",
     "text": [
      "100%|████████████████████████████████████████████████████████████████████████████████| 889/889 [23:11<00:00,  1.95s/it]\n"
     ]
    },
    {
     "name": "stdout",
     "output_type": "stream",
     "text": [
      "     country_labels  country  year       lat       lon   GID_1      GID_2  \\\n",
      "0                14  nigeria  2013  6.902270  8.097115   NGA.7    NGA.7.1   \n",
      "1                14  nigeria  2013  7.854454  7.876807   NGA.7    NGA.7.2   \n",
      "2                14  nigeria  2013  7.781454  7.940457   NGA.7    NGA.7.2   \n",
      "3                14  nigeria  2013  7.176902  9.197081   NGA.7    NGA.7.4   \n",
      "4                14  nigeria  2013  7.148612  9.164210   NGA.7    NGA.7.4   \n",
      "..              ...      ...   ...       ...       ...     ...        ...   \n",
      "884              14  nigeria  2013  7.368560  3.937503  NGA.31   NGA.31.7   \n",
      "885              14  nigeria  2013  8.570109  3.547449  NGA.31  NGA.31.31   \n",
      "886              14  nigeria  2013  8.765458  3.603125  NGA.31  NGA.31.31   \n",
      "887              14  nigeria  2013  8.660406  3.522780  NGA.31  NGA.31.31   \n",
      "888              14  nigeria  2013  8.687992  3.412814  NGA.31  NGA.31.31   \n",
      "\n",
      "     wealthpooled  households  urban_rural max_temperature  \n",
      "0       -0.706937          39            0         29.2502  \n",
      "1       -0.031332          38            0         29.2502  \n",
      "2       -0.292785          41            0         29.4357  \n",
      "3        0.634167          42            0         29.4357  \n",
      "4       -0.290953          42            0         29.4357  \n",
      "..            ...         ...          ...             ...  \n",
      "884      0.792487          45            1         43.2147  \n",
      "885     -0.634734          45            0         42.7154  \n",
      "886      0.337283          45            0         42.7154  \n",
      "887     -0.536691          45            0         42.7154  \n",
      "888      1.271353          45            1         42.7154  \n",
      "\n",
      "[889 rows x 11 columns]\n"
     ]
    }
   ],
   "source": [
    "country = 'nigeria'\n",
    "year = 2013\n",
    "print(\"getting max temperature: \",country,\"_\",str(year))\n",
    "subset_df = export_max_temp(df=dhs_df, country=country, year=year)\n",
    "dhs_temp_19047 = dhs_temp_19047.append(subset_df,ignore_index=True)"
   ]
  },
  {
   "cell_type": "code",
   "execution_count": 36,
   "metadata": {},
   "outputs": [
    {
     "name": "stdout",
     "output_type": "stream",
     "text": [
      "getting max temperature:  nigeria _ 2015\n"
     ]
    },
    {
     "name": "stderr",
     "output_type": "stream",
     "text": [
      "100%|████████████████████████████████████████████████████████████████████████████████| 322/322 [04:45<00:00,  1.25it/s]\n"
     ]
    },
    {
     "name": "stdout",
     "output_type": "stream",
     "text": [
      "     country_labels  country  year        lat       lon   GID_1      GID_2  \\\n",
      "0                14  nigeria  2015  13.066055  5.248442  NGA.34  NGA.34.16   \n",
      "1                14  nigeria  2015  12.413059  4.635646  NGA.22  NGA.22.11   \n",
      "2                14  nigeria  2015  13.654926  5.798567  NGA.34   NGA.34.8   \n",
      "3                14  nigeria  2015  13.019809  4.960301  NGA.34  NGA.34.15   \n",
      "4                14  nigeria  2015  12.538563  5.570142  NGA.37   NGA.37.2   \n",
      "..              ...      ...   ...        ...       ...     ...        ...   \n",
      "317              14  nigeria  2015   6.584216  2.916717  NGA.28   NGA.28.3   \n",
      "318              14  nigeria  2015   6.895029  3.348654  NGA.28  NGA.28.15   \n",
      "319              14  nigeria  2015   7.105702  2.867298  NGA.28   NGA.28.4   \n",
      "320              14  nigeria  2015   6.740282  3.990338  NGA.28  NGA.28.11   \n",
      "321              14  nigeria  2015   6.847102  3.470981  NGA.28  NGA.28.15   \n",
      "\n",
      "     wealthpooled  households  urban_rural max_temperature  \n",
      "0        1.725086          25            1         29.2034  \n",
      "1        1.120827          24            1         29.2034  \n",
      "2       -0.238875          25            0         29.7591  \n",
      "3       -0.586451          25            0         29.7591  \n",
      "4       -0.485734          25            0         29.7591  \n",
      "..            ...         ...          ...             ...  \n",
      "317     -0.035413          21            0         27.2699  \n",
      "318      0.252012          25            0         40.4537  \n",
      "319      0.225458          24            0         37.5782  \n",
      "320      1.110195          24            0         32.8711  \n",
      "321      1.679578          25            0         29.6833  \n",
      "\n",
      "[322 rows x 11 columns]\n",
      "getting max temperature:  rwanda _ 2010\n"
     ]
    },
    {
     "name": "stderr",
     "output_type": "stream",
     "text": [
      "100%|████████████████████████████████████████████████████████████████████████████████| 492/492 [06:50<00:00,  1.27it/s]\n"
     ]
    },
    {
     "name": "stdout",
     "output_type": "stream",
     "text": [
      "     country_labels country  year       lat        lon  GID_1    GID_2  \\\n",
      "0                15  rwanda  2010 -2.532818  29.684726  RWA.2  RWA.2.2   \n",
      "1                15  rwanda  2010 -1.833858  30.310689  RWA.3  RWA.3.2   \n",
      "2                15  rwanda  2010 -1.888155  29.478298  RWA.4  RWA.4.2   \n",
      "3                15  rwanda  2010 -2.366763  30.521692  RWA.3  RWA.3.4   \n",
      "4                15  rwanda  2010 -2.171266  30.018541  RWA.3  RWA.3.1   \n",
      "..              ...     ...   ...       ...        ...    ...      ...   \n",
      "487              15  rwanda  2010 -2.389778  29.451722  RWA.2  RWA.2.5   \n",
      "488              15  rwanda  2010 -2.144317  30.348895  RWA.3  RWA.3.5   \n",
      "489              15  rwanda  2010 -1.967830  30.441541  RWA.3  RWA.3.7   \n",
      "490              15  rwanda  2010 -1.441294  30.063765  RWA.1  RWA.1.3   \n",
      "491              15  rwanda  2010 -2.019624  29.694921  RWA.2  RWA.2.4   \n",
      "\n",
      "     wealthpooled  households  urban_rural max_temperature  \n",
      "0       -0.736222          26            0         29.2391  \n",
      "1       -0.867747          26            0         29.2391  \n",
      "2       -0.835837          24            0         29.6105  \n",
      "3       -0.852343          25            0         29.6105  \n",
      "4       -0.600559          25            0         29.6105  \n",
      "..            ...         ...          ...             ...  \n",
      "487     -0.627769          25            0         32.5084  \n",
      "488     -0.839583          26            0         28.7833  \n",
      "489     -0.259131          26            1         29.6105  \n",
      "490     -0.655614          25            0         36.1503  \n",
      "491     -0.671148          25            0         28.8177  \n",
      "\n",
      "[492 rows x 11 columns]\n",
      "getting max temperature:  rwanda _ 2014\n"
     ]
    },
    {
     "name": "stderr",
     "output_type": "stream",
     "text": [
      "100%|████████████████████████████████████████████████████████████████████████████████| 492/492 [06:39<00:00,  1.28it/s]\n"
     ]
    },
    {
     "name": "stdout",
     "output_type": "stream",
     "text": [
      "     country_labels country  year       lat        lon  GID_1    GID_2  \\\n",
      "0                15  rwanda  2014 -2.505926  29.712786  RWA.2  RWA.2.2   \n",
      "1                15  rwanda  2014 -1.844667  30.310508  RWA.3  RWA.3.2   \n",
      "2                15  rwanda  2014 -1.841935  29.574756  RWA.4  RWA.4.2   \n",
      "3                15  rwanda  2014 -2.348161  30.463639  RWA.3  RWA.3.4   \n",
      "4                15  rwanda  2014 -2.211301  30.161839  RWA.3  RWA.3.1   \n",
      "..              ...     ...   ...       ...        ...    ...      ...   \n",
      "487              15  rwanda  2014 -2.367477  29.513500  RWA.2  RWA.2.5   \n",
      "488              15  rwanda  2014 -2.157058  30.543740  RWA.3  RWA.3.5   \n",
      "489              15  rwanda  2014 -1.942259  30.462935  RWA.3  RWA.3.7   \n",
      "490              15  rwanda  2014 -1.466784  30.066870  RWA.1  RWA.1.3   \n",
      "491              15  rwanda  2014 -2.027433  29.655087  RWA.2  RWA.2.4   \n",
      "\n",
      "     wealthpooled  households  urban_rural max_temperature  \n",
      "0        0.163815          26            0         28.4919  \n",
      "1       -0.841513          26            0         28.4919  \n",
      "2       -0.773716          26            0         28.9583  \n",
      "3       -0.669253          26            0         28.9583  \n",
      "4        0.130171          26            0         28.9583  \n",
      "..            ...         ...          ...             ...  \n",
      "487     -0.739519          26            0         31.2366  \n",
      "488      0.858092          24            1         28.6065  \n",
      "489      0.198336          26            0         28.9583  \n",
      "490     -0.605509          26            0         35.1039  \n",
      "491     -0.410062          26            0         29.0857  \n",
      "\n",
      "[492 rows x 11 columns]\n",
      "getting max temperature:  senegal _ 2010\n"
     ]
    },
    {
     "name": "stderr",
     "output_type": "stream",
     "text": [
      "100%|████████████████████████████████████████████████████████████████████████████████| 385/385 [05:30<00:00,  1.16it/s]\n"
     ]
    },
    {
     "name": "stdout",
     "output_type": "stream",
     "text": [
      "     country_labels  country  year        lat        lon   GID_1     GID_2  \\\n",
      "0                16  senegal  2010  14.307342 -16.620018   SEN.3   SEN.3.1   \n",
      "1                16  senegal  2010  15.625351 -13.318033   SEN.9   SEN.9.2   \n",
      "2                16  senegal  2010  14.529404 -15.680473   SEN.3   SEN.3.3   \n",
      "3                16  senegal  2010  14.664803 -16.229619   SEN.2   SEN.2.2   \n",
      "4                16  senegal  2010  14.589788 -16.172619   SEN.2   SEN.2.2   \n",
      "..              ...      ...   ...        ...        ...     ...       ...   \n",
      "380              16  senegal  2010  14.895672 -15.904359   SEN.2   SEN.2.3   \n",
      "381              16  senegal  2010  14.326763 -16.409586   SEN.3   SEN.3.1   \n",
      "382              16  senegal  2010  13.638301 -14.710276  SEN.12  SEN.12.3   \n",
      "383              16  senegal  2010  14.345974 -16.420579   SEN.3   SEN.3.1   \n",
      "384              16  senegal  2010  15.900734 -16.501449  SEN.10  SEN.10.3   \n",
      "\n",
      "     wealthpooled  households  urban_rural max_temperature  \n",
      "0        0.157494          21            0         29.2391  \n",
      "1        0.962330          19            1         29.2391  \n",
      "2       -0.437453          21            0         29.6105  \n",
      "3        1.417780          21            1         29.6105  \n",
      "4       -0.354182          21            0         29.6105  \n",
      "..            ...         ...          ...             ...  \n",
      "380      1.368662          20            0         30.5301  \n",
      "381      1.171277          20            1         28.7833  \n",
      "382     -0.299331          21            0         35.4943  \n",
      "383     -0.285053          20            0         35.8029  \n",
      "384      0.285217          20            0         34.3197  \n",
      "\n",
      "[385 rows x 11 columns]\n",
      "getting max temperature:  senegal _ 2012\n"
     ]
    },
    {
     "name": "stderr",
     "output_type": "stream",
     "text": [
      "100%|████████████████████████████████████████████████████████████████████████████████| 200/200 [02:45<00:00,  1.24it/s]\n"
     ]
    },
    {
     "name": "stdout",
     "output_type": "stream",
     "text": [
      "     country_labels  country  year        lat        lon   GID_1     GID_2  \\\n",
      "0                16  senegal  2012  14.675431 -17.440521   SEN.1   SEN.1.1   \n",
      "1                16  senegal  2012  14.678271 -17.457794   SEN.1   SEN.1.1   \n",
      "2                16  senegal  2012  14.710419 -17.459288   SEN.1   SEN.1.1   \n",
      "3                16  senegal  2012  14.702820 -17.443008   SEN.1   SEN.1.1   \n",
      "4                16  senegal  2012  14.757125 -17.478474   SEN.1   SEN.1.1   \n",
      "..              ...      ...   ...        ...        ...     ...       ...   \n",
      "195              16  senegal  2012  12.567658 -16.258169  SEN.14  SEN.14.3   \n",
      "196              16  senegal  2012  12.564518 -16.262249  SEN.14  SEN.14.3   \n",
      "197              16  senegal  2012  12.580420 -16.289249  SEN.14  SEN.14.3   \n",
      "198              16  senegal  2012  12.554264 -16.291334  SEN.14  SEN.14.3   \n",
      "199              16  senegal  2012  12.569583 -16.265922  SEN.14  SEN.14.3   \n",
      "\n",
      "     wealthpooled  households  urban_rural max_temperature  \n",
      "0        1.598379          21            1         28.4329  \n",
      "1        1.734295          20            1         28.4329  \n",
      "2        1.421252          21            1         28.3202  \n",
      "3        2.117576          21            1         28.3202  \n",
      "4        1.848890          22            1         28.3202  \n",
      "..            ...         ...          ...             ...  \n",
      "195      0.523028          22            1         32.3096  \n",
      "196      1.146960          21            1         32.3096  \n",
      "197      0.901156          19            1         32.3096  \n",
      "198      0.424019          20            1         32.3096  \n",
      "199      1.435375          21            1         28.8288  \n",
      "\n",
      "[200 rows x 11 columns]\n",
      "getting max temperature:  sierra_leone _ 2013\n"
     ]
    },
    {
     "name": "stderr",
     "output_type": "stream",
     "text": [
      "100%|████████████████████████████████████████████████████████████████████████████████| 435/435 [05:55<00:00,  1.30it/s]\n"
     ]
    },
    {
     "name": "stdout",
     "output_type": "stream",
     "text": [
      "     country_labels       country  year       lat        lon  GID_1    GID_2  \\\n",
      "0                17  sierra_leone  2013  8.279786 -13.052770  SLE.4  SLE.4.1   \n",
      "1                17  sierra_leone  2013  9.115396 -12.644425  SLE.2  SLE.2.4   \n",
      "2                17  sierra_leone  2013  9.141192 -11.547318  SLE.2  SLE.2.3   \n",
      "3                17  sierra_leone  2013  8.385000 -10.398761  SLE.1  SLE.1.1   \n",
      "4                17  sierra_leone  2013  8.175893 -11.045858  SLE.1  SLE.1.2   \n",
      "..              ...           ...   ...       ...        ...    ...      ...   \n",
      "430              17  sierra_leone  2013  7.683060 -11.718530  SLE.3  SLE.3.1   \n",
      "431              17  sierra_leone  2013  7.685043 -11.229778  SLE.1  SLE.1.2   \n",
      "432              17  sierra_leone  2013  8.486942 -13.213949  SLE.4  SLE.4.2   \n",
      "433              17  sierra_leone  2013  8.524073 -10.638768  SLE.1  SLE.1.3   \n",
      "434              17  sierra_leone  2013  8.430300 -13.274511  SLE.4  SLE.4.2   \n",
      "\n",
      "     wealthpooled  households  urban_rural max_temperature  \n",
      "0        0.217202          30            0         29.2502  \n",
      "1       -0.655022          28            0         29.2502  \n",
      "2        0.083900          27            0         29.4357  \n",
      "3       -0.479419          26            0         29.4357  \n",
      "4        0.281942          30            0         29.4357  \n",
      "..            ...         ...          ...             ...  \n",
      "430     -0.144509          30            0          38.762  \n",
      "431     -0.539642          27            0         35.3479  \n",
      "432      0.969790          28            1         35.1005  \n",
      "433     -0.757197          20            0         37.8191  \n",
      "434      1.942392          30            1         35.6692  \n",
      "\n",
      "[435 rows x 11 columns]\n",
      "getting max temperature:  tanzania _ 2010\n"
     ]
    },
    {
     "name": "stderr",
     "output_type": "stream",
     "text": [
      "100%|████████████████████████████████████████████████████████████████████████████████| 458/458 [06:25<00:00,  1.27it/s]\n"
     ]
    },
    {
     "name": "stdout",
     "output_type": "stream",
     "text": [
      "     country_labels   country  year       lat        lon   GID_1     GID_2  \\\n",
      "0                18  tanzania  2010 -6.138477  35.743701   TZA.3   TZA.3.4   \n",
      "1                18  tanzania  2010 -4.715211  36.007287   TZA.3   TZA.3.5   \n",
      "2                18  tanzania  2010 -5.108290  36.301132   TZA.3   TZA.3.3   \n",
      "3                18  tanzania  2010 -5.659221  35.389710   TZA.3   TZA.3.3   \n",
      "4                18  tanzania  2010 -4.562516  35.756384   TZA.3   TZA.3.5   \n",
      "..              ...       ...   ...       ...        ...     ...       ...   \n",
      "453              18  tanzania  2010 -6.012883  39.220247  TZA.28  TZA.28.2   \n",
      "454              18  tanzania  2010 -6.001724  39.246531  TZA.28  TZA.28.2   \n",
      "455              18  tanzania  2010 -5.928924  39.254502  TZA.28  TZA.28.2   \n",
      "456              18  tanzania  2010 -5.985061  39.242211  TZA.28  TZA.28.2   \n",
      "457              18  tanzania  2010 -5.957836  39.318597  TZA.28  TZA.28.1   \n",
      "\n",
      "     wealthpooled  households  urban_rural max_temperature  \n",
      "0        0.176254          21            1         29.2391  \n",
      "1       -0.612848          22            0         29.2391  \n",
      "2       -0.548252          20            0         29.6105  \n",
      "3       -1.144426          20            0         29.6105  \n",
      "4       -0.746132          20            0         29.6105  \n",
      "..            ...         ...          ...             ...  \n",
      "453     -0.206345          21            0         30.0069  \n",
      "454      0.027277          22            0          31.206  \n",
      "455     -0.044876          22            0         28.8177  \n",
      "456     -0.007156          22            0         35.9622  \n",
      "457     -0.513900          22            0         32.5084  \n",
      "\n",
      "[458 rows x 11 columns]\n",
      "getting max temperature:  tanzania _ 2011\n"
     ]
    },
    {
     "name": "stderr",
     "output_type": "stream",
     "text": [
      "100%|████████████████████████████████████████████████████████████████████████████████| 573/573 [07:53<00:00,  1.32it/s]\n"
     ]
    },
    {
     "name": "stdout",
     "output_type": "stream",
     "text": [
      "     country_labels   country  year       lat        lon   GID_1     GID_2  \\\n",
      "0                18  tanzania  2011 -4.852043  29.681121   TZA.8   TZA.8.6   \n",
      "1                18  tanzania  2011 -8.207527  31.822278  TZA.21  TZA.21.5   \n",
      "2                18  tanzania  2011 -3.582431  34.378830  TZA.24  TZA.24.7   \n",
      "3                18  tanzania  2011 -8.911537  33.440127  TZA.13  TZA.13.7   \n",
      "4                18  tanzania  2011 -3.194930  33.126802  TZA.16  TZA.16.2   \n",
      "..              ...       ...   ...       ...        ...     ...       ...   \n",
      "568              18  tanzania  2011 -2.622060  32.557046  TZA.16  TZA.16.7   \n",
      "569              18  tanzania  2011 -4.734034  36.007195   TZA.3   TZA.3.5   \n",
      "570              18  tanzania  2011 -2.477536  31.759462   TZA.4   TZA.4.2   \n",
      "571              18  tanzania  2011 -5.962315  39.259080  TZA.28  TZA.28.2   \n",
      "572              18  tanzania  2011 -4.838986  32.755167  TZA.26  TZA.26.5   \n",
      "\n",
      "     wealthpooled  households  urban_rural max_temperature  \n",
      "0       -0.357014          18            0         30.0591  \n",
      "1       -0.682010          18            0         30.0591  \n",
      "2       -0.789212          18            0         30.1546  \n",
      "3        0.540142          18            1         30.1546  \n",
      "4       -0.586903          18            0         30.1546  \n",
      "..            ...         ...          ...             ...  \n",
      "568     -0.541374          18            0         37.8465  \n",
      "569     -0.347736          17            0         36.0236  \n",
      "570     -0.319698          18            0         35.5826  \n",
      "571     -0.002876          18            0         37.6416  \n",
      "572     -0.566199          18            0         31.9317  \n",
      "\n",
      "[573 rows x 11 columns]\n",
      "getting max temperature:  tanzania _ 2015\n"
     ]
    },
    {
     "name": "stderr",
     "output_type": "stream",
     "text": [
      "100%|████████████████████████████████████████████████████████████████████████████████| 608/608 [08:28<00:00,  1.16it/s]\n"
     ]
    },
    {
     "name": "stdout",
     "output_type": "stream",
     "text": [
      "     country_labels   country  year       lat        lon   GID_1     GID_2  \\\n",
      "0                18  tanzania  2015 -4.726384  35.912846   TZA.3   TZA.3.5   \n",
      "1                18  tanzania  2015 -4.364093  35.852918   TZA.3   TZA.3.5   \n",
      "2                18  tanzania  2015 -4.903511  35.770286   TZA.3   TZA.3.5   \n",
      "3                18  tanzania  2015 -4.616079  35.799732   TZA.3   TZA.3.5   \n",
      "4                18  tanzania  2015 -6.692595  36.160461   TZA.3   TZA.3.7   \n",
      "..              ...       ...   ...       ...        ...     ...       ...   \n",
      "603              18  tanzania  2015 -5.330832  39.787793  TZA.19  TZA.19.2   \n",
      "604              18  tanzania  2015 -5.379079  39.762261  TZA.19  TZA.19.2   \n",
      "605              18  tanzania  2015 -5.402723  39.687581  TZA.19  TZA.19.2   \n",
      "606              18  tanzania  2015 -5.356214  39.728839  TZA.19  TZA.19.2   \n",
      "607              18  tanzania  2015 -5.374424  39.645050  TZA.19  TZA.19.2   \n",
      "\n",
      "     wealthpooled  households  urban_rural max_temperature  \n",
      "0       -0.445061          22            0         29.2034  \n",
      "1       -0.390651          21            0         29.2034  \n",
      "2        0.278767          22            1         29.7591  \n",
      "3       -0.165455          20            0         29.7591  \n",
      "4       -0.396438          21            0         29.7591  \n",
      "..            ...         ...          ...             ...  \n",
      "603     -0.337793          20            0         32.6899  \n",
      "604     -0.352044          21            0         40.0869  \n",
      "605      0.175303          22            0         34.4387  \n",
      "606      0.379379          20            0         36.9535  \n",
      "607      0.650280          22            1         33.7178  \n",
      "\n",
      "[608 rows x 11 columns]\n",
      "getting max temperature:  togo _ 2013\n"
     ]
    },
    {
     "name": "stderr",
     "output_type": "stream",
     "text": [
      "100%|████████████████████████████████████████████████████████████████████████████████| 330/330 [04:29<00:00,  1.28it/s]\n"
     ]
    },
    {
     "name": "stdout",
     "output_type": "stream",
     "text": [
      "     country_labels country  year        lat       lon  GID_1    GID_2  \\\n",
      "0                19    togo  2013   6.132719  1.219794  TGO.3  TGO.3.1   \n",
      "1                19    togo  2013   6.190756  1.377195  TGO.3  TGO.3.1   \n",
      "2                19    togo  2013   6.144871  1.287070  TGO.3  TGO.3.1   \n",
      "3                19    togo  2013  10.018775  0.990037  TGO.2  TGO.2.5   \n",
      "4                19    togo  2013   6.259177  1.204894  TGO.3  TGO.3.1   \n",
      "..              ...     ...   ...        ...       ...    ...      ...   \n",
      "325              19    togo  2013   6.184043  1.277230  TGO.3  TGO.3.1   \n",
      "326              19    togo  2013   6.190206  1.184532  TGO.3  TGO.3.1   \n",
      "327              19    togo  2013   6.346956  1.470073  TGO.3  TGO.3.3   \n",
      "328              19    togo  2013   6.166961  1.266781  TGO.3  TGO.3.1   \n",
      "329              19    togo  2013   9.768948  1.324937  TGO.2  TGO.2.3   \n",
      "\n",
      "     wealthpooled  households  urban_rural max_temperature  \n",
      "0        1.240921          28            1         29.2502  \n",
      "1        1.225895          29            1         29.2502  \n",
      "2        1.107222          29            1         29.4357  \n",
      "3       -0.434590          29            0         29.4357  \n",
      "4        1.103789          28            1         29.4357  \n",
      "..            ...         ...          ...             ...  \n",
      "325      0.880960          29            1         37.6588  \n",
      "326      1.425234          27            1         32.6202  \n",
      "327      0.622552          27            0         35.1065  \n",
      "328      1.337252          27            1         34.7523  \n",
      "329     -0.310928          30            0         26.1894  \n",
      "\n",
      "[330 rows x 11 columns]\n",
      "getting max temperature:  uganda _ 2009\n"
     ]
    },
    {
     "name": "stderr",
     "output_type": "stream",
     "text": [
      "100%|████████████████████████████████████████████████████████████████████████████████| 170/170 [02:12<00:00,  1.34it/s]\n"
     ]
    },
    {
     "name": "stdout",
     "output_type": "stream",
     "text": [
      "     country_labels country  year       lat        lon   GID_1     GID_2  \\\n",
      "0                20  uganda  2009 -0.360672  32.423418  UGA.32  UGA.32.1   \n",
      "1                20  uganda  2009 -0.055845  31.694363  UGA.35  UGA.35.1   \n",
      "2                20  uganda  2009 -0.404268  31.672585  UGA.35  UGA.35.2   \n",
      "3                20  uganda  2009 -0.385334  31.334605  UGA.35  UGA.35.2   \n",
      "4                20  uganda  2009 -0.245040  31.842583  UGA.35  UGA.35.3   \n",
      "..              ...     ...   ...       ...        ...     ...       ...   \n",
      "165              20  uganda  2009  2.530070  30.950554  UGA.47  UGA.47.2   \n",
      "166              20  uganda  2009  2.298771  31.085440  UGA.47  UGA.47.3   \n",
      "167              20  uganda  2009  3.475522  31.235816  UGA.58  UGA.58.1   \n",
      "168              20  uganda  2009  3.611046  31.267600  UGA.58  UGA.58.1   \n",
      "169              20  uganda  2009  3.553081  31.432873  UGA.58  UGA.58.1   \n",
      "\n",
      "     wealthpooled  households  urban_rural max_temperature  \n",
      "0       -0.822707          26            0         28.8052  \n",
      "1       -0.665930          26            0         28.8052  \n",
      "2       -0.074699          28            0         28.9707  \n",
      "3       -0.475179          28            0         28.9707  \n",
      "4       -0.386239          26            0         28.9707  \n",
      "..            ...         ...          ...             ...  \n",
      "165     -0.976605          24            0         35.5861  \n",
      "166     -0.715981          26            0         33.2276  \n",
      "167     -0.377247          26            1         33.2276  \n",
      "168     -0.731046          28            0         35.9814  \n",
      "169     -0.828849          26            0         35.9814  \n",
      "\n",
      "[170 rows x 11 columns]\n",
      "getting max temperature:  uganda _ 2011\n"
     ]
    },
    {
     "name": "stderr",
     "output_type": "stream",
     "text": [
      "100%|████████████████████████████████████████████████████████████████████████████████| 400/400 [05:20<00:00,  1.26it/s]\n"
     ]
    },
    {
     "name": "stdout",
     "output_type": "stream",
     "text": [
      "     country_labels country  year       lat        lon   GID_1     GID_2  \\\n",
      "0                20  uganda  2011  0.324718  32.578131  UGA.16  UGA.16.1   \n",
      "1                20  uganda  2011  0.355171  32.598544  UGA.16  UGA.16.1   \n",
      "2                20  uganda  2011  0.303904  32.566707  UGA.16  UGA.16.1   \n",
      "3                20  uganda  2011  0.323517  32.575550  UGA.16  UGA.16.1   \n",
      "4                20  uganda  2011  0.365799  32.569438  UGA.16  UGA.16.1   \n",
      "..              ...     ...   ...       ...        ...     ...       ...   \n",
      "395              20  uganda  2011 -0.970732  30.385931  UGA.48  UGA.48.2   \n",
      "396              20  uganda  2011 -0.952224  30.107658  UGA.48  UGA.48.3   \n",
      "397              20  uganda  2011 -0.796772  29.931162  UGA.52  UGA.52.1   \n",
      "398              20  uganda  2011 -0.967814  29.988417  UGA.52  UGA.52.2   \n",
      "399              20  uganda  2011 -0.688925  29.938125  UGA.52  UGA.52.1   \n",
      "\n",
      "     wealthpooled  households  urban_rural max_temperature  \n",
      "0        0.933076          18            1         30.0591  \n",
      "1        0.518877          22            1         30.0591  \n",
      "2        0.537718          23            1         30.1546  \n",
      "3        2.115278          19            1         30.1546  \n",
      "4        0.643005          22            1         30.1546  \n",
      "..            ...         ...          ...             ...  \n",
      "395     -0.637966          25            0          37.452  \n",
      "396     -0.511567          25            0         29.9105  \n",
      "397      0.685674          23            1         31.9247  \n",
      "398     -0.651027          25            0         33.5282  \n",
      "399     -0.565248          22            0         27.6125  \n",
      "\n",
      "[400 rows x 11 columns]\n",
      "getting max temperature:  uganda _ 2014\n"
     ]
    },
    {
     "name": "stderr",
     "output_type": "stream",
     "text": [
      "100%|████████████████████████████████████████████████████████████████████████████████| 208/208 [02:47<00:00,  1.22it/s]\n"
     ]
    },
    {
     "name": "stdout",
     "output_type": "stream",
     "text": [
      "     country_labels country  year       lat        lon   GID_1     GID_2  \\\n",
      "0                20  uganda  2014  0.347428  32.590274  UGA.16  UGA.16.1   \n",
      "1                20  uganda  2014  0.346788  32.569624  UGA.16  UGA.16.1   \n",
      "2                20  uganda  2014  0.385777  32.578231  UGA.16  UGA.16.1   \n",
      "3                20  uganda  2014  0.362610  32.572214  UGA.16  UGA.16.1   \n",
      "4                20  uganda  2014  0.336331  32.573515  UGA.16  UGA.16.1   \n",
      "..              ...     ...   ...       ...        ...     ...       ...   \n",
      "203              20  uganda  2014 -0.663968  30.025507   UGA.6   UGA.6.4   \n",
      "204              20  uganda  2014  1.041490  30.318170   UGA.5   UGA.5.2   \n",
      "205              20  uganda  2014 -0.271820  30.114734   UGA.6   UGA.6.2   \n",
      "206              20  uganda  2014 -0.592710  30.407089   UGA.6   UGA.6.5   \n",
      "207              20  uganda  2014 -0.513911  30.320591   UGA.6   UGA.6.5   \n",
      "\n",
      "     wealthpooled  households  urban_rural max_temperature  \n",
      "0        1.270660          28            1         28.4919  \n",
      "1        0.975191          26            1         28.4919  \n",
      "2        1.105973          28            1         28.9583  \n",
      "3        1.697064          23            1         28.9583  \n",
      "4        1.046258          26            1         28.9583  \n",
      "..            ...         ...          ...             ...  \n",
      "203     -0.517339          25            0         29.0857  \n",
      "204     -0.182301          12            0          32.921  \n",
      "205     -0.473618          27            0          32.921  \n",
      "206     -0.196812          25            1          32.921  \n",
      "207     -0.040132          27            0         29.0857  \n",
      "\n",
      "[208 rows x 11 columns]\n",
      "getting max temperature:  zambia _ 2013\n"
     ]
    },
    {
     "name": "stderr",
     "output_type": "stream",
     "text": [
      "100%|████████████████████████████████████████████████████████████████████████████████| 719/719 [09:46<00:00,  1.23it/s]\n"
     ]
    },
    {
     "name": "stdout",
     "output_type": "stream",
     "text": [
      "     country_labels country  year        lat        lon   GID_1     GID_2  \\\n",
      "0                21  zambia  2013 -15.378546  28.230680   ZMB.5   ZMB.5.2   \n",
      "1                21  zambia  2013  -9.357324  32.718095   ZMB.6   ZMB.6.5   \n",
      "2                21  zambia  2013 -11.769605  31.545381   ZMB.6   ZMB.6.4   \n",
      "3                21  zambia  2013 -11.890395  31.433185   ZMB.6   ZMB.6.4   \n",
      "4                21  zambia  2013 -15.334089  28.673147   ZMB.5   ZMB.5.2   \n",
      "..              ...     ...   ...        ...        ...     ...       ...   \n",
      "714              21  zambia  2013  -9.284425  32.635397   ZMB.6   ZMB.6.5   \n",
      "715              21  zambia  2013 -11.774679  33.292486   ZMB.3   ZMB.3.4   \n",
      "716              21  zambia  2013 -15.385706  28.258770   ZMB.5   ZMB.5.4   \n",
      "717              21  zambia  2013 -16.016171  23.462544  ZMB.10  ZMB.10.5   \n",
      "718              21  zambia  2013 -15.365589  28.399461   ZMB.5   ZMB.5.4   \n",
      "\n",
      "     wealthpooled  households  urban_rural max_temperature  \n",
      "0        0.817691          24            1         29.2502  \n",
      "1        0.093965          23            0         29.2502  \n",
      "2       -0.755172          17            0         29.4357  \n",
      "3       -0.216374          25            0         29.4357  \n",
      "4        0.341963          24            0         29.4357  \n",
      "..            ...         ...          ...             ...  \n",
      "714     -0.448456          23            0         34.6023  \n",
      "715     -0.397591          21            0         32.5161  \n",
      "716      1.821607          25            1         29.2502  \n",
      "717     -0.765871          24            0         38.3132  \n",
      "718      2.173396          24            0         31.4821  \n",
      "\n",
      "[719 rows x 11 columns]\n",
      "getting max temperature:  zimbabwe _ 2010\n"
     ]
    },
    {
     "name": "stderr",
     "output_type": "stream",
     "text": [
      "100%|████████████████████████████████████████████████████████████████████████████████| 393/393 [04:36<00:00,  1.48it/s]\n"
     ]
    },
    {
     "name": "stdout",
     "output_type": "stream",
     "text": [
      "     country_labels   country  year        lat        lon   GID_1     GID_2  \\\n",
      "0                22  zimbabwe  2010 -17.780982  30.993649   ZWE.2   ZWE.2.1   \n",
      "1                22  zimbabwe  2010 -18.654619  28.927949   ZWE.8   ZWE.8.5   \n",
      "2                22  zimbabwe  2010 -19.320186  30.204714  ZWE.10  ZWE.10.1   \n",
      "3                22  zimbabwe  2010 -17.876152  31.036160   ZWE.2   ZWE.2.1   \n",
      "4                22  zimbabwe  2010 -20.546425  30.975473   ZWE.7   ZWE.7.5   \n",
      "..              ...       ...   ...        ...        ...     ...       ...   \n",
      "388              22  zimbabwe  2010 -19.242169  29.496846  ZWE.10  ZWE.10.4   \n",
      "389              22  zimbabwe  2010 -20.179638  28.497670   ZWE.1   ZWE.1.1   \n",
      "390              22  zimbabwe  2010 -17.880727  30.937232   ZWE.2   ZWE.2.1   \n",
      "391              22  zimbabwe  2010 -21.504643  28.328777   ZWE.9   ZWE.9.5   \n",
      "392              22  zimbabwe  2010 -17.813884  31.049818   ZWE.2   ZWE.2.1   \n",
      "\n",
      "     wealthpooled  households  urban_rural max_temperature  \n",
      "0        2.104832          17            1         29.2391  \n",
      "1       -0.884086          29            0         29.2391  \n",
      "2        1.173141          18            0         29.6105  \n",
      "3        1.332048          18            1         29.6105  \n",
      "4       -0.894400          25            0         29.6105  \n",
      "..            ...         ...          ...             ...  \n",
      "388     -0.417423          29            0         35.0045  \n",
      "389      1.775296          21            1         28.7833  \n",
      "390      1.394163          21            1         36.1503  \n",
      "391     -0.527331          29            0         28.6475  \n",
      "392      2.347069          19            1         33.3604  \n",
      "\n",
      "[393 rows x 11 columns]\n",
      "getting max temperature:  zimbabwe _ 2015\n"
     ]
    },
    {
     "name": "stderr",
     "output_type": "stream",
     "text": [
      "100%|████████████████████████████████████████████████████████████████████████████████| 400/400 [04:49<00:00,  1.33it/s]\n"
     ]
    },
    {
     "name": "stdout",
     "output_type": "stream",
     "text": [
      "     country_labels   country  year        lat        lon  GID_1    GID_2  \\\n",
      "0                22  zimbabwe  2015 -17.303925  31.888711  ZWE.5  ZWE.5.8   \n",
      "1                22  zimbabwe  2015 -20.733202  30.740049  ZWE.7  ZWE.7.3   \n",
      "2                22  zimbabwe  2015 -17.799623  30.931145  ZWE.2  ZWE.2.1   \n",
      "3                22  zimbabwe  2015 -17.005589  30.183795  ZWE.6  ZWE.6.5   \n",
      "4                22  zimbabwe  2015 -20.198491  28.610482  ZWE.1  ZWE.1.1   \n",
      "..              ...       ...   ...        ...        ...    ...      ...   \n",
      "395              22  zimbabwe  2015 -17.915288  31.156115  ZWE.2  ZWE.2.1   \n",
      "396              22  zimbabwe  2015 -18.379501  31.872287  ZWE.3  ZWE.3.4   \n",
      "397              22  zimbabwe  2015 -16.660612  29.850649  ZWE.6  ZWE.6.2   \n",
      "398              22  zimbabwe  2015 -17.914251  30.956975  ZWE.2  ZWE.2.1   \n",
      "399              22  zimbabwe  2015 -17.859114  31.797626  ZWE.5  ZWE.5.5   \n",
      "\n",
      "     wealthpooled  households  urban_rural max_temperature  \n",
      "0       -0.089640          27            0         29.2034  \n",
      "1       -0.405436          26            0         29.2034  \n",
      "2        1.218356          27            1         29.7591  \n",
      "3        0.454257          26            0         29.7591  \n",
      "4        1.939864          26            1         29.7591  \n",
      "..            ...         ...          ...             ...  \n",
      "395      0.237659          24            1         40.3819  \n",
      "396      0.492502          25            0           29.36  \n",
      "397     -0.088922          28            0         32.8346  \n",
      "398      1.613829          25            1          34.033  \n",
      "399      0.130854          28            0         27.2699  \n",
      "\n",
      "[400 rows x 11 columns]\n"
     ]
    }
   ],
   "source": [
    "for country, year in dhs_surveys[26:]:\n",
    "    print(\"getting max temperature: \",country,\"_\",str(year))\n",
    "    subset_df = export_max_temp(df=dhs_df, country=country, year=year)\n",
    "    dhs_temp_19047 = dhs_temp_19047.append(subset_df,ignore_index=True)\n",
    "dhs_temp_19047.to_csv(os.path.join(OUTPUTS_ROOT_DIR, 'dhs_temp_19047.csv'))"
   ]
  },
  {
   "cell_type": "code",
   "execution_count": 53,
   "metadata": {},
   "outputs": [],
   "source": [
    "import os\n",
    "import pandas as pd \n",
    "import glob"
   ]
  },
  {
   "cell_type": "code",
   "execution_count": 54,
   "metadata": {
    "scrolled": true
   },
   "outputs": [
    {
     "name": "stdout",
     "output_type": "stream",
     "text": [
      "['E:/africa_poverty_clean-main/data/dhs_temp_raw\\\\angola_2011.csv', 'E:/africa_poverty_clean-main/data/dhs_temp_raw\\\\angola_2015.csv', 'E:/africa_poverty_clean-main/data/dhs_temp_raw\\\\benin_2012.csv', 'E:/africa_poverty_clean-main/data/dhs_temp_raw\\\\burkina_faso_2010.csv', 'E:/africa_poverty_clean-main/data/dhs_temp_raw\\\\burkina_faso_2014.csv', 'E:/africa_poverty_clean-main/data/dhs_temp_raw\\\\cameroon_2011.csv', 'E:/africa_poverty_clean-main/data/dhs_temp_raw\\\\cote_d_ivoire_2012.csv', 'E:/africa_poverty_clean-main/data/dhs_temp_raw\\\\democratic_republic_of_congo_2013.csv', 'E:/africa_poverty_clean-main/data/dhs_temp_raw\\\\ethiopia_2010.csv', 'E:/africa_poverty_clean-main/data/dhs_temp_raw\\\\ghana_2014.csv', 'E:/africa_poverty_clean-main/data/dhs_temp_raw\\\\ghana_2016.csv', 'E:/africa_poverty_clean-main/data/dhs_temp_raw\\\\guinea_2012.csv', 'E:/africa_poverty_clean-main/data/dhs_temp_raw\\\\kenya_2014.csv', 'E:/africa_poverty_clean-main/data/dhs_temp_raw\\\\kenya_2015.csv', 'E:/africa_poverty_clean-main/data/dhs_temp_raw\\\\lesotho_2009.csv', 'E:/africa_poverty_clean-main/data/dhs_temp_raw\\\\lesotho_2014.csv', 'E:/africa_poverty_clean-main/data/dhs_temp_raw\\\\malawi_2010.csv', 'E:/africa_poverty_clean-main/data/dhs_temp_raw\\\\malawi_2012.csv', 'E:/africa_poverty_clean-main/data/dhs_temp_raw\\\\malawi_2014.csv', 'E:/africa_poverty_clean-main/data/dhs_temp_raw\\\\malawi_2015.csv', 'E:/africa_poverty_clean-main/data/dhs_temp_raw\\\\mali_2012.csv', 'E:/africa_poverty_clean-main/data/dhs_temp_raw\\\\mali_2015.csv', 'E:/africa_poverty_clean-main/data/dhs_temp_raw\\\\mozambique_2009.csv', 'E:/africa_poverty_clean-main/data/dhs_temp_raw\\\\mozambique_2011.csv', 'E:/africa_poverty_clean-main/data/dhs_temp_raw\\\\nigeria_2010.csv', 'E:/africa_poverty_clean-main/data/dhs_temp_raw\\\\nigeria_2013.csv', 'E:/africa_poverty_clean-main/data/dhs_temp_raw\\\\nigeria_2015.csv', 'E:/africa_poverty_clean-main/data/dhs_temp_raw\\\\rwanda_2010.csv', 'E:/africa_poverty_clean-main/data/dhs_temp_raw\\\\rwanda_2014.csv', 'E:/africa_poverty_clean-main/data/dhs_temp_raw\\\\senegal_2010.csv', 'E:/africa_poverty_clean-main/data/dhs_temp_raw\\\\senegal_2012.csv', 'E:/africa_poverty_clean-main/data/dhs_temp_raw\\\\sierra_leone_2013.csv', 'E:/africa_poverty_clean-main/data/dhs_temp_raw\\\\tanzania_2010.csv', 'E:/africa_poverty_clean-main/data/dhs_temp_raw\\\\tanzania_2011.csv', 'E:/africa_poverty_clean-main/data/dhs_temp_raw\\\\tanzania_2015.csv', 'E:/africa_poverty_clean-main/data/dhs_temp_raw\\\\togo_2013.csv', 'E:/africa_poverty_clean-main/data/dhs_temp_raw\\\\uganda_2009.csv', 'E:/africa_poverty_clean-main/data/dhs_temp_raw\\\\uganda_2011.csv', 'E:/africa_poverty_clean-main/data/dhs_temp_raw\\\\uganda_2014.csv', 'E:/africa_poverty_clean-main/data/dhs_temp_raw\\\\zambia_2013.csv', 'E:/africa_poverty_clean-main/data/dhs_temp_raw\\\\zimbabwe_2010.csv', 'E:/africa_poverty_clean-main/data/dhs_temp_raw\\\\zimbabwe_2015.csv']\n"
     ]
    }
   ],
   "source": [
    "csv_list=glob.glob('E:/africa_poverty_clean-main/data/dhs_temp_raw/*.csv') \n",
    "# 如果不加上*的话拿到的就是目录的名称，如果加上*，拿到的就是完整的目录数据\n",
    "print(csv_list)"
   ]
  },
  {
   "cell_type": "code",
   "execution_count": 55,
   "metadata": {},
   "outputs": [],
   "source": [
    "df_list = []\n",
    "for filename in sorted(csv_list):\n",
    "    df_list.append(pd.read_csv(filename))\n",
    "full_df = pd.concat(df_list)\n",
    "\n",
    "full_df.to_csv('E:/africa_poverty_clean-main/data/dhs_temp_19047.csv')"
   ]
  },
  {
   "cell_type": "code",
   "execution_count": 56,
   "metadata": {},
   "outputs": [],
   "source": [
    "dhs_temp_19047 = pd.read_csv('E:/africa_poverty_clean-main/data/dhs_temp_19047.csv', float_precision='high', index_col=False)"
   ]
  },
  {
   "cell_type": "code",
   "execution_count": 57,
   "metadata": {},
   "outputs": [
    {
     "data": {
      "text/html": [
       "<div>\n",
       "<style scoped>\n",
       "    .dataframe tbody tr th:only-of-type {\n",
       "        vertical-align: middle;\n",
       "    }\n",
       "\n",
       "    .dataframe tbody tr th {\n",
       "        vertical-align: top;\n",
       "    }\n",
       "\n",
       "    .dataframe thead th {\n",
       "        text-align: right;\n",
       "    }\n",
       "</style>\n",
       "<table border=\"1\" class=\"dataframe\">\n",
       "  <thead>\n",
       "    <tr style=\"text-align: right;\">\n",
       "      <th></th>\n",
       "      <th>Unnamed: 0</th>\n",
       "      <th>Unnamed: 0.1</th>\n",
       "      <th>country_labels</th>\n",
       "      <th>country</th>\n",
       "      <th>year</th>\n",
       "      <th>lat</th>\n",
       "      <th>lon</th>\n",
       "      <th>GID_1</th>\n",
       "      <th>GID_2</th>\n",
       "      <th>wealthpooled</th>\n",
       "      <th>households</th>\n",
       "      <th>urban_rural</th>\n",
       "      <th>max_temperature</th>\n",
       "    </tr>\n",
       "  </thead>\n",
       "  <tbody>\n",
       "    <tr>\n",
       "      <th>0</th>\n",
       "      <td>0</td>\n",
       "      <td>0</td>\n",
       "      <td>0</td>\n",
       "      <td>angola</td>\n",
       "      <td>2011</td>\n",
       "      <td>-12.350257</td>\n",
       "      <td>13.534922</td>\n",
       "      <td>AGO.2</td>\n",
       "      <td>AGO.2.9</td>\n",
       "      <td>2.595618</td>\n",
       "      <td>36</td>\n",
       "      <td>1</td>\n",
       "      <td>30.059137</td>\n",
       "    </tr>\n",
       "    <tr>\n",
       "      <th>1</th>\n",
       "      <td>1</td>\n",
       "      <td>1</td>\n",
       "      <td>0</td>\n",
       "      <td>angola</td>\n",
       "      <td>2011</td>\n",
       "      <td>-12.360865</td>\n",
       "      <td>13.551494</td>\n",
       "      <td>AGO.2</td>\n",
       "      <td>AGO.2.9</td>\n",
       "      <td>2.209620</td>\n",
       "      <td>32</td>\n",
       "      <td>1</td>\n",
       "      <td>30.059137</td>\n",
       "    </tr>\n",
       "    <tr>\n",
       "      <th>2</th>\n",
       "      <td>2</td>\n",
       "      <td>2</td>\n",
       "      <td>0</td>\n",
       "      <td>angola</td>\n",
       "      <td>2011</td>\n",
       "      <td>-12.613421</td>\n",
       "      <td>13.413085</td>\n",
       "      <td>AGO.2</td>\n",
       "      <td>AGO.2.3</td>\n",
       "      <td>0.906469</td>\n",
       "      <td>36</td>\n",
       "      <td>1</td>\n",
       "      <td>30.154565</td>\n",
       "    </tr>\n",
       "    <tr>\n",
       "      <th>3</th>\n",
       "      <td>3</td>\n",
       "      <td>3</td>\n",
       "      <td>0</td>\n",
       "      <td>angola</td>\n",
       "      <td>2011</td>\n",
       "      <td>-12.581454</td>\n",
       "      <td>13.397711</td>\n",
       "      <td>AGO.2</td>\n",
       "      <td>AGO.2.3</td>\n",
       "      <td>1.105359</td>\n",
       "      <td>35</td>\n",
       "      <td>1</td>\n",
       "      <td>30.154565</td>\n",
       "    </tr>\n",
       "    <tr>\n",
       "      <th>4</th>\n",
       "      <td>4</td>\n",
       "      <td>4</td>\n",
       "      <td>0</td>\n",
       "      <td>angola</td>\n",
       "      <td>2011</td>\n",
       "      <td>-12.578135</td>\n",
       "      <td>13.418748</td>\n",
       "      <td>AGO.2</td>\n",
       "      <td>AGO.2.3</td>\n",
       "      <td>1.879344</td>\n",
       "      <td>37</td>\n",
       "      <td>1</td>\n",
       "      <td>30.154565</td>\n",
       "    </tr>\n",
       "    <tr>\n",
       "      <th>...</th>\n",
       "      <td>...</td>\n",
       "      <td>...</td>\n",
       "      <td>...</td>\n",
       "      <td>...</td>\n",
       "      <td>...</td>\n",
       "      <td>...</td>\n",
       "      <td>...</td>\n",
       "      <td>...</td>\n",
       "      <td>...</td>\n",
       "      <td>...</td>\n",
       "      <td>...</td>\n",
       "      <td>...</td>\n",
       "      <td>...</td>\n",
       "    </tr>\n",
       "    <tr>\n",
       "      <th>19042</th>\n",
       "      <td>395</td>\n",
       "      <td>395</td>\n",
       "      <td>22</td>\n",
       "      <td>zimbabwe</td>\n",
       "      <td>2015</td>\n",
       "      <td>-17.915288</td>\n",
       "      <td>31.156115</td>\n",
       "      <td>ZWE.2</td>\n",
       "      <td>ZWE.2.1</td>\n",
       "      <td>0.237659</td>\n",
       "      <td>24</td>\n",
       "      <td>1</td>\n",
       "      <td>40.381921</td>\n",
       "    </tr>\n",
       "    <tr>\n",
       "      <th>19043</th>\n",
       "      <td>396</td>\n",
       "      <td>396</td>\n",
       "      <td>22</td>\n",
       "      <td>zimbabwe</td>\n",
       "      <td>2015</td>\n",
       "      <td>-18.379501</td>\n",
       "      <td>31.872287</td>\n",
       "      <td>ZWE.3</td>\n",
       "      <td>ZWE.3.4</td>\n",
       "      <td>0.492502</td>\n",
       "      <td>25</td>\n",
       "      <td>0</td>\n",
       "      <td>29.360010</td>\n",
       "    </tr>\n",
       "    <tr>\n",
       "      <th>19044</th>\n",
       "      <td>397</td>\n",
       "      <td>397</td>\n",
       "      <td>22</td>\n",
       "      <td>zimbabwe</td>\n",
       "      <td>2015</td>\n",
       "      <td>-16.660612</td>\n",
       "      <td>29.850649</td>\n",
       "      <td>ZWE.6</td>\n",
       "      <td>ZWE.6.2</td>\n",
       "      <td>-0.088922</td>\n",
       "      <td>28</td>\n",
       "      <td>0</td>\n",
       "      <td>32.834589</td>\n",
       "    </tr>\n",
       "    <tr>\n",
       "      <th>19045</th>\n",
       "      <td>398</td>\n",
       "      <td>398</td>\n",
       "      <td>22</td>\n",
       "      <td>zimbabwe</td>\n",
       "      <td>2015</td>\n",
       "      <td>-17.914251</td>\n",
       "      <td>30.956975</td>\n",
       "      <td>ZWE.2</td>\n",
       "      <td>ZWE.2.1</td>\n",
       "      <td>1.613829</td>\n",
       "      <td>25</td>\n",
       "      <td>1</td>\n",
       "      <td>34.033044</td>\n",
       "    </tr>\n",
       "    <tr>\n",
       "      <th>19046</th>\n",
       "      <td>399</td>\n",
       "      <td>399</td>\n",
       "      <td>22</td>\n",
       "      <td>zimbabwe</td>\n",
       "      <td>2015</td>\n",
       "      <td>-17.859114</td>\n",
       "      <td>31.797626</td>\n",
       "      <td>ZWE.5</td>\n",
       "      <td>ZWE.5.5</td>\n",
       "      <td>0.130854</td>\n",
       "      <td>28</td>\n",
       "      <td>0</td>\n",
       "      <td>27.269891</td>\n",
       "    </tr>\n",
       "  </tbody>\n",
       "</table>\n",
       "<p>19047 rows × 13 columns</p>\n",
       "</div>"
      ],
      "text/plain": [
       "       Unnamed: 0  Unnamed: 0.1  country_labels   country  year        lat  \\\n",
       "0               0             0               0    angola  2011 -12.350257   \n",
       "1               1             1               0    angola  2011 -12.360865   \n",
       "2               2             2               0    angola  2011 -12.613421   \n",
       "3               3             3               0    angola  2011 -12.581454   \n",
       "4               4             4               0    angola  2011 -12.578135   \n",
       "...           ...           ...             ...       ...   ...        ...   \n",
       "19042         395           395              22  zimbabwe  2015 -17.915288   \n",
       "19043         396           396              22  zimbabwe  2015 -18.379501   \n",
       "19044         397           397              22  zimbabwe  2015 -16.660612   \n",
       "19045         398           398              22  zimbabwe  2015 -17.914251   \n",
       "19046         399           399              22  zimbabwe  2015 -17.859114   \n",
       "\n",
       "             lon  GID_1    GID_2  wealthpooled  households  urban_rural  \\\n",
       "0      13.534922  AGO.2  AGO.2.9      2.595618          36            1   \n",
       "1      13.551494  AGO.2  AGO.2.9      2.209620          32            1   \n",
       "2      13.413085  AGO.2  AGO.2.3      0.906469          36            1   \n",
       "3      13.397711  AGO.2  AGO.2.3      1.105359          35            1   \n",
       "4      13.418748  AGO.2  AGO.2.3      1.879344          37            1   \n",
       "...          ...    ...      ...           ...         ...          ...   \n",
       "19042  31.156115  ZWE.2  ZWE.2.1      0.237659          24            1   \n",
       "19043  31.872287  ZWE.3  ZWE.3.4      0.492502          25            0   \n",
       "19044  29.850649  ZWE.6  ZWE.6.2     -0.088922          28            0   \n",
       "19045  30.956975  ZWE.2  ZWE.2.1      1.613829          25            1   \n",
       "19046  31.797626  ZWE.5  ZWE.5.5      0.130854          28            0   \n",
       "\n",
       "       max_temperature  \n",
       "0            30.059137  \n",
       "1            30.059137  \n",
       "2            30.154565  \n",
       "3            30.154565  \n",
       "4            30.154565  \n",
       "...                ...  \n",
       "19042        40.381921  \n",
       "19043        29.360010  \n",
       "19044        32.834589  \n",
       "19045        34.033044  \n",
       "19046        27.269891  \n",
       "\n",
       "[19047 rows x 13 columns]"
      ]
     },
     "execution_count": 57,
     "metadata": {},
     "output_type": "execute_result"
    }
   ],
   "source": [
    "dhs_temp_19047"
   ]
  },
  {
   "cell_type": "code",
   "execution_count": 58,
   "metadata": {},
   "outputs": [],
   "source": [
    "dhs_temp_19047 = dhs_temp_19047.loc[:,['country_labels','country','year','lat','lon','GID_1','GID_2','wealthpooled','households','urban_rural','max_temperature']]"
   ]
  },
  {
   "cell_type": "code",
   "execution_count": 59,
   "metadata": {},
   "outputs": [],
   "source": [
    "dhs_temp_19047.to_csv('E:/africa_poverty_clean-main/data/dhs_temp_19047.csv',index=False)"
   ]
  }
 ],
 "metadata": {
  "kernelspec": {
   "display_name": "r3py3",
   "language": "python",
   "name": "r3py3"
  },
  "language_info": {
   "codemirror_mode": {
    "name": "ipython",
    "version": 3
   },
   "file_extension": ".py",
   "mimetype": "text/x-python",
   "name": "python",
   "nbconvert_exporter": "python",
   "pygments_lexer": "ipython3",
   "version": "3.7.0"
  }
 },
 "nbformat": 4,
 "nbformat_minor": 4
}
