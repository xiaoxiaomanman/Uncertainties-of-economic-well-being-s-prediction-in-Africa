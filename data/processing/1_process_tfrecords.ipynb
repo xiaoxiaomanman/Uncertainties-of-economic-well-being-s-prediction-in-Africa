{
 "cells": [
  {
   "cell_type": "markdown",
   "metadata": {
    "toc": true
   },
   "source": [
    "<h1>Table of Contents<span class=\"tocSkip\"></span></h1>\n",
    "<div class=\"toc\"><ul class=\"toc-item\"><li><span><a href=\"#Pre-requisites\" data-toc-modified-id=\"Pre-requisites-1\"><span class=\"toc-item-num\">1&nbsp;&nbsp;</span>Pre-requisites</a></span></li><li><span><a href=\"#Instructions\" data-toc-modified-id=\"Instructions-2\"><span class=\"toc-item-num\">2&nbsp;&nbsp;</span>Instructions</a></span></li><li><span><a href=\"#Imports-and-Constants\" data-toc-modified-id=\"Imports-and-Constants-3\"><span class=\"toc-item-num\">3&nbsp;&nbsp;</span>Imports and Constants</a></span></li><li><span><a href=\"#Validate-and-Split-Exported-TFRecords\" data-toc-modified-id=\"Validate-and-Split-Exported-TFRecords-4\"><span class=\"toc-item-num\">4&nbsp;&nbsp;</span>Validate and Split Exported TFRecords</a></span></li><li><span><a href=\"#Calculate-Mean-and-Std-Dev-for-Each-Band\" data-toc-modified-id=\"Calculate-Mean-and-Std-Dev-for-Each-Band-5\"><span class=\"toc-item-num\">5&nbsp;&nbsp;</span>Calculate Mean and Std-Dev for Each Band</a></span></li></ul></div>"
   ]
  },
  {
   "cell_type": "markdown",
   "metadata": {},
   "source": [
    "## Pre-requisites\n",
    "\n",
    "Go through the [`preprocessing/0_export_tfrecords.ipynb`](./0_export_tfrecords.ipynb) notebook.\n",
    "\n",
    "Before running this notebook, you should have the following structure under the `data/` directory:\n",
    "\n",
    "```\n",
    "data/\n",
    "    dhs_tfrecords_raw/\n",
    "        angola_2011_00.tfrecord.gz\n",
    "        ...\n",
    "        zimbabwe_2015_XX.tfrecord.gz\n",
    "    dhsnl_tfrecords_raw/\n",
    "        angola_2010_00.tfrecord.gz\n",
    "        ...\n",
    "        zimbabwe_2016_XX.tfrecord.gz\n",
    "    lsms_tfrecords_raw/\n",
    "        ethiopia_2011_00.tfrecord.gz\n",
    "        ...\n",
    "        uganda_2013_XX.tfrecord.gz\n",
    "```\n",
    "\n",
    "## Instructions\n",
    "\n",
    "This notebook processes the exported TFRecords as follows:\n",
    "1. Verifies that the fields in the TFRecords match the original CSV files.\n",
    "2. Splits each monolithic TFRecord file exported from Google Earth Engine into one file per record.\n",
    "\n",
    "After running this notebook, you should have three new folders (`dhs_tfrecords`, `dhsnl_tfrecords`, and `lsms_tfrecords`) under `data/`:\n",
    "\n",
    "```\n",
    "data/\n",
    "    dhs_tfrecords/\n",
    "        angola_2011/\n",
    "            00000.tfrecord.gz\n",
    "            ...\n",
    "            00229.tfrecord.gz\n",
    "        ...\n",
    "        zimbabwe_2015/\n",
    "            00000.tfrecord.gz\n",
    "            ...\n",
    "            00399.tfrecord.gz\n",
    "    dhsnl_tfrecords/\n",
    "        angola_2010/\n",
    "            00000.tfrecord.gz\n",
    "            ...\n",
    "            07734.tfrecord.gz\n",
    "        zimbabwe_2016/\n",
    "            00000.tfrecord.gz\n",
    "            ...\n",
    "            03584.tfrecord.gz\n",
    "    lsms_tfrecords/\n",
    "        ethiopia_2011/\n",
    "            00000.tfrecord.gz\n",
    "            ...\n",
    "            00326.tfrecord.gz\n",
    "        uganda_2013/\n",
    "            00000.tfrecord.gz\n",
    "            ...\n",
    "            00164.tfrecord.gz\n",
    "```\n",
    "\n",
    "This notebook also calculates the mean and standard deviation of each band across each of the 3 datasets."
   ]
  },
  {
   "cell_type": "markdown",
   "metadata": {},
   "source": [
    "## Imports and Constants"
   ]
  },
  {
   "cell_type": "code",
   "execution_count": 1,
   "metadata": {},
   "outputs": [
    {
     "name": "stdout",
     "output_type": "stream",
     "text": [
      "/data/zzw/africa_poverty_clean-main\n",
      "/data/zzw/africa_poverty_clean-main\r\n"
     ]
    }
   ],
   "source": [
    "%load_ext autoreload\n",
    "%autoreload 2\n",
    "\n",
    "# change directory to repo root, and verify\n",
    "%cd '../'\n",
    "!pwd"
   ]
  },
  {
   "cell_type": "code",
   "execution_count": 2,
   "metadata": {},
   "outputs": [],
   "source": [
    "from __future__ import annotations\n",
    "\n",
    "from collections.abc import Iterable\n",
    "from glob import glob\n",
    "from pprint import pprint\n",
    "import os\n",
    "from typing import Optional\n",
    "\n",
    "import numpy as np\n",
    "import pandas as pd\n",
    "import tensorflow as tf\n",
    "from tqdm.auto import tqdm\n",
    "\n",
    "from batchers import batcher, tfrecord_paths_utils\n",
    "from preprocessing.helper import (\n",
    "    analyze_tfrecord_batch,\n",
    "    per_band_mean_std,\n",
    "    print_analysis_results)"
   ]
  },
  {
   "cell_type": "code",
   "execution_count": 3,
   "metadata": {},
   "outputs": [],
   "source": [
    "REQUIRED_BANDS = [\n",
    "    'BLUE', 'GREEN', 'LAT', 'LON', 'NIGHTLIGHTS', 'NIR', 'RED',\n",
    "    'SWIR1', 'SWIR2', 'TEMP1']\n",
    "\n",
    "BANDS_ORDER = [\n",
    "    'BLUE', 'GREEN', 'RED', 'SWIR1', 'SWIR2', 'TEMP1', 'NIR',\n",
    "    'DMSP', 'VIIRS']\n",
    "\n",
    "DHS_EXPORT_FOLDER = 'data/dhs_tfrecords_raw'\n",
    "DHSNL_EXPORT_FOLDER = 'data/dhsnl_tfrecords_raw'\n",
    "LSMS_EXPORT_FOLDER = 'data/lsms_tfrecords_raw'\n",
    "\n",
    "DHS_PROCESSED_FOLDER = 'data/dhs_tfrecords'\n",
    "DHSNL_PROCESSED_FOLDER = 'data/dhsnl_tfrecords'\n",
    "LSMS_PROCESSED_FOLDER = 'data/lsms_tfrecords'"
   ]
  },
  {
   "cell_type": "markdown",
   "metadata": {},
   "source": [
    "## Validate and Split Exported TFRecords"
   ]
  },
  {
   "cell_type": "code",
   "execution_count": 4,
   "metadata": {},
   "outputs": [],
   "source": [
    "def process_dataset(csv_path: str, input_dir: str, processed_dir: str) -> None:\n",
    "    '''\n",
    "    Args\n",
    "    - csv_path: str, path to CSV of DHS or LSMS clusters\n",
    "    - input_dir: str, path to TFRecords exported from Google Earth Engine\n",
    "    - processed_dir: str, folder where to save processed TFRecords\n",
    "    '''\n",
    "    df = pd.read_csv(csv_path, float_precision='high', index_col=False)\n",
    "    surveys = list(df.groupby(['country', 'year']).groups.keys())  # (country, year) tuples\n",
    "\n",
    "    for country, year in surveys:\n",
    "        country_year = f'{country}_{year}'\n",
    "        print('Processing:', country_year)\n",
    "\n",
    "        tfrecord_paths = glob(os.path.join(input_dir, country_year + '*'))\n",
    "        out_dir = os.path.join(processed_dir, country_year)\n",
    "        os.makedirs(out_dir, exist_ok=True)\n",
    "        subset_df = df[(df['country'] == country) & (df['year'] == year)].reset_index(drop=True)\n",
    "        validate_and_split_tfrecords(\n",
    "            tfrecord_paths=tfrecord_paths, out_dir=out_dir, df=subset_df)\n",
    "\n",
    "\n",
    "def validate_and_split_tfrecords(\n",
    "        tfrecord_paths: Iterable[str],\n",
    "        out_dir: str,\n",
    "        df: pd.DataFrame\n",
    "        ) -> None:\n",
    "    '''Validates and splits a list of exported TFRecord files (for a\n",
    "    given country-year survey) into individual TFrecords, one per cluster.\n",
    "\n",
    "    \"Validating\" a TFRecord comprises of 2 parts\n",
    "    1) verifying that it contains the required bands\n",
    "    2) verifying that its other features match the values from the dataset CSV\n",
    "\n",
    "    Args\n",
    "    - tfrecord_paths: list of str, paths to exported TFRecords files\n",
    "    - out_dir: str, path to dir to save processed individual TFRecords\n",
    "    - df: pd.DataFrame, index is sequential and starts at 0\n",
    "    '''\n",
    "    # Create an iterator over the TFRecords file. The iterator yields\n",
    "    # the binary representations of Example messages as strings.\n",
    "    options = tf.io.TFRecordOptions(tf.io.TFRecordCompressionType.GZIP)\n",
    "\n",
    "    # cast float64 => float32 and str => bytes\n",
    "    for col in df.columns:\n",
    "        if df[col].dtype == np.float64:\n",
    "            df[col] = df[col].astype(np.float32)\n",
    "        elif df[col].dtype == object:  # pandas uses 'object' type for str\n",
    "            df[col] = df[col].astype(bytes)\n",
    "\n",
    "    i = 0\n",
    "    progbar = tqdm(total=len(df))\n",
    "\n",
    "    for tfrecord_path in tfrecord_paths:\n",
    "        iterator = tf.io.tf_record_iterator(tfrecord_path, options=options)\n",
    "        for record_str in iterator:\n",
    "            # parse into an actual Example message\n",
    "            ex = tf.train.Example.FromString(record_str)\n",
    "            feature_map = ex.features.feature\n",
    "\n",
    "            # verify required bands exist\n",
    "            for band in REQUIRED_BANDS:\n",
    "                assert band in feature_map, f'Band \"{band}\" not in record {i} of {tfrecord_path}'\n",
    "\n",
    "            # compare feature map values against CSV values\n",
    "            csv_feats = df.loc[i, :].to_dict()\n",
    "            for col, val in csv_feats.items():\n",
    "                ft_type = feature_map[col].WhichOneof('kind')\n",
    "                ex_val = feature_map[col].__getattribute__(ft_type).value[0]\n",
    "                assert val == ex_val, f'Expected {col}={val}, but found {ex_val} instead'\n",
    "\n",
    "            # serialize to string and write to file\n",
    "            out_path = os.path.join(out_dir, f'{i:05d}.tfrecord.gz')  # all surveys have < 1e6 clusters\n",
    "            with tf.io.TFRecordWriter(out_path, options=options) as writer:\n",
    "                writer.write(ex.SerializeToString())\n",
    "\n",
    "            i += 1\n",
    "            progbar.update(1)\n",
    "    progbar.close()"
   ]
  },
  {
   "cell_type": "code",
   "execution_count": 26,
   "metadata": {},
   "outputs": [
    {
     "name": "stdout",
     "output_type": "stream",
     "text": [
      "Processing: angola_2011\n"
     ]
    },
    {
     "data": {
      "application/vnd.jupyter.widget-view+json": {
       "model_id": "66236b68bd8e456283c04d8dae1a9696",
       "version_major": 2,
       "version_minor": 0
      },
      "text/plain": [
       "  0%|          | 0/230 [00:00<?, ?it/s]"
      ]
     },
     "metadata": {},
     "output_type": "display_data"
    },
    {
     "name": "stdout",
     "output_type": "stream",
     "text": [
      "Processing: angola_2015\n"
     ]
    },
    {
     "data": {
      "application/vnd.jupyter.widget-view+json": {
       "model_id": "9c042acfe19742f3a904301cac9eb0f9",
       "version_major": 2,
       "version_minor": 0
      },
      "text/plain": [
       "  0%|          | 0/625 [00:00<?, ?it/s]"
      ]
     },
     "metadata": {},
     "output_type": "display_data"
    },
    {
     "name": "stdout",
     "output_type": "stream",
     "text": [
      "Processing: benin_2012\n"
     ]
    },
    {
     "data": {
      "application/vnd.jupyter.widget-view+json": {
       "model_id": "a902be9a26f8490dac0fe1a1ecc0636c",
       "version_major": 2,
       "version_minor": 0
      },
      "text/plain": [
       "  0%|          | 0/746 [00:00<?, ?it/s]"
      ]
     },
     "metadata": {},
     "output_type": "display_data"
    },
    {
     "name": "stdout",
     "output_type": "stream",
     "text": [
      "Processing: burkina_faso_2010\n"
     ]
    },
    {
     "data": {
      "application/vnd.jupyter.widget-view+json": {
       "model_id": "56ef4eba34b84b449ebc6cc7ea4b752b",
       "version_major": 2,
       "version_minor": 0
      },
      "text/plain": [
       "  0%|          | 0/541 [00:00<?, ?it/s]"
      ]
     },
     "metadata": {},
     "output_type": "display_data"
    },
    {
     "name": "stdout",
     "output_type": "stream",
     "text": [
      "Processing: burkina_faso_2014\n"
     ]
    },
    {
     "data": {
      "application/vnd.jupyter.widget-view+json": {
       "model_id": "e4a744f473ce47079a757fc4ec3b5a56",
       "version_major": 2,
       "version_minor": 0
      },
      "text/plain": [
       "  0%|          | 0/248 [00:00<?, ?it/s]"
      ]
     },
     "metadata": {},
     "output_type": "display_data"
    },
    {
     "name": "stdout",
     "output_type": "stream",
     "text": [
      "Processing: cameroon_2011\n"
     ]
    },
    {
     "data": {
      "application/vnd.jupyter.widget-view+json": {
       "model_id": "96368d93e11e427c94c562ab9ab9ba98",
       "version_major": 2,
       "version_minor": 0
      },
      "text/plain": [
       "  0%|          | 0/576 [00:00<?, ?it/s]"
      ]
     },
     "metadata": {},
     "output_type": "display_data"
    },
    {
     "name": "stdout",
     "output_type": "stream",
     "text": [
      "Processing: cote_d_ivoire_2012\n"
     ]
    },
    {
     "data": {
      "application/vnd.jupyter.widget-view+json": {
       "model_id": "9d478252d079453d8c7bd074ad18ac64",
       "version_major": 2,
       "version_minor": 0
      },
      "text/plain": [
       "  0%|          | 0/341 [00:00<?, ?it/s]"
      ]
     },
     "metadata": {},
     "output_type": "display_data"
    },
    {
     "name": "stdout",
     "output_type": "stream",
     "text": [
      "Processing: democratic_republic_of_congo_2013\n"
     ]
    },
    {
     "data": {
      "application/vnd.jupyter.widget-view+json": {
       "model_id": "d10e81b578d34acc82316c0525ebdbd3",
       "version_major": 2,
       "version_minor": 0
      },
      "text/plain": [
       "  0%|          | 0/492 [00:00<?, ?it/s]"
      ]
     },
     "metadata": {},
     "output_type": "display_data"
    },
    {
     "name": "stdout",
     "output_type": "stream",
     "text": [
      "Processing: ethiopia_2010\n"
     ]
    },
    {
     "data": {
      "application/vnd.jupyter.widget-view+json": {
       "model_id": "02e55ed896de4b10ba7928b13a567013",
       "version_major": 2,
       "version_minor": 0
      },
      "text/plain": [
       "  0%|          | 0/571 [00:00<?, ?it/s]"
      ]
     },
     "metadata": {},
     "output_type": "display_data"
    },
    {
     "name": "stdout",
     "output_type": "stream",
     "text": [
      "Processing: ghana_2014\n"
     ]
    },
    {
     "data": {
      "application/vnd.jupyter.widget-view+json": {
       "model_id": "aba79b2c67744535a05e311c9d10749f",
       "version_major": 2,
       "version_minor": 0
      },
      "text/plain": [
       "  0%|          | 0/422 [00:00<?, ?it/s]"
      ]
     },
     "metadata": {},
     "output_type": "display_data"
    },
    {
     "name": "stdout",
     "output_type": "stream",
     "text": [
      "Processing: ghana_2016\n"
     ]
    },
    {
     "data": {
      "application/vnd.jupyter.widget-view+json": {
       "model_id": "8610ba6598074594a75826aa88dfb37f",
       "version_major": 2,
       "version_minor": 0
      },
      "text/plain": [
       "  0%|          | 0/192 [00:00<?, ?it/s]"
      ]
     },
     "metadata": {},
     "output_type": "display_data"
    },
    {
     "name": "stdout",
     "output_type": "stream",
     "text": [
      "Processing: guinea_2012\n"
     ]
    },
    {
     "data": {
      "application/vnd.jupyter.widget-view+json": {
       "model_id": "51cfe1af7c494c668a5c14526bdec149",
       "version_major": 2,
       "version_minor": 0
      },
      "text/plain": [
       "  0%|          | 0/300 [00:00<?, ?it/s]"
      ]
     },
     "metadata": {},
     "output_type": "display_data"
    },
    {
     "name": "stdout",
     "output_type": "stream",
     "text": [
      "Processing: kenya_2014\n"
     ]
    },
    {
     "data": {
      "application/vnd.jupyter.widget-view+json": {
       "model_id": "bc8d58de46bc409cb1583fdf7b807bd0",
       "version_major": 2,
       "version_minor": 0
      },
      "text/plain": [
       "  0%|          | 0/1585 [00:00<?, ?it/s]"
      ]
     },
     "metadata": {},
     "output_type": "display_data"
    },
    {
     "name": "stdout",
     "output_type": "stream",
     "text": [
      "Processing: kenya_2015\n"
     ]
    },
    {
     "data": {
      "application/vnd.jupyter.widget-view+json": {
       "model_id": "31b9da2c63a140cd96b2edcb6a437a60",
       "version_major": 2,
       "version_minor": 0
      },
      "text/plain": [
       "  0%|          | 0/245 [00:00<?, ?it/s]"
      ]
     },
     "metadata": {},
     "output_type": "display_data"
    },
    {
     "name": "stdout",
     "output_type": "stream",
     "text": [
      "Processing: lesotho_2009\n"
     ]
    },
    {
     "data": {
      "application/vnd.jupyter.widget-view+json": {
       "model_id": "353f599731d54c7c99e1310537161b63",
       "version_major": 2,
       "version_minor": 0
      },
      "text/plain": [
       "  0%|          | 0/395 [00:00<?, ?it/s]"
      ]
     },
     "metadata": {},
     "output_type": "display_data"
    },
    {
     "name": "stdout",
     "output_type": "stream",
     "text": [
      "Processing: lesotho_2014\n"
     ]
    },
    {
     "data": {
      "application/vnd.jupyter.widget-view+json": {
       "model_id": "22887a8fa61346c28bc30383d6798b82",
       "version_major": 2,
       "version_minor": 0
      },
      "text/plain": [
       "  0%|          | 0/399 [00:00<?, ?it/s]"
      ]
     },
     "metadata": {},
     "output_type": "display_data"
    },
    {
     "name": "stdout",
     "output_type": "stream",
     "text": [
      "Processing: malawi_2010\n"
     ]
    },
    {
     "data": {
      "application/vnd.jupyter.widget-view+json": {
       "model_id": "047f3257383a4405857b4d2719a7c93a",
       "version_major": 2,
       "version_minor": 0
      },
      "text/plain": [
       "  0%|          | 0/827 [00:00<?, ?it/s]"
      ]
     },
     "metadata": {},
     "output_type": "display_data"
    },
    {
     "name": "stdout",
     "output_type": "stream",
     "text": [
      "Processing: malawi_2012\n"
     ]
    },
    {
     "data": {
      "application/vnd.jupyter.widget-view+json": {
       "model_id": "f65ccccecc1b44b1b7bfe16da5455a83",
       "version_major": 2,
       "version_minor": 0
      },
      "text/plain": [
       "  0%|          | 0/140 [00:00<?, ?it/s]"
      ]
     },
     "metadata": {},
     "output_type": "display_data"
    },
    {
     "name": "stdout",
     "output_type": "stream",
     "text": [
      "Processing: malawi_2014\n"
     ]
    },
    {
     "data": {
      "application/vnd.jupyter.widget-view+json": {
       "model_id": "db9b26ba709a4dbcb218478b38b10dd8",
       "version_major": 2,
       "version_minor": 0
      },
      "text/plain": [
       "  0%|          | 0/140 [00:00<?, ?it/s]"
      ]
     },
     "metadata": {},
     "output_type": "display_data"
    },
    {
     "name": "stdout",
     "output_type": "stream",
     "text": [
      "Processing: malawi_2015\n"
     ]
    },
    {
     "data": {
      "application/vnd.jupyter.widget-view+json": {
       "model_id": "21853e676072423fa4b26f9193b0a65f",
       "version_major": 2,
       "version_minor": 0
      },
      "text/plain": [
       "  0%|          | 0/850 [00:00<?, ?it/s]"
      ]
     },
     "metadata": {},
     "output_type": "display_data"
    },
    {
     "name": "stdout",
     "output_type": "stream",
     "text": [
      "Processing: mali_2012\n"
     ]
    },
    {
     "data": {
      "application/vnd.jupyter.widget-view+json": {
       "model_id": "db092c4e860e4223b1733c53985b6952",
       "version_major": 2,
       "version_minor": 0
      },
      "text/plain": [
       "  0%|          | 0/413 [00:00<?, ?it/s]"
      ]
     },
     "metadata": {},
     "output_type": "display_data"
    },
    {
     "name": "stdout",
     "output_type": "stream",
     "text": [
      "Processing: mali_2015\n"
     ]
    },
    {
     "data": {
      "application/vnd.jupyter.widget-view+json": {
       "model_id": "05eecd59b78140baa0ee9a99749c7ec8",
       "version_major": 2,
       "version_minor": 0
      },
      "text/plain": [
       "  0%|          | 0/177 [00:00<?, ?it/s]"
      ]
     },
     "metadata": {},
     "output_type": "display_data"
    },
    {
     "name": "stdout",
     "output_type": "stream",
     "text": [
      "Processing: mozambique_2009\n"
     ]
    },
    {
     "data": {
      "application/vnd.jupyter.widget-view+json": {
       "model_id": "065200208fd4440b89ab5e66f536246b",
       "version_major": 2,
       "version_minor": 0
      },
      "text/plain": [
       "  0%|          | 0/270 [00:00<?, ?it/s]"
      ]
     },
     "metadata": {},
     "output_type": "display_data"
    },
    {
     "name": "stdout",
     "output_type": "stream",
     "text": [
      "Processing: mozambique_2011\n"
     ]
    },
    {
     "data": {
      "application/vnd.jupyter.widget-view+json": {
       "model_id": "8d5494c0bb1246c6bd941b2774ed77f4",
       "version_major": 2,
       "version_minor": 0
      },
      "text/plain": [
       "  0%|          | 0/609 [00:00<?, ?it/s]"
      ]
     },
     "metadata": {},
     "output_type": "display_data"
    },
    {
     "name": "stdout",
     "output_type": "stream",
     "text": [
      "Processing: nigeria_2010\n"
     ]
    },
    {
     "data": {
      "application/vnd.jupyter.widget-view+json": {
       "model_id": "ca14903cbeb947cca73ff13cb2498e4a",
       "version_major": 2,
       "version_minor": 0
      },
      "text/plain": [
       "  0%|          | 0/239 [00:00<?, ?it/s]"
      ]
     },
     "metadata": {},
     "output_type": "display_data"
    },
    {
     "name": "stdout",
     "output_type": "stream",
     "text": [
      "Processing: nigeria_2013\n"
     ]
    },
    {
     "data": {
      "application/vnd.jupyter.widget-view+json": {
       "model_id": "80338d18d7b64448baa352255fe9dc5f",
       "version_major": 2,
       "version_minor": 0
      },
      "text/plain": [
       "  0%|          | 0/889 [00:00<?, ?it/s]"
      ]
     },
     "metadata": {},
     "output_type": "display_data"
    },
    {
     "name": "stdout",
     "output_type": "stream",
     "text": [
      "Processing: nigeria_2015\n"
     ]
    },
    {
     "data": {
      "application/vnd.jupyter.widget-view+json": {
       "model_id": "982beeb005754a288d95bb27b5ee584b",
       "version_major": 2,
       "version_minor": 0
      },
      "text/plain": [
       "  0%|          | 0/322 [00:00<?, ?it/s]"
      ]
     },
     "metadata": {},
     "output_type": "display_data"
    },
    {
     "name": "stdout",
     "output_type": "stream",
     "text": [
      "Processing: rwanda_2010\n"
     ]
    },
    {
     "data": {
      "application/vnd.jupyter.widget-view+json": {
       "model_id": "a904d10429ee4bba9da38fc27dd5e287",
       "version_major": 2,
       "version_minor": 0
      },
      "text/plain": [
       "  0%|          | 0/492 [00:00<?, ?it/s]"
      ]
     },
     "metadata": {},
     "output_type": "display_data"
    },
    {
     "name": "stdout",
     "output_type": "stream",
     "text": [
      "Processing: rwanda_2014\n"
     ]
    },
    {
     "data": {
      "application/vnd.jupyter.widget-view+json": {
       "model_id": "624a38855d644d26a710ccd8d8977aa3",
       "version_major": 2,
       "version_minor": 0
      },
      "text/plain": [
       "  0%|          | 0/492 [00:00<?, ?it/s]"
      ]
     },
     "metadata": {},
     "output_type": "display_data"
    },
    {
     "name": "stdout",
     "output_type": "stream",
     "text": [
      "Processing: senegal_2010\n"
     ]
    },
    {
     "data": {
      "application/vnd.jupyter.widget-view+json": {
       "model_id": "e301f3cf2e22454eb1f1502799d00375",
       "version_major": 2,
       "version_minor": 0
      },
      "text/plain": [
       "  0%|          | 0/385 [00:00<?, ?it/s]"
      ]
     },
     "metadata": {},
     "output_type": "display_data"
    },
    {
     "name": "stdout",
     "output_type": "stream",
     "text": [
      "Processing: senegal_2012\n"
     ]
    },
    {
     "data": {
      "application/vnd.jupyter.widget-view+json": {
       "model_id": "71d76e356a6b44d190ee79070ae28a00",
       "version_major": 2,
       "version_minor": 0
      },
      "text/plain": [
       "  0%|          | 0/200 [00:00<?, ?it/s]"
      ]
     },
     "metadata": {},
     "output_type": "display_data"
    },
    {
     "name": "stdout",
     "output_type": "stream",
     "text": [
      "Processing: sierra_leone_2013\n"
     ]
    },
    {
     "data": {
      "application/vnd.jupyter.widget-view+json": {
       "model_id": "6424d54da7d848d2a3cc96099be080b2",
       "version_major": 2,
       "version_minor": 0
      },
      "text/plain": [
       "  0%|          | 0/435 [00:00<?, ?it/s]"
      ]
     },
     "metadata": {},
     "output_type": "display_data"
    },
    {
     "name": "stdout",
     "output_type": "stream",
     "text": [
      "Processing: tanzania_2010\n"
     ]
    },
    {
     "data": {
      "application/vnd.jupyter.widget-view+json": {
       "model_id": "476d5b5f272544b18e9e271ccd0404d8",
       "version_major": 2,
       "version_minor": 0
      },
      "text/plain": [
       "  0%|          | 0/458 [00:00<?, ?it/s]"
      ]
     },
     "metadata": {},
     "output_type": "display_data"
    },
    {
     "name": "stdout",
     "output_type": "stream",
     "text": [
      "Processing: tanzania_2011\n"
     ]
    },
    {
     "data": {
      "application/vnd.jupyter.widget-view+json": {
       "model_id": "cd67245bdd304526b46fdea2e0109e9c",
       "version_major": 2,
       "version_minor": 0
      },
      "text/plain": [
       "  0%|          | 0/573 [00:00<?, ?it/s]"
      ]
     },
     "metadata": {},
     "output_type": "display_data"
    },
    {
     "name": "stdout",
     "output_type": "stream",
     "text": [
      "Processing: tanzania_2015\n"
     ]
    },
    {
     "data": {
      "application/vnd.jupyter.widget-view+json": {
       "model_id": "3eee8784edb843fc89314309c0ce97e3",
       "version_major": 2,
       "version_minor": 0
      },
      "text/plain": [
       "  0%|          | 0/608 [00:00<?, ?it/s]"
      ]
     },
     "metadata": {},
     "output_type": "display_data"
    },
    {
     "name": "stdout",
     "output_type": "stream",
     "text": [
      "Processing: togo_2013\n"
     ]
    },
    {
     "data": {
      "application/vnd.jupyter.widget-view+json": {
       "model_id": "ac3e6ca808ba4f9d897201c129a1675d",
       "version_major": 2,
       "version_minor": 0
      },
      "text/plain": [
       "  0%|          | 0/330 [00:00<?, ?it/s]"
      ]
     },
     "metadata": {},
     "output_type": "display_data"
    },
    {
     "name": "stdout",
     "output_type": "stream",
     "text": [
      "Processing: uganda_2009\n"
     ]
    },
    {
     "data": {
      "application/vnd.jupyter.widget-view+json": {
       "model_id": "2ba04c3031f84c038703e59eed964e2c",
       "version_major": 2,
       "version_minor": 0
      },
      "text/plain": [
       "  0%|          | 0/170 [00:00<?, ?it/s]"
      ]
     },
     "metadata": {},
     "output_type": "display_data"
    },
    {
     "name": "stdout",
     "output_type": "stream",
     "text": [
      "Processing: uganda_2011\n"
     ]
    },
    {
     "data": {
      "application/vnd.jupyter.widget-view+json": {
       "model_id": "08a685c786174fb0b65716ebe99f1903",
       "version_major": 2,
       "version_minor": 0
      },
      "text/plain": [
       "  0%|          | 0/400 [00:00<?, ?it/s]"
      ]
     },
     "metadata": {},
     "output_type": "display_data"
    },
    {
     "name": "stdout",
     "output_type": "stream",
     "text": [
      "Processing: uganda_2014\n"
     ]
    },
    {
     "data": {
      "application/vnd.jupyter.widget-view+json": {
       "model_id": "b0504ab774864119b6aa93874f7a6b2c",
       "version_major": 2,
       "version_minor": 0
      },
      "text/plain": [
       "  0%|          | 0/208 [00:00<?, ?it/s]"
      ]
     },
     "metadata": {},
     "output_type": "display_data"
    },
    {
     "name": "stdout",
     "output_type": "stream",
     "text": [
      "Processing: zambia_2013\n"
     ]
    },
    {
     "data": {
      "application/vnd.jupyter.widget-view+json": {
       "model_id": "705b4ef4edbd49688ca83164686169d9",
       "version_major": 2,
       "version_minor": 0
      },
      "text/plain": [
       "  0%|          | 0/719 [00:00<?, ?it/s]"
      ]
     },
     "metadata": {},
     "output_type": "display_data"
    },
    {
     "name": "stdout",
     "output_type": "stream",
     "text": [
      "Processing: zimbabwe_2010\n"
     ]
    },
    {
     "data": {
      "application/vnd.jupyter.widget-view+json": {
       "model_id": "043b21e24e8f4b06b1b2bb0be25ad6df",
       "version_major": 2,
       "version_minor": 0
      },
      "text/plain": [
       "  0%|          | 0/393 [00:00<?, ?it/s]"
      ]
     },
     "metadata": {},
     "output_type": "display_data"
    },
    {
     "name": "stdout",
     "output_type": "stream",
     "text": [
      "Processing: zimbabwe_2015\n"
     ]
    },
    {
     "data": {
      "application/vnd.jupyter.widget-view+json": {
       "model_id": "ab750bf5dc224d0cad5be88ad2e7444b",
       "version_major": 2,
       "version_minor": 0
      },
      "text/plain": [
       "  0%|          | 0/400 [00:00<?, ?it/s]"
      ]
     },
     "metadata": {},
     "output_type": "display_data"
    }
   ],
   "source": [
    "process_dataset(\n",
    "    csv_path='data/dhs_clusters.csv',\n",
    "    input_dir=DHS_EXPORT_FOLDER,\n",
    "    processed_dir=DHS_PROCESSED_FOLDER)"
   ]
  },
  {
   "cell_type": "code",
   "execution_count": null,
   "metadata": {},
   "outputs": [],
   "source": [
    "process_dataset(\n",
    "    csv_path='data/dhsnl_locs.csv',\n",
    "    input_dir=DHSNL_EXPORT_FOLDER,\n",
    "    processed_dir=DHSNL_PROCESSED_FOLDER)"
   ]
  },
  {
   "cell_type": "code",
   "execution_count": 5,
   "metadata": {},
   "outputs": [
    {
     "name": "stdout",
     "output_type": "stream",
     "text": [
      "Processing: ethiopia_2011\n",
      "WARNING:tensorflow:From /tmp/ipykernel_19715/4000888777.py:42: The name tf.io.TFRecordCompressionType is deprecated. Please use tf.compat.v1.io.TFRecordCompressionType instead.\n",
      "\n"
     ]
    },
    {
     "data": {
      "application/vnd.jupyter.widget-view+json": {
       "model_id": "074be48b2e9940c388e98475ee4cb49f",
       "version_major": 2,
       "version_minor": 0
      },
      "text/plain": [
       "  0%|          | 0/327 [00:00<?, ?it/s]"
      ]
     },
     "metadata": {},
     "output_type": "display_data"
    },
    {
     "name": "stdout",
     "output_type": "stream",
     "text": [
      "WARNING:tensorflow:From /tmp/ipykernel_19715/4000888777.py:55: tf_record_iterator (from tensorflow.python.lib.io.tf_record) is deprecated and will be removed in a future version.\n",
      "Instructions for updating:\n",
      "Use eager execution and: \n",
      "`tf.data.TFRecordDataset(path)`\n",
      "Processing: ethiopia_2015\n"
     ]
    },
    {
     "data": {
      "application/vnd.jupyter.widget-view+json": {
       "model_id": "96e186c133d14e4789c62b4d6633355d",
       "version_major": 2,
       "version_minor": 0
      },
      "text/plain": [
       "  0%|          | 0/327 [00:00<?, ?it/s]"
      ]
     },
     "metadata": {},
     "output_type": "display_data"
    },
    {
     "name": "stdout",
     "output_type": "stream",
     "text": [
      "Processing: malawi_2010\n"
     ]
    },
    {
     "data": {
      "application/vnd.jupyter.widget-view+json": {
       "model_id": "97d959b521e44dd09d3a5324b177aa26",
       "version_major": 2,
       "version_minor": 0
      },
      "text/plain": [
       "  0%|          | 0/102 [00:00<?, ?it/s]"
      ]
     },
     "metadata": {},
     "output_type": "display_data"
    },
    {
     "name": "stdout",
     "output_type": "stream",
     "text": [
      "Processing: malawi_2016\n"
     ]
    },
    {
     "data": {
      "application/vnd.jupyter.widget-view+json": {
       "model_id": "b886d8d25eec49a6970513a210e55259",
       "version_major": 2,
       "version_minor": 0
      },
      "text/plain": [
       "  0%|          | 0/102 [00:00<?, ?it/s]"
      ]
     },
     "metadata": {},
     "output_type": "display_data"
    },
    {
     "name": "stdout",
     "output_type": "stream",
     "text": [
      "Processing: nigeria_2010\n"
     ]
    },
    {
     "data": {
      "application/vnd.jupyter.widget-view+json": {
       "model_id": "cfb8648baf1b43bf8ecf67abb80af250",
       "version_major": 2,
       "version_minor": 0
      },
      "text/plain": [
       "  0%|          | 0/480 [00:00<?, ?it/s]"
      ]
     },
     "metadata": {},
     "output_type": "display_data"
    },
    {
     "name": "stdout",
     "output_type": "stream",
     "text": [
      "Processing: nigeria_2015\n"
     ]
    },
    {
     "data": {
      "application/vnd.jupyter.widget-view+json": {
       "model_id": "f53dbf017070416a8867a5b1c6734435",
       "version_major": 2,
       "version_minor": 0
      },
      "text/plain": [
       "  0%|          | 0/480 [00:00<?, ?it/s]"
      ]
     },
     "metadata": {},
     "output_type": "display_data"
    },
    {
     "name": "stdout",
     "output_type": "stream",
     "text": [
      "Processing: tanzania_2008\n"
     ]
    },
    {
     "data": {
      "application/vnd.jupyter.widget-view+json": {
       "model_id": "b07fbea30f2149cda5bafd576e9b6c27",
       "version_major": 2,
       "version_minor": 0
      },
      "text/plain": [
       "  0%|          | 0/300 [00:00<?, ?it/s]"
      ]
     },
     "metadata": {},
     "output_type": "display_data"
    },
    {
     "name": "stdout",
     "output_type": "stream",
     "text": [
      "Processing: tanzania_2012\n"
     ]
    },
    {
     "data": {
      "application/vnd.jupyter.widget-view+json": {
       "model_id": "367462417ae44655a4a8704692d40612",
       "version_major": 2,
       "version_minor": 0
      },
      "text/plain": [
       "  0%|          | 0/300 [00:00<?, ?it/s]"
      ]
     },
     "metadata": {},
     "output_type": "display_data"
    },
    {
     "name": "stdout",
     "output_type": "stream",
     "text": [
      "Processing: uganda_2005\n"
     ]
    },
    {
     "data": {
      "application/vnd.jupyter.widget-view+json": {
       "model_id": "f28a5c1b2b0843e0907d989761d99583",
       "version_major": 2,
       "version_minor": 0
      },
      "text/plain": [
       "  0%|          | 0/165 [00:00<?, ?it/s]"
      ]
     },
     "metadata": {},
     "output_type": "display_data"
    },
    {
     "name": "stdout",
     "output_type": "stream",
     "text": [
      "Processing: uganda_2009\n"
     ]
    },
    {
     "data": {
      "application/vnd.jupyter.widget-view+json": {
       "model_id": "560fb95b68214d3681b94afd39f49187",
       "version_major": 2,
       "version_minor": 0
      },
      "text/plain": [
       "  0%|          | 0/165 [00:00<?, ?it/s]"
      ]
     },
     "metadata": {},
     "output_type": "display_data"
    },
    {
     "name": "stdout",
     "output_type": "stream",
     "text": [
      "Processing: uganda_2013\n"
     ]
    },
    {
     "data": {
      "application/vnd.jupyter.widget-view+json": {
       "model_id": "7f1656d9794548e0899ec3e87897eb53",
       "version_major": 2,
       "version_minor": 0
      },
      "text/plain": [
       "  0%|          | 0/165 [00:00<?, ?it/s]"
      ]
     },
     "metadata": {},
     "output_type": "display_data"
    }
   ],
   "source": [
    "process_dataset(\n",
    "    csv_path='data/lsms_clusters.csv',\n",
    "    input_dir=LSMS_EXPORT_FOLDER,\n",
    "    processed_dir=LSMS_PROCESSED_FOLDER)"
   ]
  },
  {
   "cell_type": "markdown",
   "metadata": {},
   "source": [
    "## Verify the Individual TFRecord Files (Optional)\n",
    "\n",
    "Check that the label, location, and year values in each individual TFRecord file match the original CSV.  \n",
    "检查每个单独的TFRecord文件中的标签、位置和年份值是否与原始CSV匹配。"
   ]
  },
  {
   "cell_type": "code",
   "execution_count": 5,
   "metadata": {},
   "outputs": [],
   "source": [
    "def validate_individual_tfrecords(tfrecord_paths: Iterable[str],\n",
    "                                  csv_path: str,\n",
    "                                  label_name: Optional[str] = None) -> None:\n",
    "    '''\n",
    "    Args\n",
    "    - tfrecord_paths: list of str, paths to individual TFRecord files in the same order as in the CSV\n",
    "                      str列表，指向单个TFRecord文件的路径的顺序与CSV中的顺序相同\n",
    "    - csv_path: str, path to CSV file with columns ['lat', 'lon', 'wealthpooled', 'year']\n",
    "    '''\n",
    "    df = pd.read_csv(csv_path, float_precision='high', index_col=False)\n",
    "    iter_init, batch_op = batcher.Batcher(\n",
    "        tfrecord_files=tfrecord_paths,\n",
    "        label_name=label_name,\n",
    "        ls_bands=None,\n",
    "        nl_band=None,\n",
    "        batch_size=128,\n",
    "        shuffle=False,\n",
    "        augment=False,\n",
    "        clipneg=False,\n",
    "        normalize=None).get_batch()\n",
    "\n",
    "    locs, years = [], []\n",
    "    if label_name is not None:\n",
    "        labels = []\n",
    "\n",
    "    num_processed = 0\n",
    "    with tf.Session() as sess:\n",
    "        sess.run(iter_init)\n",
    "        while True:\n",
    "            try:\n",
    "                if label_name is not None:\n",
    "                    batch_np = sess.run((batch_op['locs'], batch_op['years'], batch_op['labels']))\n",
    "                    labels.append(batch_np[2])\n",
    "                else:\n",
    "                    batch_np = sess.run((batch_op['locs'], batch_op['years']))\n",
    "                locs.append(batch_np[0])\n",
    "                years.append(batch_np[1])\n",
    "                num_processed += len(batch_np[0])\n",
    "                print(f'\\rProcessed {num_processed} images', end='')\n",
    "            except tf.errors.OutOfRangeError:\n",
    "                break\n",
    "    print()\n",
    "\n",
    "    locs = np.concatenate(locs)\n",
    "    years = np.concatenate(years)\n",
    "    assert (locs == df[['lat', 'lon']].to_numpy(dtype=np.float32)).all()\n",
    "    assert (years == df['year'].to_numpy(dtype=np.float32)).all()\n",
    "    if label_name is not None:\n",
    "        labels = np.concatenate(labels)\n",
    "        assert (labels == df['wealthpooled'].to_numpy(dtype=np.float32)).all()"
   ]
  },
  {
   "cell_type": "code",
   "execution_count": 6,
   "metadata": {},
   "outputs": [
    {
     "name": "stdout",
     "output_type": "stream",
     "text": [
      "WARNING:tensorflow:From /data/zzw/africa_poverty_clean-main/batchers/batcher.py:164: DatasetV1.make_initializable_iterator (from tensorflow.python.data.ops.dataset_ops) is deprecated and will be removed in a future version.\n",
      "Instructions for updating:\n",
      "Use `for ... in dataset:` to iterate over a dataset. If using `tf.estimator`, return the `Dataset` object directly from your input function. As a last resort, you can use `tf.compat.v1.data.make_initializable_iterator(dataset)`.\n",
      "WARNING:tensorflow:From /tmp/ipykernel_21008/2170984442.py:27: The name tf.Session is deprecated. Please use tf.compat.v1.Session instead.\n",
      "\n"
     ]
    },
    {
     "name": "stderr",
     "output_type": "stream",
     "text": [
      "2022-04-04 08:46:10.600493: I tensorflow/stream_executor/platform/default/dso_loader.cc:44] Successfully opened dynamic library libcuda.so.1\n",
      "2022-04-04 08:46:14.234173: I tensorflow/core/common_runtime/gpu/gpu_device.cc:1618] Found device 0 with properties: \n",
      "name: NVIDIA TITAN Xp COLLECTORS EDITION major: 6 minor: 1 memoryClockRate(GHz): 1.582\n",
      "pciBusID: 0000:04:00.0\n",
      "2022-04-04 08:46:14.237160: I tensorflow/core/common_runtime/gpu/gpu_device.cc:1618] Found device 1 with properties: \n",
      "name: NVIDIA TITAN Xp COLLECTORS EDITION major: 6 minor: 1 memoryClockRate(GHz): 1.582\n",
      "pciBusID: 0000:05:00.0\n",
      "2022-04-04 08:46:14.238709: I tensorflow/core/common_runtime/gpu/gpu_device.cc:1618] Found device 2 with properties: \n",
      "name: NVIDIA TITAN Xp COLLECTORS EDITION major: 6 minor: 1 memoryClockRate(GHz): 1.582\n",
      "pciBusID: 0000:09:00.0\n",
      "2022-04-04 08:46:14.244007: I tensorflow/core/common_runtime/gpu/gpu_device.cc:1618] Found device 3 with properties: \n",
      "name: NVIDIA TITAN Xp COLLECTORS EDITION major: 6 minor: 1 memoryClockRate(GHz): 1.582\n",
      "pciBusID: 0000:83:00.0\n",
      "2022-04-04 08:46:14.248192: I tensorflow/core/common_runtime/gpu/gpu_device.cc:1618] Found device 4 with properties: \n",
      "name: NVIDIA TITAN Xp COLLECTORS EDITION major: 6 minor: 1 memoryClockRate(GHz): 1.582\n",
      "pciBusID: 0000:84:00.0\n",
      "2022-04-04 08:46:14.250628: I tensorflow/core/common_runtime/gpu/gpu_device.cc:1618] Found device 5 with properties: \n",
      "name: NVIDIA TITAN Xp COLLECTORS EDITION major: 6 minor: 1 memoryClockRate(GHz): 1.582\n",
      "pciBusID: 0000:87:00.0\n",
      "2022-04-04 08:46:14.253070: I tensorflow/core/common_runtime/gpu/gpu_device.cc:1618] Found device 6 with properties: \n",
      "name: NVIDIA TITAN Xp COLLECTORS EDITION major: 6 minor: 1 memoryClockRate(GHz): 1.582\n",
      "pciBusID: 0000:88:00.0\n",
      "2022-04-04 08:46:14.257468: I tensorflow/stream_executor/platform/default/dso_loader.cc:44] Successfully opened dynamic library libcudart.so.10.0\n",
      "2022-04-04 08:46:14.303211: I tensorflow/stream_executor/platform/default/dso_loader.cc:44] Successfully opened dynamic library libcublas.so.10.0\n",
      "2022-04-04 08:46:14.323980: I tensorflow/stream_executor/platform/default/dso_loader.cc:44] Successfully opened dynamic library libcufft.so.10.0\n",
      "2022-04-04 08:46:14.330748: I tensorflow/stream_executor/platform/default/dso_loader.cc:44] Successfully opened dynamic library libcurand.so.10.0\n",
      "2022-04-04 08:46:14.377681: I tensorflow/stream_executor/platform/default/dso_loader.cc:44] Successfully opened dynamic library libcusolver.so.10.0\n",
      "2022-04-04 08:46:14.410489: I tensorflow/stream_executor/platform/default/dso_loader.cc:44] Successfully opened dynamic library libcusparse.so.10.0\n",
      "2022-04-04 08:46:14.504476: I tensorflow/stream_executor/platform/default/dso_loader.cc:44] Successfully opened dynamic library libcudnn.so.7\n",
      "2022-04-04 08:46:14.535431: I tensorflow/core/common_runtime/gpu/gpu_device.cc:1746] Adding visible gpu devices: 0, 1, 2, 3, 4, 5, 6\n",
      "2022-04-04 08:46:14.539786: I tensorflow/core/platform/cpu_feature_guard.cc:142] Your CPU supports instructions that this TensorFlow binary was not compiled to use: SSE4.1 SSE4.2 AVX AVX2 FMA\n",
      "2022-04-04 08:46:14.581735: I tensorflow/core/platform/profile_utils/cpu_utils.cc:94] CPU Frequency: 2095085000 Hz\n",
      "2022-04-04 08:46:14.583672: I tensorflow/compiler/xla/service/service.cc:168] XLA service 0x561a28e74270 initialized for platform Host (this does not guarantee that XLA will be used). Devices:\n",
      "2022-04-04 08:46:14.583993: I tensorflow/compiler/xla/service/service.cc:176]   StreamExecutor device (0): Host, Default Version\n",
      "2022-04-04 08:46:19.359935: I tensorflow/compiler/xla/service/service.cc:168] XLA service 0x561a2ae76fc0 initialized for platform CUDA (this does not guarantee that XLA will be used). Devices:\n",
      "2022-04-04 08:46:19.359993: I tensorflow/compiler/xla/service/service.cc:176]   StreamExecutor device (0): NVIDIA TITAN Xp COLLECTORS EDITION, Compute Capability 6.1\n",
      "2022-04-04 08:46:19.360005: I tensorflow/compiler/xla/service/service.cc:176]   StreamExecutor device (1): NVIDIA TITAN Xp COLLECTORS EDITION, Compute Capability 6.1\n",
      "2022-04-04 08:46:19.360014: I tensorflow/compiler/xla/service/service.cc:176]   StreamExecutor device (2): NVIDIA TITAN Xp COLLECTORS EDITION, Compute Capability 6.1\n",
      "2022-04-04 08:46:19.360022: I tensorflow/compiler/xla/service/service.cc:176]   StreamExecutor device (3): NVIDIA TITAN Xp COLLECTORS EDITION, Compute Capability 6.1\n",
      "2022-04-04 08:46:19.360031: I tensorflow/compiler/xla/service/service.cc:176]   StreamExecutor device (4): NVIDIA TITAN Xp COLLECTORS EDITION, Compute Capability 6.1\n",
      "2022-04-04 08:46:19.360039: I tensorflow/compiler/xla/service/service.cc:176]   StreamExecutor device (5): NVIDIA TITAN Xp COLLECTORS EDITION, Compute Capability 6.1\n",
      "2022-04-04 08:46:19.360047: I tensorflow/compiler/xla/service/service.cc:176]   StreamExecutor device (6): NVIDIA TITAN Xp COLLECTORS EDITION, Compute Capability 6.1\n",
      "2022-04-04 08:46:19.387403: I tensorflow/core/common_runtime/gpu/gpu_device.cc:1618] Found device 0 with properties: \n",
      "name: NVIDIA TITAN Xp COLLECTORS EDITION major: 6 minor: 1 memoryClockRate(GHz): 1.582\n",
      "pciBusID: 0000:04:00.0\n",
      "2022-04-04 08:46:19.393644: I tensorflow/core/common_runtime/gpu/gpu_device.cc:1618] Found device 1 with properties: \n",
      "name: NVIDIA TITAN Xp COLLECTORS EDITION major: 6 minor: 1 memoryClockRate(GHz): 1.582\n",
      "pciBusID: 0000:05:00.0\n",
      "2022-04-04 08:46:19.395208: I tensorflow/core/common_runtime/gpu/gpu_device.cc:1618] Found device 2 with properties: \n",
      "name: NVIDIA TITAN Xp COLLECTORS EDITION major: 6 minor: 1 memoryClockRate(GHz): 1.582\n",
      "pciBusID: 0000:09:00.0\n",
      "2022-04-04 08:46:19.396739: I tensorflow/core/common_runtime/gpu/gpu_device.cc:1618] Found device 3 with properties: \n",
      "name: NVIDIA TITAN Xp COLLECTORS EDITION major: 6 minor: 1 memoryClockRate(GHz): 1.582\n",
      "pciBusID: 0000:83:00.0\n",
      "2022-04-04 08:46:19.398260: I tensorflow/core/common_runtime/gpu/gpu_device.cc:1618] Found device 4 with properties: \n",
      "name: NVIDIA TITAN Xp COLLECTORS EDITION major: 6 minor: 1 memoryClockRate(GHz): 1.582\n",
      "pciBusID: 0000:84:00.0\n",
      "2022-04-04 08:46:19.399786: I tensorflow/core/common_runtime/gpu/gpu_device.cc:1618] Found device 5 with properties: \n",
      "name: NVIDIA TITAN Xp COLLECTORS EDITION major: 6 minor: 1 memoryClockRate(GHz): 1.582\n",
      "pciBusID: 0000:87:00.0\n",
      "2022-04-04 08:46:19.401969: I tensorflow/core/common_runtime/gpu/gpu_device.cc:1618] Found device 6 with properties: \n",
      "name: NVIDIA TITAN Xp COLLECTORS EDITION major: 6 minor: 1 memoryClockRate(GHz): 1.582\n",
      "pciBusID: 0000:88:00.0\n",
      "2022-04-04 08:46:19.402101: I tensorflow/stream_executor/platform/default/dso_loader.cc:44] Successfully opened dynamic library libcudart.so.10.0\n",
      "2022-04-04 08:46:19.402135: I tensorflow/stream_executor/platform/default/dso_loader.cc:44] Successfully opened dynamic library libcublas.so.10.0\n",
      "2022-04-04 08:46:19.402165: I tensorflow/stream_executor/platform/default/dso_loader.cc:44] Successfully opened dynamic library libcufft.so.10.0\n",
      "2022-04-04 08:46:19.402194: I tensorflow/stream_executor/platform/default/dso_loader.cc:44] Successfully opened dynamic library libcurand.so.10.0\n",
      "2022-04-04 08:46:19.402224: I tensorflow/stream_executor/platform/default/dso_loader.cc:44] Successfully opened dynamic library libcusolver.so.10.0\n",
      "2022-04-04 08:46:19.402252: I tensorflow/stream_executor/platform/default/dso_loader.cc:44] Successfully opened dynamic library libcusparse.so.10.0\n",
      "2022-04-04 08:46:19.402282: I tensorflow/stream_executor/platform/default/dso_loader.cc:44] Successfully opened dynamic library libcudnn.so.7\n",
      "2022-04-04 08:46:19.427584: I tensorflow/core/common_runtime/gpu/gpu_device.cc:1746] Adding visible gpu devices: 0, 1, 2, 3, 4, 5, 6\n",
      "2022-04-04 08:46:19.428408: I tensorflow/stream_executor/platform/default/dso_loader.cc:44] Successfully opened dynamic library libcudart.so.10.0\n",
      "2022-04-04 08:46:19.440486: I tensorflow/core/common_runtime/gpu/gpu_device.cc:1159] Device interconnect StreamExecutor with strength 1 edge matrix:\n",
      "2022-04-04 08:46:19.440564: I tensorflow/core/common_runtime/gpu/gpu_device.cc:1165]      0 1 2 3 4 5 6 \n",
      "2022-04-04 08:46:19.440578: I tensorflow/core/common_runtime/gpu/gpu_device.cc:1178] 0:   N Y Y N N N N \n",
      "2022-04-04 08:46:19.440588: I tensorflow/core/common_runtime/gpu/gpu_device.cc:1178] 1:   Y N Y N N N N \n",
      "2022-04-04 08:46:19.440596: I tensorflow/core/common_runtime/gpu/gpu_device.cc:1178] 2:   Y Y N N N N N \n",
      "2022-04-04 08:46:19.440604: I tensorflow/core/common_runtime/gpu/gpu_device.cc:1178] 3:   N N N N Y Y Y \n",
      "2022-04-04 08:46:19.440613: I tensorflow/core/common_runtime/gpu/gpu_device.cc:1178] 4:   N N N Y N Y Y \n",
      "2022-04-04 08:46:19.440621: I tensorflow/core/common_runtime/gpu/gpu_device.cc:1178] 5:   N N N Y Y N Y \n",
      "2022-04-04 08:46:19.440630: I tensorflow/core/common_runtime/gpu/gpu_device.cc:1178] 6:   N N N Y Y Y N \n",
      "2022-04-04 08:46:19.461744: I tensorflow/core/common_runtime/gpu/gpu_device.cc:1304] Created TensorFlow device (/job:localhost/replica:0/task:0/device:GPU:0 with 9866 MB memory) -> physical GPU (device: 0, name: NVIDIA TITAN Xp COLLECTORS EDITION, pci bus id: 0000:04:00.0, compute capability: 6.1)\n",
      "2022-04-04 08:46:19.474972: I tensorflow/core/common_runtime/gpu/gpu_device.cc:1304] Created TensorFlow device (/job:localhost/replica:0/task:0/device:GPU:1 with 11444 MB memory) -> physical GPU (device: 1, name: NVIDIA TITAN Xp COLLECTORS EDITION, pci bus id: 0000:05:00.0, compute capability: 6.1)\n",
      "2022-04-04 08:46:19.481207: I tensorflow/core/common_runtime/gpu/gpu_device.cc:1304] Created TensorFlow device (/job:localhost/replica:0/task:0/device:GPU:2 with 11444 MB memory) -> physical GPU (device: 2, name: NVIDIA TITAN Xp COLLECTORS EDITION, pci bus id: 0000:09:00.0, compute capability: 6.1)\n",
      "2022-04-04 08:46:19.494428: I tensorflow/core/common_runtime/gpu/gpu_device.cc:1304] Created TensorFlow device (/job:localhost/replica:0/task:0/device:GPU:3 with 11444 MB memory) -> physical GPU (device: 3, name: NVIDIA TITAN Xp COLLECTORS EDITION, pci bus id: 0000:83:00.0, compute capability: 6.1)\n",
      "2022-04-04 08:46:19.496736: I tensorflow/core/common_runtime/gpu/gpu_device.cc:1304] Created TensorFlow device (/job:localhost/replica:0/task:0/device:GPU:4 with 11444 MB memory) -> physical GPU (device: 4, name: NVIDIA TITAN Xp COLLECTORS EDITION, pci bus id: 0000:84:00.0, compute capability: 6.1)\n",
      "2022-04-04 08:46:19.503574: I tensorflow/core/common_runtime/gpu/gpu_device.cc:1304] Created TensorFlow device (/job:localhost/replica:0/task:0/device:GPU:5 with 11444 MB memory) -> physical GPU (device: 5, name: NVIDIA TITAN Xp COLLECTORS EDITION, pci bus id: 0000:87:00.0, compute capability: 6.1)\n",
      "2022-04-04 08:46:19.508409: I tensorflow/core/common_runtime/gpu/gpu_device.cc:1304] Created TensorFlow device (/job:localhost/replica:0/task:0/device:GPU:6 with 11444 MB memory) -> physical GPU (device: 6, name: NVIDIA TITAN Xp COLLECTORS EDITION, pci bus id: 0000:88:00.0, compute capability: 6.1)\n"
     ]
    },
    {
     "name": "stdout",
     "output_type": "stream",
     "text": [
      "Processed 19047 images\n"
     ]
    }
   ],
   "source": [
    "validate_individual_tfrecords(\n",
    "    tfrecord_paths=tfrecord_paths_utils.dhs(),\n",
    "    csv_path='data/dhs_clusters.csv',\n",
    "    label_name='wealthpooled')"
   ]
  },
  {
   "cell_type": "code",
   "execution_count": null,
   "metadata": {},
   "outputs": [],
   "source": [
    "validate_individual_tfrecords(\n",
    "    tfrecord_paths=tfrecord_paths_utils.dhsnl(),\n",
    "    csv_path='data/dhsnl_locs.csv')"
   ]
  },
  {
   "cell_type": "code",
   "execution_count": null,
   "metadata": {},
   "outputs": [],
   "source": [
    "validate_individual_tfrecords(\n",
    "    tfrecord_paths=tfrecord_paths_utils.lsms(),\n",
    "    csv_path='data/lsms_clusters.csv')"
   ]
  },
  {
   "cell_type": "markdown",
   "metadata": {},
   "source": [
    "## Calculate Mean and Std-Dev for Each Band\n",
    "\n",
    "The means and standard deviations calculated here are saved as constants in `batchers/dataset_constants.py` for `_MEANS_DHS`, `_STD_DEVS_DHS`, `_MEANS_LSMS`, and `_STD_DEVS_LSMS`."
   ]
  },
  {
   "cell_type": "code",
   "execution_count": 8,
   "metadata": {},
   "outputs": [],
   "source": [
    "def calculate_mean_std(tfrecord_paths):\n",
    "    '''Calculates and prints the per-band means and std-devs'''\n",
    "    iter_init, batch_op = batcher.Batcher(\n",
    "        tfrecord_files=tfrecord_paths,\n",
    "        label_name=None,\n",
    "        ls_bands='ms',\n",
    "        nl_band='merge',\n",
    "        batch_size=128,\n",
    "        shuffle=False,\n",
    "        augment=False,\n",
    "        clipneg=False,\n",
    "        normalize=None).get_batch()\n",
    "\n",
    "    stats = analyze_tfrecord_batch(\n",
    "        iter_init, batch_op, total_num_images=len(tfrecord_paths),\n",
    "        nbands=len(BANDS_ORDER), k=10)\n",
    "    means, stds = per_band_mean_std(stats=stats, band_order=BANDS_ORDER)\n",
    "\n",
    "    print('Means:')\n",
    "    pprint(means)\n",
    "    print()\n",
    "\n",
    "    print('Std Devs:')\n",
    "    pprint(stds)\n",
    "\n",
    "    print('\\n========== Additional Per-band Statistics ==========\\n')\n",
    "    print_analysis_results(stats, BANDS_ORDER)"
   ]
  },
  {
   "cell_type": "code",
   "execution_count": 9,
   "metadata": {
    "scrolled": true
   },
   "outputs": [
    {
     "ename": "AssertionError",
     "evalue": "",
     "output_type": "error",
     "traceback": [
      "\u001b[0;31m---------------------------------------------------------------------------\u001b[0m",
      "\u001b[0;31mAssertionError\u001b[0m                            Traceback (most recent call last)",
      "\u001b[0;32m/tmp/ipykernel_1454/3259713532.py\u001b[0m in \u001b[0;36m<module>\u001b[0;34m\u001b[0m\n\u001b[0;32m----> 1\u001b[0;31m \u001b[0mcalculate_mean_std\u001b[0m\u001b[0;34m(\u001b[0m\u001b[0mtfrecord_paths_utils\u001b[0m\u001b[0;34m.\u001b[0m\u001b[0mdhs\u001b[0m\u001b[0;34m(\u001b[0m\u001b[0;34m)\u001b[0m\u001b[0;34m)\u001b[0m\u001b[0;34m\u001b[0m\u001b[0;34m\u001b[0m\u001b[0m\n\u001b[0m",
      "\u001b[0;32m/data/zzw/africa_poverty_clean-main/batchers/tfrecord_paths_utils.py\u001b[0m in \u001b[0;36mdhs\u001b[0;34m()\u001b[0m\n\u001b[1;32m     23\u001b[0m     \u001b[0mReturns\u001b[0m\u001b[0;34m:\u001b[0m \u001b[0mnp\u001b[0m\u001b[0;34m.\u001b[0m\u001b[0marray\u001b[0m \u001b[0mof\u001b[0m \u001b[0mstr\u001b[0m\u001b[0;34m,\u001b[0m \u001b[0msorted\u001b[0m \u001b[0mpaths\u001b[0m \u001b[0mto\u001b[0m \u001b[0mTFRecord\u001b[0m \u001b[0mfiles\u001b[0m\u001b[0;34m\u001b[0m\u001b[0;34m\u001b[0m\u001b[0m\n\u001b[1;32m     24\u001b[0m     '''\n\u001b[0;32m---> 25\u001b[0;31m     \u001b[0;32mreturn\u001b[0m \u001b[0mdhs_ooc\u001b[0m\u001b[0;34m(\u001b[0m\u001b[0msplit\u001b[0m\u001b[0;34m=\u001b[0m\u001b[0;34m'all'\u001b[0m\u001b[0;34m,\u001b[0m \u001b[0mdataset\u001b[0m\u001b[0;34m=\u001b[0m\u001b[0;34m'DHS_OOC_A'\u001b[0m\u001b[0;34m)\u001b[0m\u001b[0;34m\u001b[0m\u001b[0;34m\u001b[0m\u001b[0m\n\u001b[0m\u001b[1;32m     26\u001b[0m \u001b[0;34m\u001b[0m\u001b[0m\n\u001b[1;32m     27\u001b[0m \u001b[0;34m\u001b[0m\u001b[0m\n",
      "\u001b[0;32m/data/zzw/africa_poverty_clean-main/batchers/tfrecord_paths_utils.py\u001b[0m in \u001b[0;36mdhs_ooc\u001b[0;34m(dataset, split)\u001b[0m\n\u001b[1;32m     67\u001b[0m                 DHS_TFRECORDS_PATH_ROOT, country_year + '*', '*.tfrecord.gz')\n\u001b[1;32m     68\u001b[0m             \u001b[0mtfrecord_paths\u001b[0m \u001b[0;34m+=\u001b[0m \u001b[0mglob\u001b[0m\u001b[0;34m(\u001b[0m\u001b[0mglob_path\u001b[0m\u001b[0;34m)\u001b[0m\u001b[0;34m\u001b[0m\u001b[0;34m\u001b[0m\u001b[0m\n\u001b[0;32m---> 69\u001b[0;31m     \u001b[0;32massert\u001b[0m \u001b[0mlen\u001b[0m\u001b[0;34m(\u001b[0m\u001b[0mtfrecord_paths\u001b[0m\u001b[0;34m)\u001b[0m \u001b[0;34m==\u001b[0m \u001b[0mSIZES\u001b[0m\u001b[0;34m[\u001b[0m\u001b[0mdataset\u001b[0m\u001b[0;34m]\u001b[0m\u001b[0;34m[\u001b[0m\u001b[0msplit\u001b[0m\u001b[0;34m]\u001b[0m\u001b[0;34m\u001b[0m\u001b[0;34m\u001b[0m\u001b[0m\n\u001b[0m\u001b[1;32m     70\u001b[0m     \u001b[0;32mreturn\u001b[0m \u001b[0mnp\u001b[0m\u001b[0;34m.\u001b[0m\u001b[0msort\u001b[0m\u001b[0;34m(\u001b[0m\u001b[0mtfrecord_paths\u001b[0m\u001b[0;34m)\u001b[0m\u001b[0;34m\u001b[0m\u001b[0;34m\u001b[0m\u001b[0m\n\u001b[1;32m     71\u001b[0m \u001b[0;34m\u001b[0m\u001b[0m\n",
      "\u001b[0;31mAssertionError\u001b[0m: "
     ]
    }
   ],
   "source": [
    "calculate_mean_std(tfrecord_paths_utils.dhs())"
   ]
  },
  {
   "cell_type": "code",
   "execution_count": 10,
   "metadata": {},
   "outputs": [
    {
     "name": "stdout",
     "output_type": "stream",
     "text": [
      "WARNING:tensorflow:From /data/zzw/africa_poverty_clean-main/batchers/batcher.py:149: DatasetV1.make_initializable_iterator (from tensorflow.python.data.ops.dataset_ops) is deprecated and will be removed in a future version.\n",
      "Instructions for updating:\n",
      "Use `for ... in dataset:` to iterate over a dataset. If using `tf.estimator`, return the `Dataset` object directly from your input function. As a last resort, you can use `tf.compat.v1.data.make_initializable_iterator(dataset)`.\n",
      "WARNING:tensorflow:From /data/zzw/africa_poverty_clean-main/preprocessing/helper.py:57: The name tf.Session is deprecated. Please use tf.compat.v1.Session instead.\n",
      "\n"
     ]
    },
    {
     "name": "stderr",
     "output_type": "stream",
     "text": [
      "2021-11-23 20:06:35.819208: I tensorflow/stream_executor/platform/default/dso_loader.cc:44] Successfully opened dynamic library libcuda.so.1\n",
      "2021-11-23 20:06:38.735188: I tensorflow/core/common_runtime/gpu/gpu_device.cc:1618] Found device 0 with properties: \n",
      "name: NVIDIA TITAN Xp COLLECTORS EDITION major: 6 minor: 1 memoryClockRate(GHz): 1.582\n",
      "pciBusID: 0000:04:00.0\n",
      "2021-11-23 20:06:38.736581: I tensorflow/core/common_runtime/gpu/gpu_device.cc:1618] Found device 1 with properties: \n",
      "name: NVIDIA TITAN Xp COLLECTORS EDITION major: 6 minor: 1 memoryClockRate(GHz): 1.582\n",
      "pciBusID: 0000:05:00.0\n",
      "2021-11-23 20:06:38.737577: I tensorflow/core/common_runtime/gpu/gpu_device.cc:1618] Found device 2 with properties: \n",
      "name: NVIDIA TITAN Xp COLLECTORS EDITION major: 6 minor: 1 memoryClockRate(GHz): 1.582\n",
      "pciBusID: 0000:09:00.0\n",
      "2021-11-23 20:06:38.738598: I tensorflow/core/common_runtime/gpu/gpu_device.cc:1618] Found device 3 with properties: \n",
      "name: NVIDIA TITAN Xp COLLECTORS EDITION major: 6 minor: 1 memoryClockRate(GHz): 1.582\n",
      "pciBusID: 0000:83:00.0\n",
      "2021-11-23 20:06:38.739968: I tensorflow/core/common_runtime/gpu/gpu_device.cc:1618] Found device 4 with properties: \n",
      "name: NVIDIA TITAN Xp COLLECTORS EDITION major: 6 minor: 1 memoryClockRate(GHz): 1.582\n",
      "pciBusID: 0000:84:00.0\n",
      "2021-11-23 20:06:38.741062: I tensorflow/core/common_runtime/gpu/gpu_device.cc:1618] Found device 5 with properties: \n",
      "name: NVIDIA TITAN Xp COLLECTORS EDITION major: 6 minor: 1 memoryClockRate(GHz): 1.582\n",
      "pciBusID: 0000:87:00.0\n",
      "2021-11-23 20:06:38.742513: I tensorflow/core/common_runtime/gpu/gpu_device.cc:1618] Found device 6 with properties: \n",
      "name: NVIDIA TITAN Xp COLLECTORS EDITION major: 6 minor: 1 memoryClockRate(GHz): 1.582\n",
      "pciBusID: 0000:88:00.0\n",
      "2021-11-23 20:06:38.742897: I tensorflow/stream_executor/platform/default/dso_loader.cc:44] Successfully opened dynamic library libcudart.so.10.0\n",
      "2021-11-23 20:06:38.745280: I tensorflow/stream_executor/platform/default/dso_loader.cc:44] Successfully opened dynamic library libcublas.so.10.0\n",
      "2021-11-23 20:06:38.747065: I tensorflow/stream_executor/platform/default/dso_loader.cc:44] Successfully opened dynamic library libcufft.so.10.0\n",
      "2021-11-23 20:06:38.747435: I tensorflow/stream_executor/platform/default/dso_loader.cc:44] Successfully opened dynamic library libcurand.so.10.0\n",
      "2021-11-23 20:06:38.749648: I tensorflow/stream_executor/platform/default/dso_loader.cc:44] Successfully opened dynamic library libcusolver.so.10.0\n",
      "2021-11-23 20:06:38.751291: I tensorflow/stream_executor/platform/default/dso_loader.cc:44] Successfully opened dynamic library libcusparse.so.10.0\n",
      "2021-11-23 20:06:38.756548: I tensorflow/stream_executor/platform/default/dso_loader.cc:44] Successfully opened dynamic library libcudnn.so.7\n",
      "2021-11-23 20:06:38.775185: I tensorflow/core/common_runtime/gpu/gpu_device.cc:1746] Adding visible gpu devices: 0, 1, 2, 3, 4, 5, 6\n",
      "2021-11-23 20:06:38.776858: I tensorflow/core/platform/cpu_feature_guard.cc:142] Your CPU supports instructions that this TensorFlow binary was not compiled to use: SSE4.1 SSE4.2 AVX AVX2 FMA\n",
      "2021-11-23 20:06:38.805729: I tensorflow/core/platform/profile_utils/cpu_utils.cc:94] CPU Frequency: 2095324999 Hz\n",
      "2021-11-23 20:06:38.807854: I tensorflow/compiler/xla/service/service.cc:168] XLA service 0x5568efcd67e0 initialized for platform Host (this does not guarantee that XLA will be used). Devices:\n",
      "2021-11-23 20:06:38.807887: I tensorflow/compiler/xla/service/service.cc:176]   StreamExecutor device (0): Host, Default Version\n",
      "2021-11-23 20:06:41.643666: I tensorflow/compiler/xla/service/service.cc:168] XLA service 0x5568f1710ba0 initialized for platform CUDA (this does not guarantee that XLA will be used). Devices:\n",
      "2021-11-23 20:06:41.643713: I tensorflow/compiler/xla/service/service.cc:176]   StreamExecutor device (0): NVIDIA TITAN Xp COLLECTORS EDITION, Compute Capability 6.1\n",
      "2021-11-23 20:06:41.643724: I tensorflow/compiler/xla/service/service.cc:176]   StreamExecutor device (1): NVIDIA TITAN Xp COLLECTORS EDITION, Compute Capability 6.1\n",
      "2021-11-23 20:06:41.643733: I tensorflow/compiler/xla/service/service.cc:176]   StreamExecutor device (2): NVIDIA TITAN Xp COLLECTORS EDITION, Compute Capability 6.1\n",
      "2021-11-23 20:06:41.643742: I tensorflow/compiler/xla/service/service.cc:176]   StreamExecutor device (3): NVIDIA TITAN Xp COLLECTORS EDITION, Compute Capability 6.1\n",
      "2021-11-23 20:06:41.643750: I tensorflow/compiler/xla/service/service.cc:176]   StreamExecutor device (4): NVIDIA TITAN Xp COLLECTORS EDITION, Compute Capability 6.1\n",
      "2021-11-23 20:06:41.643759: I tensorflow/compiler/xla/service/service.cc:176]   StreamExecutor device (5): NVIDIA TITAN Xp COLLECTORS EDITION, Compute Capability 6.1\n",
      "2021-11-23 20:06:41.643767: I tensorflow/compiler/xla/service/service.cc:176]   StreamExecutor device (6): NVIDIA TITAN Xp COLLECTORS EDITION, Compute Capability 6.1\n",
      "2021-11-23 20:06:41.673013: I tensorflow/core/common_runtime/gpu/gpu_device.cc:1618] Found device 0 with properties: \n",
      "name: NVIDIA TITAN Xp COLLECTORS EDITION major: 6 minor: 1 memoryClockRate(GHz): 1.582\n",
      "pciBusID: 0000:04:00.0\n",
      "2021-11-23 20:06:41.674545: I tensorflow/core/common_runtime/gpu/gpu_device.cc:1618] Found device 1 with properties: \n",
      "name: NVIDIA TITAN Xp COLLECTORS EDITION major: 6 minor: 1 memoryClockRate(GHz): 1.582\n",
      "pciBusID: 0000:05:00.0\n",
      "2021-11-23 20:06:41.675526: I tensorflow/core/common_runtime/gpu/gpu_device.cc:1618] Found device 2 with properties: \n",
      "name: NVIDIA TITAN Xp COLLECTORS EDITION major: 6 minor: 1 memoryClockRate(GHz): 1.582\n",
      "pciBusID: 0000:09:00.0\n",
      "2021-11-23 20:06:41.676507: I tensorflow/core/common_runtime/gpu/gpu_device.cc:1618] Found device 3 with properties: \n",
      "name: NVIDIA TITAN Xp COLLECTORS EDITION major: 6 minor: 1 memoryClockRate(GHz): 1.582\n",
      "pciBusID: 0000:83:00.0\n",
      "2021-11-23 20:06:41.686202: I tensorflow/core/common_runtime/gpu/gpu_device.cc:1618] Found device 4 with properties: \n",
      "name: NVIDIA TITAN Xp COLLECTORS EDITION major: 6 minor: 1 memoryClockRate(GHz): 1.582\n",
      "pciBusID: 0000:84:00.0\n",
      "2021-11-23 20:06:41.690737: I tensorflow/core/common_runtime/gpu/gpu_device.cc:1618] Found device 5 with properties: \n",
      "name: NVIDIA TITAN Xp COLLECTORS EDITION major: 6 minor: 1 memoryClockRate(GHz): 1.582\n",
      "pciBusID: 0000:87:00.0\n",
      "2021-11-23 20:06:41.692897: I tensorflow/core/common_runtime/gpu/gpu_device.cc:1618] Found device 6 with properties: \n",
      "name: NVIDIA TITAN Xp COLLECTORS EDITION major: 6 minor: 1 memoryClockRate(GHz): 1.582\n",
      "pciBusID: 0000:88:00.0\n",
      "2021-11-23 20:06:41.694696: I tensorflow/stream_executor/platform/default/dso_loader.cc:44] Successfully opened dynamic library libcudart.so.10.0\n",
      "2021-11-23 20:06:41.694982: I tensorflow/stream_executor/platform/default/dso_loader.cc:44] Successfully opened dynamic library libcublas.so.10.0\n",
      "2021-11-23 20:06:41.695216: I tensorflow/stream_executor/platform/default/dso_loader.cc:44] Successfully opened dynamic library libcufft.so.10.0\n",
      "2021-11-23 20:06:41.695433: I tensorflow/stream_executor/platform/default/dso_loader.cc:44] Successfully opened dynamic library libcurand.so.10.0\n",
      "2021-11-23 20:06:41.695647: I tensorflow/stream_executor/platform/default/dso_loader.cc:44] Successfully opened dynamic library libcusolver.so.10.0\n",
      "2021-11-23 20:06:41.695861: I tensorflow/stream_executor/platform/default/dso_loader.cc:44] Successfully opened dynamic library libcusparse.so.10.0\n",
      "2021-11-23 20:06:41.696076: I tensorflow/stream_executor/platform/default/dso_loader.cc:44] Successfully opened dynamic library libcudnn.so.7\n",
      "2021-11-23 20:06:41.766684: I tensorflow/core/common_runtime/gpu/gpu_device.cc:1746] Adding visible gpu devices: 0, 1, 2, 3, 4, 5, 6\n",
      "2021-11-23 20:06:41.766771: I tensorflow/stream_executor/platform/default/dso_loader.cc:44] Successfully opened dynamic library libcudart.so.10.0\n",
      "2021-11-23 20:06:41.802646: I tensorflow/core/common_runtime/gpu/gpu_device.cc:1159] Device interconnect StreamExecutor with strength 1 edge matrix:\n",
      "2021-11-23 20:06:41.802674: I tensorflow/core/common_runtime/gpu/gpu_device.cc:1165]      0 1 2 3 4 5 6 \n",
      "2021-11-23 20:06:41.802686: I tensorflow/core/common_runtime/gpu/gpu_device.cc:1178] 0:   N Y Y N N N N \n",
      "2021-11-23 20:06:41.802695: I tensorflow/core/common_runtime/gpu/gpu_device.cc:1178] 1:   Y N Y N N N N \n",
      "2021-11-23 20:06:41.802703: I tensorflow/core/common_runtime/gpu/gpu_device.cc:1178] 2:   Y Y N N N N N \n",
      "2021-11-23 20:06:41.802711: I tensorflow/core/common_runtime/gpu/gpu_device.cc:1178] 3:   N N N N Y Y Y \n",
      "2021-11-23 20:06:41.802720: I tensorflow/core/common_runtime/gpu/gpu_device.cc:1178] 4:   N N N Y N Y Y \n",
      "2021-11-23 20:06:41.802730: I tensorflow/core/common_runtime/gpu/gpu_device.cc:1178] 5:   N N N Y Y N Y \n",
      "2021-11-23 20:06:41.802738: I tensorflow/core/common_runtime/gpu/gpu_device.cc:1178] 6:   N N N Y Y Y N \n"
     ]
    },
    {
     "name": "stderr",
     "output_type": "stream",
     "text": [
      "2021-11-23 20:06:41.847851: I tensorflow/core/common_runtime/gpu/gpu_device.cc:1304] Created TensorFlow device (/job:localhost/replica:0/task:0/device:GPU:0 with 11444 MB memory) -> physical GPU (device: 0, name: NVIDIA TITAN Xp COLLECTORS EDITION, pci bus id: 0000:04:00.0, compute capability: 6.1)\n",
      "2021-11-23 20:06:41.857069: I tensorflow/core/common_runtime/gpu/gpu_device.cc:1304] Created TensorFlow device (/job:localhost/replica:0/task:0/device:GPU:1 with 11444 MB memory) -> physical GPU (device: 1, name: NVIDIA TITAN Xp COLLECTORS EDITION, pci bus id: 0000:05:00.0, compute capability: 6.1)\n",
      "2021-11-23 20:06:41.867589: I tensorflow/core/common_runtime/gpu/gpu_device.cc:1304] Created TensorFlow device (/job:localhost/replica:0/task:0/device:GPU:2 with 1246 MB memory) -> physical GPU (device: 2, name: NVIDIA TITAN Xp COLLECTORS EDITION, pci bus id: 0000:09:00.0, compute capability: 6.1)\n",
      "2021-11-23 20:06:41.876561: I tensorflow/core/common_runtime/gpu/gpu_device.cc:1304] Created TensorFlow device (/job:localhost/replica:0/task:0/device:GPU:3 with 1270 MB memory) -> physical GPU (device: 3, name: NVIDIA TITAN Xp COLLECTORS EDITION, pci bus id: 0000:83:00.0, compute capability: 6.1)\n",
      "2021-11-23 20:06:41.888797: I tensorflow/core/common_runtime/gpu/gpu_device.cc:1304] Created TensorFlow device (/job:localhost/replica:0/task:0/device:GPU:4 with 11444 MB memory) -> physical GPU (device: 4, name: NVIDIA TITAN Xp COLLECTORS EDITION, pci bus id: 0000:84:00.0, compute capability: 6.1)\n",
      "2021-11-23 20:06:41.892598: I tensorflow/core/common_runtime/gpu/gpu_device.cc:1304] Created TensorFlow device (/job:localhost/replica:0/task:0/device:GPU:5 with 4735 MB memory) -> physical GPU (device: 5, name: NVIDIA TITAN Xp COLLECTORS EDITION, pci bus id: 0000:87:00.0, compute capability: 6.1)\n",
      "2021-11-23 20:06:41.896156: I tensorflow/core/common_runtime/gpu/gpu_device.cc:1304] Created TensorFlow device (/job:localhost/replica:0/task:0/device:GPU:6 with 11444 MB memory) -> physical GPU (device: 6, name: NVIDIA TITAN Xp COLLECTORS EDITION, pci bus id: 0000:88:00.0, compute capability: 6.1)\n"
     ]
    },
    {
     "name": "stdout",
     "output_type": "stream",
     "text": [
      "\r",
      "Finished. Processed 0 images.\n",
      "Time per batch - mean: nans, std: nans\n",
      "Time to process each batch - mean: nans, std: nans\n",
      "Total time: 6.300s, Num batches: 0\n",
      "Means:\n",
      "{'BLUE': nan,\n",
      " 'DMSP': nan,\n",
      " 'GREEN': nan,\n",
      " 'NIR': nan,\n",
      " 'RED': nan,\n",
      " 'SWIR1': nan,\n",
      " 'SWIR2': nan,\n",
      " 'TEMP1': nan,\n",
      " 'VIIRS': nan}\n",
      "\n",
      "Std Devs:\n",
      "{'BLUE': nan,\n",
      " 'DMSP': nan,\n",
      " 'GREEN': nan,\n",
      " 'NIR': nan,\n",
      " 'RED': nan,\n",
      " 'SWIR1': nan,\n",
      " 'SWIR2': nan,\n",
      " 'TEMP1': nan,\n",
      " 'VIIRS': nan}\n",
      "\n",
      "========== Additional Per-band Statistics ==========\n",
      "\n",
      "Statistics including bad pixels\n",
      "Band BLUE     - mean:        nan, std:       nan, min:         inf, max:    0.000000\n",
      "Band GREEN    - mean:        nan, std:       nan, min:         inf, max:    0.000000\n",
      "Band RED      - mean:        nan, std:       nan, min:         inf, max:    0.000000\n",
      "Band SWIR1    - mean:        nan, std:       nan, min:         inf, max:    0.000000\n",
      "Band SWIR2    - mean:        nan, std:       nan, min:         inf, max:    0.000000\n",
      "Band TEMP1    - mean:        nan, std:       nan, min:         inf, max:    0.000000\n",
      "Band NIR      - mean:        nan, std:       nan, min:         inf, max:    0.000000\n",
      "Band DMSP     - mean:        nan, std:       nan, min:         inf, max:    0.000000\n",
      "Band VIIRS    - mean:        nan, std:       nan, min:         inf, max:    0.000000\n",
      "\n",
      "Statistics ignoring any 0s and negative values\n",
      "Band BLUE     - mean:        nan, std:       nan, min:         inf, max:    0.000000, mean_nz: nan\n",
      "Band GREEN    - mean:        nan, std:       nan, min:         inf, max:    0.000000, mean_nz: nan\n",
      "Band RED      - mean:        nan, std:       nan, min:         inf, max:    0.000000, mean_nz: nan\n",
      "Band SWIR1    - mean:        nan, std:       nan, min:         inf, max:    0.000000, mean_nz: nan\n",
      "Band SWIR2    - mean:        nan, std:       nan, min:         inf, max:    0.000000, mean_nz: nan\n",
      "Band TEMP1    - mean:        nan, std:       nan, min:         inf, max:    0.000000, mean_nz: nan\n",
      "Band NIR      - mean:        nan, std:       nan, min:         inf, max:    0.000000, mean_nz: nan\n",
      "Band DMSP     - mean:        nan, std:       nan, min:         inf, max:    0.000000, mean_nz: nan\n",
      "Band VIIRS    - mean:        nan, std:       nan, min:         inf, max:    0.000000, mean_nz: nan\n",
      "\n",
      "Statistics excluding the bad pixels\n",
      "Band BLUE     - mean:        nan, std:       nan, min:         inf, max:    0.000000\n",
      "Band GREEN    - mean:        nan, std:       nan, min:         inf, max:    0.000000\n",
      "Band RED      - mean:        nan, std:       nan, min:         inf, max:    0.000000\n",
      "Band SWIR1    - mean:        nan, std:       nan, min:         inf, max:    0.000000\n",
      "Band SWIR2    - mean:        nan, std:       nan, min:         inf, max:    0.000000\n",
      "Band TEMP1    - mean:        nan, std:       nan, min:         inf, max:    0.000000\n",
      "Band NIR      - mean:        nan, std:       nan, min:         inf, max:    0.000000\n",
      "Band DMSP     - mean:        nan, std:       nan, min:         inf, max:    0.000000\n",
      "Band VIIRS    - mean:        nan, std:       nan, min:         inf, max:    0.000000\n"
     ]
    },
    {
     "name": "stderr",
     "output_type": "stream",
     "text": [
      "/home/zzw/anaconda3/envs/r3py3/lib/python3.7/site-packages/numpy/core/fromnumeric.py:3420: RuntimeWarning: Mean of empty slice.\n",
      "  out=out, **kwargs)\n",
      "/home/zzw/anaconda3/envs/r3py3/lib/python3.7/site-packages/numpy/core/_methods.py:188: RuntimeWarning: invalid value encountered in double_scalars\n",
      "  ret = ret.dtype.type(ret / rcount)\n",
      "/home/zzw/anaconda3/envs/r3py3/lib/python3.7/site-packages/numpy/core/_methods.py:262: RuntimeWarning: Degrees of freedom <= 0 for slice\n",
      "  keepdims=keepdims, where=where)\n",
      "/home/zzw/anaconda3/envs/r3py3/lib/python3.7/site-packages/numpy/core/_methods.py:222: RuntimeWarning: invalid value encountered in true_divide\n",
      "  subok=False)\n",
      "/home/zzw/anaconda3/envs/r3py3/lib/python3.7/site-packages/numpy/core/_methods.py:253: RuntimeWarning: invalid value encountered in double_scalars\n",
      "  ret = ret.dtype.type(ret / rcount)\n",
      "/data/zzw/africa_poverty_clean-main/preprocessing/helper.py:154: RuntimeWarning: invalid value encountered in true_divide\n",
      "  means = sums / float(num_total_pixels)\n",
      "/data/zzw/africa_poverty_clean-main/preprocessing/helper.py:155: RuntimeWarning: invalid value encountered in true_divide\n",
      "  stds = np.sqrt(sum_sqs/float(num_total_pixels) - means**2)\n",
      "/data/zzw/africa_poverty_clean-main/preprocessing/helper.py:184: RuntimeWarning: invalid value encountered in true_divide\n",
      "  means = sums / float(total_pixels_per_band)\n",
      "/data/zzw/africa_poverty_clean-main/preprocessing/helper.py:185: RuntimeWarning: invalid value encountered in true_divide\n",
      "  stds = np.sqrt(sum_sqs/float(total_pixels_per_band) - means**2)\n",
      "/data/zzw/africa_poverty_clean-main/preprocessing/helper.py:192: RuntimeWarning: invalid value encountered in true_divide\n",
      "  means = sums / nz_pixels\n",
      "/data/zzw/africa_poverty_clean-main/preprocessing/helper.py:193: RuntimeWarning: invalid value encountered in true_divide\n",
      "  stds = np.sqrt(sum_sqs/nz_pixels - means**2)\n",
      "/data/zzw/africa_poverty_clean-main/preprocessing/helper.py:194: RuntimeWarning: invalid value encountered in true_divide\n",
      "  avg_nz_pixels = nz_pixels.astype(np.float32) / images_count\n",
      "/data/zzw/africa_poverty_clean-main/preprocessing/helper.py:202: RuntimeWarning: invalid value encountered in true_divide\n",
      "  means = sums / float(num_total_pixels)\n",
      "/data/zzw/africa_poverty_clean-main/preprocessing/helper.py:203: RuntimeWarning: invalid value encountered in true_divide\n",
      "  stds = np.sqrt(sum_sqs/float(num_total_pixels) - means**2)\n"
     ]
    }
   ],
   "source": [
    "calculate_mean_std(tfrecord_paths_utils.dhsnl())"
   ]
  },
  {
   "cell_type": "code",
   "execution_count": 11,
   "metadata": {
    "scrolled": true
   },
   "outputs": [
    {
     "ename": "NotImplementedError",
     "evalue": "",
     "output_type": "error",
     "traceback": [
      "\u001b[0;31m---------------------------------------------------------------------------\u001b[0m",
      "\u001b[0;31mNotImplementedError\u001b[0m                       Traceback (most recent call last)",
      "\u001b[0;32m/tmp/ipykernel_1454/4154974566.py\u001b[0m in \u001b[0;36m<module>\u001b[0;34m\u001b[0m\n\u001b[0;32m----> 1\u001b[0;31m \u001b[0mcalculate_mean_std\u001b[0m\u001b[0;34m(\u001b[0m\u001b[0mtfrecord_paths_utils\u001b[0m\u001b[0;34m.\u001b[0m\u001b[0mlsms\u001b[0m\u001b[0;34m(\u001b[0m\u001b[0;34m)\u001b[0m\u001b[0;34m)\u001b[0m\u001b[0;34m\u001b[0m\u001b[0;34m\u001b[0m\u001b[0m\n\u001b[0m",
      "\u001b[0;32m/data/zzw/africa_poverty_clean-main/batchers/tfrecord_paths_utils.py\u001b[0m in \u001b[0;36mlsms\u001b[0;34m()\u001b[0m\n\u001b[1;32m     31\u001b[0m     \u001b[0mReturns\u001b[0m\u001b[0;34m:\u001b[0m \u001b[0mnp\u001b[0m\u001b[0;34m.\u001b[0m\u001b[0marray\u001b[0m \u001b[0mof\u001b[0m \u001b[0mstr\u001b[0m\u001b[0;34m,\u001b[0m \u001b[0msorted\u001b[0m \u001b[0mpaths\u001b[0m \u001b[0mto\u001b[0m \u001b[0mTFRecord\u001b[0m \u001b[0mfiles\u001b[0m\u001b[0;34m\u001b[0m\u001b[0;34m\u001b[0m\u001b[0m\n\u001b[1;32m     32\u001b[0m     '''\n\u001b[0;32m---> 33\u001b[0;31m     \u001b[0;32mraise\u001b[0m \u001b[0mNotImplementedError\u001b[0m  \u001b[0;31m# TODO\u001b[0m\u001b[0;34m\u001b[0m\u001b[0;34m\u001b[0m\u001b[0m\n\u001b[0m\u001b[1;32m     34\u001b[0m \u001b[0;34m\u001b[0m\u001b[0m\n\u001b[1;32m     35\u001b[0m \u001b[0;34m\u001b[0m\u001b[0m\n",
      "\u001b[0;31mNotImplementedError\u001b[0m: "
     ]
    }
   ],
   "source": [
    "calculate_mean_std(tfrecord_paths_utils.lsms())"
   ]
  },
  {
   "cell_type": "code",
   "execution_count": null,
   "metadata": {},
   "outputs": [],
   "source": []
  }
 ],
 "metadata": {
  "kernelspec": {
   "display_name": "r3py3",
   "language": "python",
   "name": "r3py3"
  },
  "language_info": {
   "codemirror_mode": {
    "name": "ipython",
    "version": 3
   },
   "file_extension": ".py",
   "mimetype": "text/x-python",
   "name": "python",
   "nbconvert_exporter": "python",
   "pygments_lexer": "ipython3",
   "version": "3.7.0"
  },
  "toc": {
   "base_numbering": 1,
   "nav_menu": {},
   "number_sections": true,
   "sideBar": true,
   "skip_h1_title": false,
   "title_cell": "Table of Contents",
   "title_sidebar": "Contents",
   "toc_cell": true,
   "toc_position": {
    "height": "calc(100% - 180px)",
    "left": "10px",
    "top": "150px",
    "width": "307.2px"
   },
   "toc_section_display": true,
   "toc_window_display": true
  }
 },
 "nbformat": 4,
 "nbformat_minor": 4
}
