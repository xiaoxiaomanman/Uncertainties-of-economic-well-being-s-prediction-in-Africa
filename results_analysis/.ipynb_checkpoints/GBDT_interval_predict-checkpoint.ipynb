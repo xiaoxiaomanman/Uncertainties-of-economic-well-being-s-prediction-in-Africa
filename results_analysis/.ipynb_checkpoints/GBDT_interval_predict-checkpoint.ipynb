{
 "cells": [
  {
   "cell_type": "markdown",
   "metadata": {},
   "source": [
    "## Pre-requisites\n",
    "\n",
    "Before running this notebook, you should have already used the `extract_features.py` script to extract features from models trained on DHS data. You should have the following structure under the `outputs/` directory:\n",
    "\n",
    "```\n",
    "dhs_ooc/\n",
    "    DHS_OOC_A_ms_samescaled_b64_fc01_conv01_lr0001/\n",
    "        features.npz\n",
    "    ...\n",
    "    DHS_OOC_E_rgb_same_b64_fc001_conv001_lr0001/\n",
    "        features.npz\n",
    "dhs_incountry/\n",
    "    DHS_Incountry_A_ms_samescaled_b64_fc01_conv01_lr001/\n",
    "        features.npz\n",
    "    ...\n",
    "    DHS_Incountry_E_nl_random_b64_fc01_conv01_lr001/\n",
    "        features.npz\n",
    "transfer/\n",
    "    transfer_nlcenter_ms_b64_fc001_conv001_lr0001/\n",
    "        features.npz\n",
    "    transfer_nlcenter_rgb_b64_fc001_conv001_lr0001/\n",
    "        features.npz\n",
    "        \n",
    "\n",
    "TODO: update when keep-frac models are added\n",
    "```\n",
    "\n",
    "## Instructions\n",
    "\n",
    "This notebook essentially performs fine-tuning of the final-layer of the Resnet-18 models. However, instead of directly fine-tuning the Resnet-18 models in TensorFlow, we train ridge-regression models using the extracted features. We take this approach for two reasons:\n",
    "\n",
    "1. It is easier to perform leave-one-group-out (\"logo\") cross-validated ridge regression using scikit-learn, as opposed to TensorFlow. For out-of-country (OOC) experiments, the left-out group is the test country. For in-country experiments, the left-out group is the test split.\n",
    "2. We can concatenate the 512-dim features from the RGB/MS CNN models with the 512-dim features from the NL CNN models to form a larger 1024-dim feature vector capturing RGB/MS + NL imagery information. We do this instead of training a CNN with the MS+NL imagery stacked together as an input because we found it to result in better performance.\n",
    "\n",
    "Because of the extensive cross-validation, each \"logo\" CV run may take ~2-4 hours. In total, this notebook may take upwards of 15 hours to complete.\n",
    "\n",
    "After you complete this notebook, use the `model_analysis/dhs_ooc.ipynb` and `model_analysis/dhs_incountry.ipynb` (TODO) notebooks to analyze the final performance of the fine-tuned Resnet-18 models."
   ]
  },
  {
   "cell_type": "markdown",
   "metadata": {},
   "source": [
    "## Imports and Constants"
   ]
  },
  {
   "cell_type": "code",
   "execution_count": 1,
   "metadata": {},
   "outputs": [
    {
     "name": "stdout",
     "output_type": "stream",
     "text": [
      "[WinError 3] 系统找不到指定的路径。: \"'../'\"\n",
      "E:\\africa_poverty_clean-main\\model_analysis\n"
     ]
    }
   ],
   "source": [
    "%cd '../'\n",
    "%load_ext autoreload\n",
    "%autoreload 2\n",
    "%matplotlib inline"
   ]
  },
  {
   "cell_type": "code",
   "execution_count": null,
   "metadata": {},
   "outputs": [],
   "source": []
  }
 ],
 "metadata": {
  "kernelspec": {
   "display_name": "Python 3",
   "language": "python",
   "name": "python3"
  },
  "language_info": {
   "codemirror_mode": {
    "name": "ipython",
    "version": 3
   },
   "file_extension": ".py",
   "mimetype": "text/x-python",
   "name": "python",
   "nbconvert_exporter": "python",
   "pygments_lexer": "ipython3",
   "version": "3.7.0"
  }
 },
 "nbformat": 4,
 "nbformat_minor": 2
}
